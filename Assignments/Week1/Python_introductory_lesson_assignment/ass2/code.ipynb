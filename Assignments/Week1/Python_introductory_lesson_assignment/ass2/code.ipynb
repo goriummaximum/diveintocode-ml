{
 "metadata": {
  "language_info": {
   "codemirror_mode": {
    "name": "ipython",
    "version": 3
   },
   "file_extension": ".py",
   "mimetype": "text/x-python",
   "name": "python",
   "nbconvert_exporter": "python",
   "pygments_lexer": "ipython3",
   "version": "3.8.5-final"
  },
  "orig_nbformat": 2,
  "kernelspec": {
   "name": "python38564bit67abafa0d2de4db49ae6ff50c42d1fc4",
   "display_name": "Python 3.8.5 64-bit",
   "language": "python"
  }
 },
 "nbformat": 4,
 "nbformat_minor": 2,
 "cells": [
  {
   "cell_type": "code",
   "execution_count": 9,
   "metadata": {},
   "outputs": [],
   "source": [
    "import math"
   ]
  },
  {
   "source": [
    "<h3>[Problem 1] Minimum number of folds over Mt. Fuji<h3>"
   ],
   "cell_type": "markdown",
   "metadata": {}
  },
  {
   "cell_type": "code",
   "execution_count": 10,
   "metadata": {},
   "outputs": [],
   "source": [
    "THICKNESS = 0.00008\n",
    "FUJI_HEIGHT = 3776"
   ]
  },
  {
   "cell_type": "code",
   "execution_count": 11,
   "metadata": {},
   "outputs": [
    {
     "output_type": "stream",
     "name": "stdout",
     "text": [
      "Folded 26 times minimum to exceed Mt. Fuji height\n"
     ]
    }
   ],
   "source": [
    "folded_times = math.ceil(math.log2(FUJI_HEIGHT / THICKNESS))\n",
    "print(\"Folded {} times minimum to exceed Mt. Fuji height\".format(folded_times))"
   ]
  },
  {
   "source": [
    "<h3>[Problem 2] Creating a function corresponding to an arbitrary thickness<h3>"
   ],
   "cell_type": "markdown",
   "metadata": {}
  },
  {
   "cell_type": "code",
   "execution_count": 12,
   "metadata": {},
   "outputs": [],
   "source": [
    "def calculate_folded_times(distance, thickness = 0.00008):\n",
    "    \"\"\"\n",
    "    A function that compute the minimum paper folded times needed with a certain thickness to be equal or exceed       the specific distance\n",
    "    --------------\n",
    "    distance: float\n",
    "        A specific distance (m)\n",
    "    thickness: float\n",
    "        Thickess of paper (m) (default: 0.00008)\n",
    "    Returns\n",
    "    --------------\n",
    "    minimum folded times: int\n",
    "    \"\"\"\n",
    "    return math.ceil(math.log2(distance / thickness))"
   ]
  },
  {
   "cell_type": "code",
   "execution_count": 13,
   "metadata": {},
   "outputs": [
    {
     "output_type": "stream",
     "name": "stdout",
     "text": [
      "Folded 67 times minimum with thickness = 0.0005 meters to exceed Alpha Centauri distance\n"
     ]
    }
   ],
   "source": [
    "\"\"\"\n",
    "Closest non-Sun star from Earth is Alpha Centauri. Distance is approximately 4.365 light year away.\n",
    "\"\"\"\n",
    "\n",
    "ALPHA_CENTAURI_DISTANCE = 4.365 * 9.4605284 * 10**15\n",
    "thickness = 0.0005\n",
    "\n",
    "print(\"Folded {} times minimum with thickness = {} meters to exceed Alpha Centauri distance\".format                                                           (calculate_folded_times(ALPHA_CENTAURI_DISTANCE, thickness), thickness))"
   ]
  },
  {
   "source": [
    "<h3>[Problem 3] Required paper length<h3>"
   ],
   "cell_type": "markdown",
   "metadata": {}
  },
  {
   "cell_type": "code",
   "execution_count": 14,
   "metadata": {},
   "outputs": [],
   "source": [
    "def calculate_paper_length(distance, thickness = 0.00008):\n",
    "    \"\"\"\n",
    "    A function that compute the paper length needed with a certain thickness to be equal or exceed the specific         distance\n",
    "    --------------\n",
    "    distance: float\n",
    "        A specific distance (m)\n",
    "    thickness: float\n",
    "        Thickess of paper (m) (default: 0.00008)\n",
    "    Returns\n",
    "    --------------\n",
    "    paper length: int\n",
    "    \"\"\"\n",
    "    n = calculate_folded_times(distance, thickness)\n",
    "    return (math.pi * thickness) * ((2**n) + 4) * ((2**n) - 1) / 6"
   ]
  },
  {
   "cell_type": "code",
   "execution_count": 15,
   "metadata": {},
   "outputs": [
    {
     "output_type": "stream",
     "name": "stdout",
     "text": [
      "Paper length is 188646348487.24014 (m) to reach Mt. Fuji height\nPaper length is 1.4595803601100348e+37 (m) to reach Alpha Centauri\nPaper length is 3.240919444170781e+21 (m) to reach the Moon\n"
     ]
    }
   ],
   "source": [
    "MOON_DISTANCE = 384400 * 1000\n",
    "\n",
    "print(\"Paper length is {} (m) to reach Mt. Fuji height\".format(calculate_paper_length(FUJI_HEIGHT)))\n",
    "print(\"Paper length is {} (m) to reach Alpha Centauri\".format(calculate_paper_length(ALPHA_CENTAURI_DISTANCE)))\n",
    "print(\"Paper length is {} (m) to reach the Moon\".format(calculate_paper_length(MOON_DISTANCE)))"
   ]
  },
  {
   "cell_type": "code",
   "execution_count": null,
   "metadata": {},
   "outputs": [],
   "source": []
  }
 ]
}