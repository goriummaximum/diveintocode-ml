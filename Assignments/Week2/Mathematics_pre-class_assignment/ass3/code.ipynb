{
 "metadata": {
  "language_info": {
   "codemirror_mode": {
    "name": "ipython",
    "version": 3
   },
   "file_extension": ".py",
   "mimetype": "text/x-python",
   "name": "python",
   "nbconvert_exporter": "python",
   "pygments_lexer": "ipython3",
   "version": "3.8.5-final"
  },
  "orig_nbformat": 2,
  "kernelspec": {
   "name": "python38564bit67abafa0d2de4db49ae6ff50c42d1fc4",
   "display_name": "Python 3.8.5 64-bit",
   "language": "python"
  }
 },
 "nbformat": 4,
 "nbformat_minor": 2,
 "cells": [
  {
   "cell_type": "code",
   "execution_count": 36,
   "metadata": {},
   "outputs": [],
   "source": [
    "import numpy as np"
   ]
  },
  {
   "source": [
    "<h3>[Problem 1] Matrix product is calculated manually<h3>"
   ],
   "cell_type": "markdown",
   "metadata": {}
  },
  {
   "source": [
    "A is a matrix m x n; B is a matrix n x p. So the result matrix C has a shape m x p. <br>\n",
    "The calculation process for each result cell: <br>\n",
    "\n",
    "$c_{ij} = \\sum \\limits _{k=1} ^{n} a_{ik}*b_{kj}$\n",
    "\n",
    "for i = 1 to m (representing the row); j = 1 to p (representing the column) <br>\n",
    "Repeat the step for m x p cell <br>\n",
    "----------------<br>\n",
    "A is a 3 x 3 matrix; b is a 3 x 3 matrix. So the result matrix C has a shape 3 x 3 <br>\n",
    "Calculating for each cell using the formula: <br>\n",
    "\n",
    "$c_{ij} = \\sum \\limits _{k=1} ^{3} a_{ik}*b_{kj}$\n",
    "\n",
    "for i = 1 to 3; j = 1 to 3 <br>\n",
    "Repeat the step for 9 cell <br>\n",
    "\n",
    "We get the result matrix:\n",
    "$\\begin{bmatrix} 6 & 29 & -20 \\\\ 12 & 52 & 38 \\\\ -18 & -51 & -48 \\end{bmatrix}$\n",
    "\n"
   ],
   "cell_type": "markdown",
   "metadata": {}
  },
  {
   "source": [
    "<h3>[Problem 2] Calculation by NumPy function<h3>"
   ],
   "cell_type": "markdown",
   "metadata": {}
  },
  {
   "cell_type": "code",
   "execution_count": 37,
   "metadata": {},
   "outputs": [],
   "source": [
    "a_ndarray = np.array([[-1, 2, 3], [4, -5, 6], [7, 8, -9]])\n",
    "b_ndarray = np.array([[0, 2, 1], [0, 2, -8], [2, 9, -1]])"
   ]
  },
  {
   "cell_type": "code",
   "execution_count": 38,
   "metadata": {},
   "outputs": [
    {
     "output_type": "stream",
     "name": "stdout",
     "text": [
      "The product matrix of the multiplication A * B: \n[[  6  29 -20]\n [ 12  52  38]\n [-18 -51 -48]]\n"
     ]
    }
   ],
   "source": [
    "print(\"The product matrix of the multiplication A * B: \\n{}\".format(np.matmul(a_ndarray, b_ndarray)))"
   ]
  },
  {
   "source": [
    "<h3>[Problem 3] Implementation of calculation of a certain element<h3>"
   ],
   "cell_type": "markdown",
   "metadata": {}
  },
  {
   "cell_type": "code",
   "execution_count": 39,
   "metadata": {},
   "outputs": [
    {
     "output_type": "stream",
     "name": "stdout",
     "text": [
      "2.23 µs ± 67.4 ns per loop (mean ± std. dev. of 7 runs, 100000 loops each)\n",
      "2.76 µs ± 35.7 ns per loop (mean ± std. dev. of 7 runs, 100000 loops each)\n"
     ]
    }
   ],
   "source": [
    "i = 1\n",
    "j = 2\n",
    "\n",
    "%timeit c_ij = sum(a_ndarray[i, k] * b_ndarray[k, j] for k in range(0, a_ndarray.shape[1]))\n",
    "%timeit c_ij = sum(a_ndarray[i,:] * b_ndarray[:, j])"
   ]
  },
  {
   "cell_type": "code",
   "execution_count": 40,
   "metadata": {},
   "outputs": [
    {
     "output_type": "stream",
     "name": "stdout",
     "text": [
      "Result at cell (1, 2): 38\n"
     ]
    }
   ],
   "source": [
    "print(\"Result at cell ({}, {}): {}\".format(i, j, c_ij))"
   ]
  },
  {
   "source": [
    "<h3>[Problem 4] Creating a function that performs matrix multiplication<br>\n",
    "and [Problem 5] Judge the input whose calculation is not defined<h3>"
   ],
   "cell_type": "markdown",
   "metadata": {}
  },
  {
   "cell_type": "code",
   "execution_count": 41,
   "metadata": {},
   "outputs": [],
   "source": [
    "def matrix_multiplication(a_matrix, b_matrix):\n",
    "    \"\"\"\n",
    "    A function that compute the matrix multiplication matrix a * matrix b.\n",
    "    Parameter:\n",
    "    --------------\n",
    "    a_matrix: np.array\n",
    "        matrix a\n",
    "    b_matrix: np.array\n",
    "        matrix b\n",
    "    Return:\n",
    "    --------------\n",
    "    A result matrix: np.array\n",
    "    or print to the screen if the input is invalid\n",
    "    \"\"\"\n",
    "    \n",
    "    if (a_matrix.shape[1] != b_matrix.shape[0]):\n",
    "        print(\"Invalid input\")\n",
    "        return\n",
    "    \n",
    "    c_matrix = np.array([])\n",
    "    for i in range(0, a_matrix.shape[0]):\n",
    "        for j in range(0, b_matrix.shape[1]):\n",
    "                c_matrix = np.append(c_matrix, sum(a_matrix[i, k] * b_matrix[k, j] \n",
    "                                                        for k in range(0, a_matrix.shape[1])))\n",
    "    \n",
    "    return c_matrix.reshape(a_matrix.shape[0], b_matrix.shape[1])"
   ]
  },
  {
   "cell_type": "code",
   "execution_count": 50,
   "metadata": {},
   "outputs": [],
   "source": [
    "def matrix_multiplication_2(a_matrix, b_matrix):\n",
    "    \"\"\"\n",
    "    A function that compute the matrix multiplication matrix a * matrix b.\n",
    "    Parameter:\n",
    "    --------------\n",
    "    a_matrix: np.array\n",
    "        matrix a\n",
    "    b_matrix: np.array\n",
    "        matrix b\n",
    "    Return:\n",
    "    --------------\n",
    "    A result matrix: np.array\n",
    "    or print to the screen if the input is invalid\n",
    "    \"\"\"\n",
    "    \n",
    "    if (a_matrix.shape[1] != b_matrix.shape[0]):\n",
    "        print(\"Invalid input\")\n",
    "        return\n",
    "    \n",
    "    c_matrix = np.array([])\n",
    "    for i in range(0, a_matrix.shape[0]):\n",
    "        for j in range(0, b_matrix.shape[1]):\n",
    "                c_matrix = np.append(c_matrix, sum(a_matrix[i,:] * b_matrix[:, j]))\n",
    "    \n",
    "    return c_matrix.reshape(a_matrix.shape[0], b_matrix.shape[1])"
   ]
  },
  {
   "cell_type": "code",
   "execution_count": 43,
   "metadata": {},
   "outputs": [
    {
     "output_type": "stream",
     "name": "stdout",
     "text": [
      "The product matrix of the multiplication A * B: \n[[  6.  29. -20.]\n [ 12.  52.  38.]\n [-18. -51. -48.]]\n"
     ]
    }
   ],
   "source": [
    "print(\"The product matrix of the multiplication A * B: \\n{}\".format(matrix_multiplication(a_ndarray, b_ndarray)))"
   ]
  },
  {
   "cell_type": "code",
   "execution_count": 51,
   "metadata": {},
   "outputs": [
    {
     "output_type": "stream",
     "name": "stdout",
     "text": [
      "72.7 µs ± 1.44 µs per loop (mean ± std. dev. of 7 runs, 10000 loops each)\n",
      "87.3 µs ± 1.66 µs per loop (mean ± std. dev. of 7 runs, 10000 loops each)\n"
     ]
    }
   ],
   "source": [
    "%timeit matrix_multiplication(a_ndarray, b_ndarray)\n",
    "%timeit matrix_multiplication_2(a_ndarray, b_ndarray)"
   ]
  },
  {
   "cell_type": "code",
   "execution_count": 45,
   "metadata": {},
   "outputs": [],
   "source": [
    "d_ndarray = np.array([[-1, 2, 3], [4, -5, 6]])\n",
    "e_ndarray = np.array([[-9, 8, 7], [6, -5, 4]])"
   ]
  },
  {
   "cell_type": "code",
   "execution_count": 46,
   "metadata": {},
   "outputs": [
    {
     "output_type": "stream",
     "name": "stdout",
     "text": [
      "Invalid input\nThe product matrix of the multiplication D * E: \nNone\n"
     ]
    }
   ],
   "source": [
    "print(\"The product matrix of the multiplication D * E: \\n{}\".format(matrix_multiplication(d_ndarray, e_ndarray)))"
   ]
  },
  {
   "cell_type": "code",
   "execution_count": 47,
   "metadata": {
    "tags": []
   },
   "outputs": [
    {
     "output_type": "stream",
     "name": "stdout",
     "text": [
      "970 ns ± 38.9 ns per loop (mean ± std. dev. of 7 runs, 1000000 loops each)\n",
      "1.03 µs ± 15.4 ns per loop (mean ± std. dev. of 7 runs, 1000000 loops each)\n",
      "944 ns ± 17.7 ns per loop (mean ± std. dev. of 7 runs, 1000000 loops each)\n",
      "72.3 µs ± 1.15 µs per loop (mean ± std. dev. of 7 runs, 10000 loops each)\n"
     ]
    }
   ],
   "source": [
    "%timeit np.matmul(a_ndarray, b_ndarray)\n",
    "%timeit np.dot(a_ndarray, b_ndarray)\n",
    "%timeit a_ndarray @ b_ndarray\n",
    "%timeit matrix_multiplication(a_ndarray, b_ndarray)"
   ]
  },
  {
   "source": [
    "<h3>[Problem 6] Transposition<h3>"
   ],
   "cell_type": "markdown",
   "metadata": {}
  },
  {
   "cell_type": "code",
   "execution_count": 48,
   "metadata": {},
   "outputs": [
    {
     "output_type": "stream",
     "name": "stdout",
     "text": [
      "The product matrix of the multiplication D.T * E: \n[[ 33. -28.   9.]\n [-48.  41.  -6.]\n [  9.  -6.  45.]]\n"
     ]
    }
   ],
   "source": [
    "print(\"The product matrix of the multiplication D.T * E: \\n{}\".format(matrix_multiplication(d_ndarray.T, e_ndarray)))"
   ]
  },
  {
   "cell_type": "code",
   "execution_count": 49,
   "metadata": {},
   "outputs": [
    {
     "output_type": "stream",
     "name": "stdout",
     "text": [
      "The product matrix of the multiplication D * E.T: \n[[ 46.  -4.]\n [-34.  73.]]\n"
     ]
    }
   ],
   "source": [
    "print(\"The product matrix of the multiplication D * E.T: \\n{}\".format(matrix_multiplication(d_ndarray, e_ndarray.T)))"
   ]
  },
  {
   "cell_type": "code",
   "execution_count": 52,
   "metadata": {},
   "outputs": [
    {
     "output_type": "stream",
     "name": "stdout",
     "text": [
      "470 µs ± 11.5 µs per loop (mean ± std. dev. of 7 runs, 1000 loops each)\n"
     ]
    }
   ],
   "source": [
    "%%timeit\n",
    "a = []\n",
    "for i in range(0, 10000):\n",
    "    a.append(i)"
   ]
  },
  {
   "cell_type": "code",
   "execution_count": 53,
   "metadata": {},
   "outputs": [
    {
     "output_type": "stream",
     "name": "stdout",
     "text": [
      "257 µs ± 5.54 µs per loop (mean ± std. dev. of 7 runs, 1000 loops each)\n"
     ]
    }
   ],
   "source": [
    "%%timeit\n",
    "b = [i for i in range(0, 10000)]"
   ]
  }
 ]
}