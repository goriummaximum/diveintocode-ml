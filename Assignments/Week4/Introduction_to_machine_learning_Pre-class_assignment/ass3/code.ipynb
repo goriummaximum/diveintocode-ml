{
 "metadata": {
  "language_info": {
   "codemirror_mode": {
    "name": "ipython",
    "version": 3
   },
   "file_extension": ".py",
   "mimetype": "text/x-python",
   "name": "python",
   "nbconvert_exporter": "python",
   "pygments_lexer": "ipython3",
   "version": "3.8.5"
  },
  "orig_nbformat": 2,
  "kernelspec": {
   "name": "python38564bit67abafa0d2de4db49ae6ff50c42d1fc4",
   "display_name": "Python 3.8.5 64-bit"
  },
  "metadata": {
   "interpreter": {
    "hash": "916dbcbb3f70747c44a77c7bcd40155683ae19c65e1c03b4aa3499c5328201f1"
   }
  }
 },
 "nbformat": 4,
 "nbformat_minor": 2,
 "cells": [
  {
   "cell_type": "code",
   "execution_count": 1,
   "metadata": {},
   "outputs": [],
   "source": [
    "import numpy as np"
   ]
  },
  {
   "source": [
    "<h3>[Problem 1] Enumeration of classes used so far</h3>"
   ],
   "cell_type": "markdown",
   "metadata": {}
  },
  {
   "source": [
    "<h4>from Scikit-learn</h4>\n",
    "\n",
    "- StandardScaler()\n",
    "- DecisionTreeClassifier()\n",
    "- RandomForestRegressor()"
   ],
   "cell_type": "markdown",
   "metadata": {}
  },
  {
   "source": [
    "<h4>from pandas</h4>\n",
    "\n",
    "- DataFrame()\n",
    "- Series()"
   ],
   "cell_type": "markdown",
   "metadata": {}
  },
  {
   "source": [
    "<h4>from mathplotlib</h4>\n",
    "\n",
    "- Axes()\n",
    "- Figure()"
   ],
   "cell_type": "markdown",
   "metadata": {}
  },
  {
   "source": [
    "<h3>[Problem 2] Enumeration of methods and instance variables used so far</h3>"
   ],
   "cell_type": "markdown",
   "metadata": {}
  },
  {
   "source": [
    "<h4>numpy.array()</h4>\n",
    "\n",
    "- shape: Tuple of array dimensions\n",
    "- size: Number of elements in the array\n",
    "- ndim: Number of array dimensions\n",
    "- T: Transpose array\n",
    "- dtype: Data-type of the array’s elements \n",
    "- reshape(): rearrange the array dimension\n",
    "- resize(): Change shape and size of array in-place\n",
    "- astype(): Copy of the array, cast to a specified type\n",
    "- copy(): return a copy of the array\n",
    "- sort(): sort the array"
   ],
   "cell_type": "markdown",
   "metadata": {}
  },
  {
   "source": [
    "<h4>pandas.DataFrame()</h4>\n",
    "\n",
    "- index: The index (row labels) of the DataFrame\n",
    "- columns: The columns label of the DataFrame\n",
    "- dtype: Data-type of the DataFrame’s elements\n",
    "- size: Return an int representing the number of elements in this object\n",
    "- shape: Return a tuple representing the dimensionality of the DataFrame\n",
    "- head(n): Return the first n rows \n",
    "- info(): Print a concise summary of a DataFrame (shape, dtype,...)\n",
    "- describe(): Generate descriptive statistics\n",
    "- isnull(): Detect missing values\n",
    "- query(): Query the columns of a DataFrame with a boolean expression."
   ],
   "cell_type": "markdown",
   "metadata": {}
  },
  {
   "source": [
    "<h3>[Problem 3] Creating a standardized class by scratch</h3>"
   ],
   "cell_type": "markdown",
   "metadata": {}
  },
  {
   "cell_type": "code",
   "execution_count": null,
   "metadata": {},
   "outputs": [],
   "source": []
  }
 ]
}