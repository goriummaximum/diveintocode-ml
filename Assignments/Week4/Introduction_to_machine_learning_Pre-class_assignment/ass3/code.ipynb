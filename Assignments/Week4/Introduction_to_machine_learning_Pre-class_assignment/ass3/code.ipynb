{
 "metadata": {
  "language_info": {
   "codemirror_mode": {
    "name": "ipython",
    "version": 3
   },
   "file_extension": ".py",
   "mimetype": "text/x-python",
   "name": "python",
   "nbconvert_exporter": "python",
   "pygments_lexer": "ipython3",
   "version": "3.8.5"
  },
  "orig_nbformat": 2,
  "kernelspec": {
   "name": "python38564bit67abafa0d2de4db49ae6ff50c42d1fc4",
   "display_name": "Python 3.8.5 64-bit"
  },
  "metadata": {
   "interpreter": {
    "hash": "916dbcbb3f70747c44a77c7bcd40155683ae19c65e1c03b4aa3499c5328201f1"
   }
  }
 },
 "nbformat": 4,
 "nbformat_minor": 2,
 "cells": [
  {
   "cell_type": "code",
   "execution_count": 275,
   "metadata": {},
   "outputs": [],
   "source": [
    "import numpy as np\n",
    "from sklearn.datasets import load_iris"
   ]
  },
  {
   "source": [
    "<h3>[Problem 1] Enumeration of classes used so far</h3>"
   ],
   "cell_type": "markdown",
   "metadata": {}
  },
  {
   "source": [
    "<h4>from Scikit-learn</h4>\n",
    "\n",
    "- StandardScaler()\n",
    "- DecisionTreeClassifier()\n",
    "- RandomForestRegressor()"
   ],
   "cell_type": "markdown",
   "metadata": {}
  },
  {
   "source": [
    "<h4>from pandas</h4>\n",
    "\n",
    "- DataFrame()\n",
    "- Series()"
   ],
   "cell_type": "markdown",
   "metadata": {}
  },
  {
   "source": [
    "<h4>from mathplotlib</h4>\n",
    "\n",
    "- Axes()\n",
    "- Figure()"
   ],
   "cell_type": "markdown",
   "metadata": {}
  },
  {
   "source": [
    "<h3>[Problem 2] Enumeration of methods and instance variables used so far</h3>"
   ],
   "cell_type": "markdown",
   "metadata": {}
  },
  {
   "source": [
    "<h4>numpy.array()</h4>\n",
    "\n",
    "- shape: Tuple of array dimensions\n",
    "- size: Number of elements in the array\n",
    "- ndim: Number of array dimensions\n",
    "- T: Transpose array\n",
    "- dtype: Data-type of the array’s elements \n",
    "- reshape(): rearrange the array dimension\n",
    "- resize(): Change shape and size of array in-place\n",
    "- astype(): Copy of the array, cast to a specified type\n",
    "- copy(): return a copy of the array\n",
    "- sort(): sort the array"
   ],
   "cell_type": "markdown",
   "metadata": {}
  },
  {
   "source": [
    "<h4>pandas.DataFrame()</h4>\n",
    "\n",
    "- index: The index (row labels) of the DataFrame\n",
    "- columns: The columns label of the DataFrame\n",
    "- dtype: Data-type of the DataFrame’s elements\n",
    "- size: Return an int representing the number of elements in this object\n",
    "- shape: Return a tuple representing the dimensionality of the DataFrame\n",
    "- head(n): Return the first n rows \n",
    "- info(): Print a concise summary of a DataFrame (shape, dtype,...)\n",
    "- describe(): Generate descriptive statistics\n",
    "- isnull(): Detect missing values\n",
    "- query(): Query the columns of a DataFrame with a boolean expression."
   ],
   "cell_type": "markdown",
   "metadata": {}
  },
  {
   "source": [
    "<h3>[Problem 3] Creating a standardized class by scratch</h3>"
   ],
   "cell_type": "markdown",
   "metadata": {}
  },
  {
   "cell_type": "code",
   "execution_count": 277,
   "metadata": {},
   "outputs": [],
   "source": [
    "class ScratchStandardScaler():\n",
    "    \"\"\"\n",
    "    標準化のためのクラス\n",
    "    Attributes\n",
    "    ----------\n",
    "    mean_ : 次の形のndarray, shape(n_features,)\n",
    "        平均\n",
    "    var_ : 次の形のndarray, shape(n_features,)\n",
    "        分散\n",
    "    \"\"\"\n",
    "    def fit(self, X):\n",
    "        \"\"\"\n",
    "        標準化のために平均と標準偏差を計算する。\n",
    "        Parameters\n",
    "        ----------\n",
    "        X : 次の形のndarray, shape (n_samples, n_features)\n",
    "            訓練データ\n",
    "        \"\"\"\n",
    "        self.mean_ = X.mean(axis=0)\n",
    "        self.var_ = X.var(axis=0)\n",
    "\n",
    "    def transform(self, X):\n",
    "        \"\"\"\n",
    "        fitで求めた値を使い標準化を行う。\n",
    "        Parameters\n",
    "        ----------\n",
    "        X : 次の形のndarray, shape (n_samples, n_features)\n",
    "            特徴量\n",
    "        Returns\n",
    "        ----------\n",
    "        X_scaled : 次の形のndarray, shape (n_samples, n_features)\n",
    "            標準化された特緒量\n",
    "        \"\"\"\n",
    "        X_scaled = np.array((X-self.mean_) / (self.var_**(1/2)))\n",
    "\n",
    "        return X_scaled"
   ]
  },
  {
   "cell_type": "code",
   "execution_count": 278,
   "metadata": {},
   "outputs": [
    {
     "output_type": "stream",
     "name": "stdout",
     "text": [
      "平均 : [4.86 3.31 1.45 0.22]\n分散 : [0.0764 0.0849 0.0105 0.0056]\n[[ 0.86828953  0.65207831 -0.48795004 -0.26726124]\n [ 0.14471492 -1.06391725 -0.48795004 -0.26726124]\n [-0.57885968 -0.37751902 -1.46385011 -0.26726124]\n [-0.94064699 -0.72071813  0.48795004 -0.26726124]\n [ 0.50650222  0.99527742 -0.48795004 -0.26726124]\n [ 1.95365143  2.02487476  2.43975018  2.40535118]\n [-0.94064699  0.3088792  -0.48795004  1.06904497]\n [ 0.50650222  0.3088792   0.48795004 -0.26726124]\n [-1.66422159 -1.40711636 -0.48795004 -0.26726124]\n [ 0.14471492 -0.72071813  0.48795004 -1.60356745]]\n"
     ]
    }
   ],
   "source": [
    "data = load_iris()\n",
    "X = data.data[:10]\n",
    "scratch_scaler = ScratchStandardScaler()\n",
    "scratch_scaler.fit(X)\n",
    "print(\"平均 : {}\".format(scratch_scaler.mean_))\n",
    "print(\"分散 : {}\".format(scratch_scaler.var_))\n",
    "X_std = scratch_scaler.transform(X)\n",
    "print(X_std)"
   ]
  },
  {
   "source": [
    "<h3>[Problem 4] Creating a class that performs 4 arithmetic operations</h3>"
   ],
   "cell_type": "markdown",
   "metadata": {}
  },
  {
   "cell_type": "code",
   "execution_count": 279,
   "metadata": {},
   "outputs": [
    {
     "output_type": "stream",
     "name": "stdout",
     "text": [
      "初期値10が設定されました\nvalue : 13\nvalue : 16\nvalue : 88.0\nDivision by zero\nInput value must be float or int\n"
     ]
    }
   ],
   "source": [
    "class ExampleClass():\n",
    "    \"\"\"\n",
    "    説明用の簡単なクラス\n",
    "    Parameters\n",
    "    ----------\n",
    "    value : float or int\n",
    "        初期値\n",
    "    Attributes\n",
    "    ----------\n",
    "    value : float or int\n",
    "        計算結果\n",
    "    \"\"\"\n",
    "    def __init__(self, value):\n",
    "        if (type(value) is not (int or float)):\n",
    "            raise TypeError(\"Input value must be float or int\")\n",
    "        else:\n",
    "            self.value = value\n",
    "            print(\"初期値{}が設定されました\".format(self.value))\n",
    "        \n",
    "\n",
    "    def add(self, value2):\n",
    "        \"\"\"\n",
    "        受け取った引数をself.valueに加える\n",
    "        \"\"\"\n",
    "        self.value += value2\n",
    "    \n",
    "    def sub(self, value2):\n",
    "        self.value -= value2\n",
    "\n",
    "    def mul(self, value2):\n",
    "        self.value *= value2\n",
    "\n",
    "    def div(self, value2):\n",
    "        if (value2 == 0):\n",
    "            raise Exception(\"Division by zero\")\n",
    "        else:\n",
    "            self.value /= value2\n",
    "        \n",
    "try:\n",
    "    example = ExampleClass(10)\n",
    "    example.add(3)\n",
    "    print(\"value : {}\".format(example.value))\n",
    "    example.sub(-3)\n",
    "    print(\"value : {}\".format(example.value))\n",
    "    example.mul(5.5)\n",
    "    print(\"value : {}\".format(example.value))\n",
    "    example.div(0)\n",
    "    print(\"value : {}\".format(example.value))\n",
    "except Exception as err:\n",
    "    print(err)\n",
    "\n",
    "try:\n",
    "    example2 = ExampleClass(\"abc\")\n",
    "except Exception as err:\n",
    "    print(err)"
   ]
  }
 ]
}