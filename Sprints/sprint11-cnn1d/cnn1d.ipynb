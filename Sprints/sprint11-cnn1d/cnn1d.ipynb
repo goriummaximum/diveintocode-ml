{
 "cells": [
  {
   "cell_type": "code",
   "execution_count": 326,
   "metadata": {},
   "outputs": [],
   "source": [
    "import numpy as np"
   ]
  },
  {
   "cell_type": "code",
   "execution_count": 327,
   "metadata": {},
   "outputs": [],
   "source": [
    "class XavierInitializer:\n",
    "    \"\"\"\n",
    "    Xavier Initializer\n",
    "    Parameters\n",
    "    ----------\n",
    "    n_nodes1 : number of nodes in the first layer / number of channels\n",
    "    \"\"\"\n",
    "    def __init__(self, n_nodes1):\n",
    "        self.sigma = 1.0 / n_nodes1**(1/2)\n",
    "\n",
    "    def W(self, n_nodes1, n_nodes2):\n",
    "        \"\"\"\n",
    "        Weight initialization\n",
    "        Parameters\n",
    "        ----------\n",
    "        n_nodes1 : int\n",
    "          Number of nodes in the previous layer / number of channels\n",
    "        n_nodes2 : int\n",
    "          Number of nodes in the later layer / number of features\n",
    "        Returns\n",
    "        ----------\n",
    "        W : weight\n",
    "        \"\"\"\n",
    "        return self.sigma * np.random.randn(n_nodes1, n_nodes2)\n",
    "\n",
    "    def B(self, n_nodes2):\n",
    "        \"\"\"\n",
    "        Bias initialization\n",
    "        Parameters\n",
    "        ----------\n",
    "        n_nodes2 : int\n",
    "          Number of nodes in the later layer / number of features\n",
    "        Returns\n",
    "        ----------\n",
    "        B : bias\n",
    "        \"\"\"\n",
    "        return self.sigma * np.random.randn(n_nodes2)"
   ]
  },
  {
   "cell_type": "code",
   "execution_count": 328,
   "metadata": {},
   "outputs": [],
   "source": [
    "class SimpleInitializer:\n",
    "    \"\"\"\n",
    "    Simple initialization with Gaussian distribution\n",
    "    Parameters\n",
    "    ----------\n",
    "    sigma : float\n",
    "      Standard deviation of Gaussian distribution\n",
    "    \"\"\"\n",
    "    def __init__(self, sigma=0.01):\n",
    "        self.sigma = sigma\n",
    "\n",
    "    def W(self, n_nodes1, n_nodes2):\n",
    "        \"\"\"\n",
    "        Weight initialization\n",
    "        Parameters\n",
    "        ----------\n",
    "        n_nodes1 : int\n",
    "          Number of nodes in the previous layer\n",
    "        n_nodes2 : int\n",
    "          Number of nodes in the later layer\n",
    "        Returns\n",
    "        ----------\n",
    "        W : weight\n",
    "        \"\"\"\n",
    "        return self.sigma * np.random.randn(n_nodes1, n_nodes2)\n",
    "\n",
    "    def B(self, n_nodes2):\n",
    "        \"\"\"\n",
    "        Bias initialization\n",
    "        Parameters\n",
    "        ----------\n",
    "        n_nodes2 : int\n",
    "          Number of nodes in the later layer\n",
    "        Returns\n",
    "        ----------\n",
    "        B : bias\n",
    "        \"\"\"\n",
    "        return self.sigma * np.random.randn(n_nodes2)"
   ]
  },
  {
   "cell_type": "code",
   "execution_count": 329,
   "metadata": {},
   "outputs": [],
   "source": [
    "class HeInitializer:\n",
    "    def __init__(self, n_nodes1):\n",
    "        self.sigma = (2.0 / n_nodes1)**(1/2)\n",
    "\n",
    "    def W(self, n_nodes1, n_nodes2):\n",
    "        return self.sigma * np.random.randn(n_nodes1, n_nodes2)\n",
    "\n",
    "    def B(self, n_nodes2):\n",
    "        return self.sigma * np.random.randn(n_nodes2)"
   ]
  },
  {
   "cell_type": "code",
   "execution_count": 330,
   "metadata": {},
   "outputs": [],
   "source": [
    "class ReLU:\n",
    "    def forward(self, A):\n",
    "        return np.maximum(A, 0)\n",
    "    \n",
    "    def backward(self, dZ, Z):\n",
    "        return dZ * (Z > 0)"
   ]
  },
  {
   "cell_type": "code",
   "execution_count": 331,
   "metadata": {},
   "outputs": [],
   "source": [
    "class Softmax:\n",
    "    def forward(self, A):\n",
    "        return np.exp(A) / np.sum(np.exp(A), axis=1).reshape(-1, 1)\n",
    "    \n",
    "    def backward(self, Z, y):\n",
    "        \"\"\"return dA, CEE\"\"\"\n",
    "        return (Z - y) / y.shape[0], -np.sum((y * np.log(Z + 1e-7))) / y.shape[0]"
   ]
  },
  {
   "cell_type": "code",
   "execution_count": 332,
   "metadata": {},
   "outputs": [],
   "source": [
    "class SGD:\n",
    "    \"\"\"\n",
    "    Stochastic gradient descent\n",
    "    Parameters\n",
    "    ----------\n",
    "    lr : Learning rate\n",
    "    \"\"\"\n",
    "    def __init__(self, lr=0.01):\n",
    "        self.lr = lr\n",
    "\n",
    "    def update(self, layer):\n",
    "        \"\"\"\n",
    "        Update weights and biases for a layer\n",
    "        Parameters\n",
    "        ----------\n",
    "        layer : Instance of the layer before update\n",
    "        \"\"\"\n",
    "        layer.W -= self.lr * layer.dW\n",
    "        layer.B -= self.lr * layer.dB\n",
    "        return layer"
   ]
  },
  {
   "cell_type": "markdown",
   "metadata": {},
   "source": [
    "<h2>[Problem 1] Creating a one-dimensional convolutional layer class that limits the number of channels to one</h2>"
   ]
  },
  {
   "cell_type": "code",
   "execution_count": 333,
   "metadata": {},
   "outputs": [],
   "source": [
    "class SimpleConv1d:\n",
    "    def __init__(self, F, initializer, optimizer):\n",
    "        self.F = F\n",
    "        self.optimizer = optimizer\n",
    "        self.W = np.squeeze(initializer.W(1, F))\n",
    "        self.B = np.squeeze(initializer.B(1))\n",
    "\n",
    "    def forward(self, X):\n",
    "        \"\"\"\n",
    "        forward propagation, finding A\n",
    "        Parameters\n",
    "        ----------\n",
    "        X : (features, )\n",
    "        Return\n",
    "        ----------\n",
    "        A : (n_out, )\n",
    "        \"\"\"\n",
    "        self.X = X\n",
    "        self.n_out = compute_output_size(len(X), 0, self.F, 1)\n",
    "        A = np.empty(self.n_out)\n",
    "        for i in np.arange(0, self.n_out):\n",
    "            A[i] = np.dot(X[i:i+self.F], self.W) + self.B\n",
    "        return A\n",
    "\n",
    "    def backward(self, dA):\n",
    "        #update dW\n",
    "        self.dW = np.empty(self.F)\n",
    "        for s in np.arange(0, self.F):\n",
    "            self.dW[s] = np.dot(dA, self.X[s:s+len(dA)])\n",
    "        #update dB\n",
    "        self.dB = np.sum(dA)\n",
    "        #update dZ\n",
    "        self.dZ = np.empty(len(self.X))\n",
    "        for j in np.arange(0, len(self.X)):\n",
    "            total = 0.0\n",
    "            for s in np.arange(0, self.F):\n",
    "                if (j - s >= 0 and j - s < len(dA)):\n",
    "                    total += dA[j - s] * self.W[s]\n",
    "            self.dZ[j] = total\n",
    "        # update new W, B\n",
    "        self = self.optimizer.update(self)\n",
    "        return self.dZ"
   ]
  },
  {
   "cell_type": "markdown",
   "metadata": {},
   "source": [
    "<h2>[Problem 2] Output size calculation after one-dimensional convolution</h2>"
   ]
  },
  {
   "cell_type": "code",
   "execution_count": 334,
   "metadata": {},
   "outputs": [],
   "source": [
    "def compute_output_size(n_in, P, F, S):\n",
    "    return int(1 + (n_in + 2*P - F) / S)"
   ]
  },
  {
   "cell_type": "markdown",
   "metadata": {},
   "source": [
    "<h2>[Problem 3] Experiment of one-dimensional convolutional layer with small array</h2>"
   ]
  },
  {
   "cell_type": "markdown",
   "metadata": {},
   "source": [
    "<h3>Forward</h3>"
   ]
  },
  {
   "cell_type": "code",
   "execution_count": 335,
   "metadata": {},
   "outputs": [],
   "source": [
    "x = np.array([1,2,3,4]).astype(np.float64)\n",
    "w = np.array([3, 5, 7]).astype(np.float64)\n",
    "b = np.array([1]).astype(np.float64)"
   ]
  },
  {
   "cell_type": "code",
   "execution_count": 336,
   "metadata": {},
   "outputs": [],
   "source": [
    "simplec1d = SimpleConv1d(len(w), XavierInitializer(len(x)), SGD())\n",
    "simplec1d.B = b\n",
    "simplec1d.W = w"
   ]
  },
  {
   "cell_type": "code",
   "execution_count": 337,
   "metadata": {},
   "outputs": [
    {
     "name": "stdout",
     "output_type": "stream",
     "text": [
      "A: [35. 50.]\n"
     ]
    }
   ],
   "source": [
    "A = simplec1d.forward(x)\n",
    "print(\"A: {}\".format(A))"
   ]
  },
  {
   "cell_type": "markdown",
   "metadata": {},
   "source": [
    "<h3>Backward</h3>"
   ]
  },
  {
   "cell_type": "code",
   "execution_count": 338,
   "metadata": {},
   "outputs": [
    {
     "name": "stdout",
     "output_type": "stream",
     "text": [
      "dW: [ 50.  80. 110.]\n",
      "dB: 30.0\n",
      "dZ: [ 30. 110. 170. 140.]\n"
     ]
    }
   ],
   "source": [
    "dA = np.array([10, 20]).astype(np.float64)\n",
    "simplec1d.backward(dA)\n",
    "print(\"dW: {}\\ndB: {}\\ndZ: {}\".format(simplec1d.dW, simplec1d.dB, simplec1d.dZ))"
   ]
  },
  {
   "cell_type": "markdown",
   "metadata": {},
   "source": [
    "<h2>[Problem 4] Creating a one-dimensional convolutional layer class that does not limit the number of channels</h2>"
   ]
  },
  {
   "cell_type": "code",
   "execution_count": 339,
   "metadata": {},
   "outputs": [],
   "source": [
    "class Conv1d:\n",
    "    \"\"\"\n",
    "    A class of a convolution 1D layer\n",
    "    Parameters\n",
    "    ----------\n",
    "    F : int\n",
    "      filter size\n",
    "    ch_in : int\n",
    "      input channels\n",
    "    ch_in : int\n",
    "      output channels\n",
    "    initializer: instance of initialization method\n",
    "    optimizer: instance of optimization method\n",
    "    \"\"\"\n",
    "    def __init__(self, F, ch_in, ch_out, initializer, optimizer):\n",
    "        self.F = F\n",
    "        self.ch_in = ch_in\n",
    "        self.ch_out = ch_out\n",
    "        self.optimizer = optimizer\n",
    "        self.W = np.empty((ch_out, ch_in, F))\n",
    "        for ch in np.arange(0, ch_out):\n",
    "            self.W[ch] = initializer.W(ch_in, F)\n",
    "        self.B = initializer.B(ch_out)\n",
    "\n",
    "    def forward(self, X):\n",
    "        \"\"\"\n",
    "        forward propagation, finding A\n",
    "        Parameters\n",
    "        ----------\n",
    "        X : (ch_in, number of features)\n",
    "        Return\n",
    "        ----------\n",
    "        A : (number of output channels, n_out)\n",
    "        \"\"\"\n",
    "        self.X = X\n",
    "        self.n_out = compute_output_size(self.X.shape[1], 0, self.F, 1)\n",
    "        A = np.empty((self.ch_out, self.n_out))\n",
    "        for ch in np.arange(0, self.ch_out):\n",
    "            for i in np.arange(0, self.n_out):\n",
    "                A[ch, i] = np.sum(X[:, i:i+self.F] * self.W[ch]) + self.B[ch]\n",
    "        return A\n",
    "\n",
    "    def backward(self, dA):\n",
    "        \"\"\"\n",
    "        Backward\n",
    "        Parameters\n",
    "        ----------\n",
    "        dA : The following forms of ndarray, shape (ch_out, n_out)\n",
    "            Gradient flowing from behind\n",
    "        Returns\n",
    "        ----------\n",
    "        dZ : The following forms of ndarray, shape (ch_in, number of features)\n",
    "            Gradient to flow forward\n",
    "        \"\"\"\n",
    "        #update dW\n",
    "        self.dW = np.empty((self.ch_out, self.ch_in, self.F))\n",
    "        for c_out in np.arange(0, self.ch_out):\n",
    "            for c_in in np.arange(0, self.ch_in):\n",
    "                for s in np.arange(0, self.F):\n",
    "                    self.dW[c_out, c_in, s] = np.sum(dA[c_out] * self.X[c_in, s:s+self.n_out])\n",
    "        #update dB\n",
    "        self.dB = np.sum(dA, axis=1)\n",
    "        #update dZ\n",
    "        self.dZ = np.empty((self.ch_in, self.X.shape[1]))\n",
    "        for c_in in np.arange(0, self.ch_in):\n",
    "            for j in np.arange(0, self.X.shape[1]):\n",
    "                total = 0.0\n",
    "                for c_out in np.arange(0, self.ch_out):\n",
    "                    for s in np.arange(0, self.F):\n",
    "                        if (j - s >= 0 and j - s < self.n_out):\n",
    "                            total += dA[c_out, j - s] * self.W[c_out, c_in, s]\n",
    "                self.dZ[c_in, j] = total\n",
    "        # update new W, B\n",
    "        self = self.optimizer.update(self)\n",
    "        return self.dZ"
   ]
  },
  {
   "cell_type": "markdown",
   "metadata": {},
   "source": [
    "<h3>Testcase 1</h3>"
   ]
  },
  {
   "cell_type": "markdown",
   "metadata": {},
   "source": [
    "<h4>Forward</h4>"
   ]
  },
  {
   "cell_type": "code",
   "execution_count": 340,
   "metadata": {},
   "outputs": [],
   "source": [
    "x = np.array([[1, 2, 3, 4], [2, 3, 4, 5]]).astype(np.float64) #shape (2, 4), (number of input channels, number of features).\n",
    "w = np.ones((3, 2, 3)).astype(np.float64) # Set to 1 for simplification of the example. (Number of output channels, number of input channels, filter size).\n",
    "b = np.array([1, 2, 3]).astype(np.float64) # (Number of output channels)"
   ]
  },
  {
   "cell_type": "code",
   "execution_count": 341,
   "metadata": {},
   "outputs": [],
   "source": [
    "con1d = Conv1d(w.shape[2], w.shape[1], w.shape[0], XavierInitializer(x.shape[0]), SGD())\n",
    "con1d.W = w\n",
    "con1d.B = b"
   ]
  },
  {
   "cell_type": "code",
   "execution_count": 342,
   "metadata": {},
   "outputs": [
    {
     "name": "stdout",
     "output_type": "stream",
     "text": [
      "A: \n",
      "[[16. 22.]\n",
      " [17. 23.]\n",
      " [18. 24.]]\n"
     ]
    }
   ],
   "source": [
    "A = con1d.forward(x)\n",
    "print(\"A: \\n{}\".format(A))"
   ]
  },
  {
   "cell_type": "markdown",
   "metadata": {},
   "source": [
    "<h4>Backward</h4>"
   ]
  },
  {
   "cell_type": "code",
   "execution_count": 343,
   "metadata": {},
   "outputs": [
    {
     "name": "stdout",
     "output_type": "stream",
     "text": [
      "dW: \n",
      "[[[ 32.  53.  74.]\n",
      "  [ 53.  74.  95.]]\n",
      "\n",
      " [[ 80. 130. 180.]\n",
      "  [130. 180. 230.]]\n",
      "\n",
      " [[ 77. 133. 189.]\n",
      "  [133. 189. 245.]]]\n",
      "dB: \n",
      "[21. 50. 56.]\n",
      "dZ: \n",
      "[[ 65. 127. 127.  62.]\n",
      " [ 65. 127. 127.  62.]]\n"
     ]
    }
   ],
   "source": [
    "dA = np.array([[10, 11], [20, 30], [35, 21]]).astype(np.float64)\n",
    "con1d.backward(dA)\n",
    "print(\"dW: \\n{}\\ndB: \\n{}\\ndZ: \\n{}\".format(con1d.dW, con1d.dB, con1d.dZ))"
   ]
  },
  {
   "cell_type": "markdown",
   "metadata": {},
   "source": [
    "<h3>Testcase 2</h3>"
   ]
  },
  {
   "cell_type": "markdown",
   "metadata": {},
   "source": [
    "<h4>Forward</h4>"
   ]
  },
  {
   "cell_type": "code",
   "execution_count": 344,
   "metadata": {},
   "outputs": [],
   "source": [
    "x = np.array([[1,2,3,4]]).astype(np.float64)\n",
    "w = np.array([[[3, 5, 7]]]).astype(np.float64)\n",
    "b = np.array([1]).astype(np.float64)"
   ]
  },
  {
   "cell_type": "code",
   "execution_count": 345,
   "metadata": {},
   "outputs": [],
   "source": [
    "con1d = Conv1d(w.shape[2], w.shape[1], w.shape[0], XavierInitializer(x.shape[0]), SGD())\n",
    "con1d.W = w\n",
    "con1d.B = b"
   ]
  },
  {
   "cell_type": "code",
   "execution_count": 346,
   "metadata": {},
   "outputs": [
    {
     "name": "stdout",
     "output_type": "stream",
     "text": [
      "A: [[35. 50.]]\n"
     ]
    }
   ],
   "source": [
    "A = con1d.forward(x)\n",
    "print(\"A: {}\".format(A))"
   ]
  },
  {
   "cell_type": "markdown",
   "metadata": {},
   "source": [
    "<h4>Backward</h4>"
   ]
  },
  {
   "cell_type": "code",
   "execution_count": 347,
   "metadata": {},
   "outputs": [
    {
     "name": "stdout",
     "output_type": "stream",
     "text": [
      "dW: [[[ 50.  80. 110.]]]\n",
      "dB: [30.]\n",
      "dZ: [[ 30. 110. 170. 140.]]\n"
     ]
    }
   ],
   "source": [
    "dA = np.array([[10, 20]]).astype(np.float64)\n",
    "con1d.backward(dA)\n",
    "print(\"dW: {}\\ndB: {}\\ndZ: {}\".format(con1d.dW, con1d.dB, con1d.dZ))"
   ]
  },
  {
   "cell_type": "markdown",
   "metadata": {},
   "source": [
    "<h2>[Problem 8] Learning and estimation</h2>"
   ]
  },
  {
   "cell_type": "code",
   "execution_count": 348,
   "metadata": {},
   "outputs": [],
   "source": [
    "class GetMiniBatch:\n",
    "    \"\"\"\n",
    "    Iterator to get a mini-batch\n",
    "    Parameters\n",
    "    ----------\n",
    "    X : The following forms of ndarray, shape (n_samples, n_features)\n",
    "      Training data\n",
    "    y : The following form of ndarray, shape (n_samples, 1)\n",
    "      Correct answer value\n",
    "    batch_size : int\n",
    "      Batch size\n",
    "    seed : int\n",
    "      NumPy random number seed\n",
    "    \"\"\"\n",
    "    def __init__(self, X, y, batch_size = 20, seed=0):\n",
    "        self.batch_size = batch_size\n",
    "        np.random.seed(seed)\n",
    "        shuffle_index = np.random.permutation(np.arange(X.shape[0]))\n",
    "        self._X = X[shuffle_index]\n",
    "        self._y = y[shuffle_index]\n",
    "        self._stop = np.ceil(X.shape[0]/self.batch_size).astype(np.int)\n",
    "\n",
    "    def __len__(self):\n",
    "        return self._stop\n",
    "\n",
    "    def __getitem__(self,item):\n",
    "        p0 = item*self.batch_size\n",
    "        p1 = item*self.batch_size + self.batch_size\n",
    "        return self._X[p0:p1], self._y[p0:p1]   \n",
    "\n",
    "    def __iter__(self):\n",
    "        self._counter = 0\n",
    "        return self\n",
    "\n",
    "    def __next__(self):\n",
    "        if self._counter >= self._stop:\n",
    "            raise StopIteration()\n",
    "        p0 = self._counter*self.batch_size\n",
    "        p1 = self._counter*self.batch_size + self.batch_size\n",
    "        self._counter += 1\n",
    "        return self._X[p0:p1], self._y[p0:p1]"
   ]
  },
  {
   "cell_type": "code",
   "execution_count": 349,
   "metadata": {},
   "outputs": [],
   "source": [
    "class FC:\n",
    "    \"\"\"\n",
    "    Number of nodes Fully connected layer from n_nodes1 to n_nodes2\n",
    "    Parameters\n",
    "    ----------\n",
    "    n_nodes1 : int\n",
    "      Number of nodes in the previous layer\n",
    "    n_nodes2 : int\n",
    "      Number of nodes in the later layer\n",
    "    initializer: instance of initialization method\n",
    "    optimizer: instance of optimization method\n",
    "    \"\"\"\n",
    "    def __init__(self, n_nodes1, n_nodes2, initializer, optimizer):\n",
    "        self.optimizer = optimizer\n",
    "        # Initialize\n",
    "        # Initialize self.W and self.B using the initializer method\n",
    "        self.W = initializer.W(n_nodes1, n_nodes2)\n",
    "        self.B = initializer.B(n_nodes2)\n",
    "\n",
    "    def forward(self, X):\n",
    "        \"\"\"\n",
    "        forward\n",
    "        Parameters\n",
    "        ----------\n",
    "        X : The following forms of ndarray, shape (batch_size, n_nodes1)\n",
    "            入力\n",
    "        Returns\n",
    "        ----------\n",
    "        A : The following forms of ndarray, shape (batch_size, n_nodes2)\n",
    "            output\n",
    "        \"\"\"       \n",
    "        self.X = X\n",
    "        A = X @ self.W + self.B\n",
    "        return A\n",
    "\n",
    "    def backward(self, dA):\n",
    "        \"\"\"\n",
    "        Backward\n",
    "        Parameters\n",
    "        ----------\n",
    "        dA : The following forms of ndarray, shape (batch_size, n_nodes2)\n",
    "            Gradient flowing from behind\n",
    "        Returns\n",
    "        ----------\n",
    "        dZ : The following forms of ndarray, shape (batch_size, n_nodes1)\n",
    "            Gradient to flow forward\n",
    "        \"\"\"\n",
    "        self.dA = dA\n",
    "        dZ = dA @ self.W.T\n",
    "        self.dW = self.X.T @ dA\n",
    "        self.dB = np.sum(dA, axis=0)\n",
    "        # update\n",
    "        self = self.optimizer.update(self)\n",
    "        return dZ"
   ]
  },
  {
   "cell_type": "code",
   "execution_count": 350,
   "metadata": {},
   "outputs": [],
   "source": [
    "class Scratch1dCNNClassifier:\n",
    "    def __init__(self,\n",
    "                conv_filter_size=[3],\n",
    "                hidden_layers=[400,200],\n",
    "                hidden_activations=['tanh', 'tanh'],\n",
    "                hidden_initializers=['gaussian', 'gaussian'],\n",
    "                sigma=0.01,\n",
    "                optimizer='sgd',\n",
    "                layer_type=None,\n",
    "                batch_size=20,\n",
    "                epochs=10,\n",
    "                lr=0.01,\n",
    "                seed=0,\n",
    "                verbose=False\n",
    "                ):\n",
    "        self.F = conv_filter_size\n",
    "        self.hidden_layers = hidden_layers\n",
    "        self.activations_name = hidden_activations.copy()\n",
    "        self.activations_name.insert(0, None)\n",
    "        self.activations_name.append('softmax')\n",
    "        self.initializers = hidden_initializers.copy()\n",
    "        self.initializers.insert(0, None)\n",
    "        self.initializers.append('gaussian')\n",
    "        self.sigma = sigma\n",
    "        self.optimizer = optimizer\n",
    "        self.layer_type = layer_type\n",
    "        self.batch_size = batch_size\n",
    "        self.epochs = epochs\n",
    "        self.lr = lr\n",
    "        self.seed = seed\n",
    "        self.verbose = verbose\n",
    "\n",
    "    def _initialize_neural_network(self):\n",
    "        #initialize conv layers\n",
    "        self.conv = np.full(len(self.F) + 1, None)\n",
    "        self.conv_activations = np.full(len(self.F) + 1, None)\n",
    "        for i in np.arange(1, len(self.F) + 1):\n",
    "            self.conv[i] = Conv1d(self.F[i - 1], 1, 1, HeInitializer(1), SGD(self.lr))\n",
    "            self.conv_activations[i] = ReLU()\n",
    "        #choose activations\n",
    "        self.activations = np.full(len(self.n_nodes), None) #activations[0] unused\n",
    "        for i in np.arange(1, len(self.n_nodes)):\n",
    "            if (self.activations_name[i] == 'tanh'):\n",
    "                self.activations[i] = Tanh()\n",
    "            elif (self.activations_name[i] == 'sigmoid'):\n",
    "                self.activations[i] = Sigmoid()\n",
    "            elif (self.activations_name[i] == 'relu'):\n",
    "                self.activations[i] = ReLU()\n",
    "            elif (self.activations_name[i] == 'softmax'):\n",
    "                self.activations[i] = Softmax()\n",
    "        #choose initializer, optimizer and build neural network\n",
    "        self.FC = np.full(len(self.n_nodes), None) #FC[0] unused\n",
    "        for i in np.arange(1, len(self.n_nodes)):\n",
    "            if (self.optimizer == 'sgd'):\n",
    "                if (self.initializers[i] == 'gaussian'):\n",
    "                    self.FC[i] = FC(self.n_nodes[i - 1], self.n_nodes[i], SimpleInitializer(self.sigma), SGD(self.lr))\n",
    "                elif (self.initializers[i] == 'xavier'):\n",
    "                    self.FC[i] = FC(self.n_nodes[i - 1], self.n_nodes[i], XavierInitializer(self.n_nodes[i - 1]), SGD(self.lr))\n",
    "                elif (self.initializers[i] == 'he'):   \n",
    "                    self.FC[i] = FC(self.n_nodes[i - 1], self.n_nodes[i], HeInitializer(self.n_nodes[i - 1]), SGD(self.lr))\n",
    "            elif (self.optimizer == 'adagrad'):\n",
    "                if (self.initializers[i] == 'gaussian'):\n",
    "                    self.FC[i] = FC(self.n_nodes[i - 1], self.n_nodes[i], SimpleInitializer(self.sigma), AdaGrad(self.lr, (self.n_nodes[i - 1], self.n_nodes[i])))\n",
    "                elif (self.initializers[i] == 'xavier'):\n",
    "                    self.FC[i] = FC(self.n_nodes[i - 1], self.n_nodes[i], XavierInitializer(self.n_nodes[i - 1]), AdaGrad(self.lr, (self.n_nodes[i - 1], self.n_nodes[i])))\n",
    "                elif (self.initializers[i] == 'he'):   \n",
    "                    self.FC[i] = FC(self.n_nodes[i - 1], self.n_nodes[i], HeInitializer(self.n_nodes[i - 1]), AdaGrad(self.lr, (self.n_nodes[i - 1], self.n_nodes[i])))\n",
    "\n",
    "    def _forward(self, X):\n",
    "        #conv\n",
    "        A_conv = np.full(len(self.F) + 1, None)\n",
    "        Z_conv = np.full(len(self.F) + 1, None)\n",
    "        Z_conv[0] = X\n",
    "        for i in np.arange(1, len(self.F) + 1):\n",
    "            A_conv[i] = self.conv[i].forward(Z_conv[i - 1])\n",
    "            Z_conv[i] = self.conv_activations[i].forward(A_conv[i])\n",
    "        #FC\n",
    "        A = np.full(len(self.n_nodes), None) #A[0] unused\n",
    "        Z = np.full(len(self.n_nodes), None)\n",
    "        Z[0] = Z_conv[-1]\n",
    "        for i in np.arange(1, len(self.n_nodes)):\n",
    "            A[i] = self.FC[i].forward(Z[i - 1])\n",
    "            Z[i] = self.activations[i].forward(A[i])\n",
    "        return Z, Z_conv\n",
    "\n",
    "    def _backward(self, y, Z, Z_conv):\n",
    "        #FC\n",
    "        dA = np.full(len(self.n_nodes), None) #A[0] unused\n",
    "        dZ = np.full(len(self.n_nodes), None) #Z[-1] unused\n",
    "        CEE = None\n",
    "        for i in np.arange(len(self.n_nodes) - 1, 0, -1):\n",
    "            if (self.activations_name[i] == 'softmax'):\n",
    "                dA[i], CEE = self.activations[i].backward(Z[i], y)\n",
    "            else:\n",
    "                dA[i] = self.activations[i].backward(dZ[i], Z[i])\n",
    "            dZ[i - 1] = self.FC[i].backward(dA[i])\n",
    "        #conv\n",
    "        dA_conv = np.full(len(self.F) + 1, None)\n",
    "        dZ_conv = np.full(len(self.F) + 1, None)\n",
    "        dZ_conv[-1] = dZ[0]\n",
    "        for i in np.arange(len(self.F), 0, -1):\n",
    "            dA_conv[i] = self.conv_activations[i].backward(dZ_conv[i], Z_conv[i])\n",
    "            dZ_conv[i - 1] = self.conv[i].backward(dA_conv[i])\n",
    "        return CEE\n",
    "\n",
    "    def _compute_CEE(self, y, Z):\n",
    "        return -np.sum((y * np.log(Z + 1e-7))) / y.shape[0]\n",
    "\n",
    "    def _optimize(self, X, y, X_val=None, y_val=None):\n",
    "        self.CEE_list = []\n",
    "        self.CEE_list_val = []\n",
    "        get_mini_batch = GetMiniBatch(X, y, batch_size=self.batch_size, seed=self.seed)\n",
    "        for _ in np.arange(0, self.epochs):\n",
    "            for mini_X, mini_y in get_mini_batch:\n",
    "                Z, Z_conv = self._forward(mini_X)\n",
    "                CEE = self._backward(mini_y, Z, Z_conv)\n",
    "                self.CEE_list.append(CEE)\n",
    "            if (X_val is not None and y_val is not None):\n",
    "                Z, _ = self._forward(X_val)\n",
    "                self.CEE_list_val.append(self._compute_CEE(y_val, Z[-1]))\n",
    "\n",
    "    def fit(self, X, y, X_val=None, y_val=None):\n",
    "        \"\"\"\n",
    "        Learn a neural network classifier.\n",
    "        Parameters\n",
    "        ----------\n",
    "        X : The following forms of ndarray, shape (n_samples, n_features)\n",
    "            Features of training data\n",
    "        y : The following form of ndarray, shape (n_samples,)\n",
    "            Correct answer value of training data\n",
    "        X_val : The following forms of ndarray, shape (n_samples, n_features)\n",
    "            Features of verification data\n",
    "        y_val : The following form of ndarray, shape (n_samples,)\n",
    "            Correct value of verification data\n",
    "        \"\"\"\n",
    "        self.n_output = y.shape[1]\n",
    "        self.n_features = X.shape[1]\n",
    "        self.n_nodes = self.hidden_layers.copy()\n",
    "        n_out = len(X[0])\n",
    "        for i in np.arange(0, len(self.F)):\n",
    "            n_out = compute_output_size(n_out, 0, self.F[i], 1)\n",
    "        self.n_nodes.insert(0, n_out)\n",
    "        self.n_nodes.append(self.n_output)\n",
    "        self._initialize_neural_network()\n",
    "        self._optimize(X, y, X_val, y_val)\n",
    "\n",
    "    def predict(self, X):\n",
    "        \"\"\"\n",
    "        Estimate using a neural network classifier.\n",
    "        Parameters\n",
    "        ----------\n",
    "        X : The following forms of ndarray, shape (n_samples, n_features)\n",
    "            sample\n",
    "        Returns\n",
    "        -------\n",
    "            The following form of ndarray, shape (n_samples, 1)\n",
    "            Estimated result\n",
    "        \"\"\"\n",
    "        Z_ret = []\n",
    "        for x in X:\n",
    "            Z_pred, _ = self._forward(np.array([x]))\n",
    "            Z_ret.append(np.argmax(Z_pred[-1]))\n",
    "        return np.array(Z_ret)"
   ]
  },
  {
   "cell_type": "markdown",
   "metadata": {},
   "source": [
    "<h3>Learning</h3>"
   ]
  },
  {
   "cell_type": "code",
   "execution_count": 351,
   "metadata": {},
   "outputs": [],
   "source": [
    "import matplotlib.pyplot as plt\n",
    "from keras.datasets import mnist\n",
    "from sklearn.metrics import accuracy_score"
   ]
  },
  {
   "cell_type": "code",
   "execution_count": 352,
   "metadata": {},
   "outputs": [],
   "source": [
    "(X_train, y_train), (X_test, y_test) = mnist.load_data()\n",
    "\n",
    "X_train = X_train.reshape(-1, 784)[:6000]\n",
    "X_test = X_test.reshape(-1, 784)[:6000]\n",
    "\n",
    "y_train = y_train[:6000]\n",
    "y_test = y_test[:6000]\n",
    "\n",
    "X_train = X_train.astype(np.float)\n",
    "X_test = X_test.astype(np.float)\n",
    "X_train /= 255\n",
    "X_test /= 255"
   ]
  },
  {
   "cell_type": "code",
   "execution_count": 353,
   "metadata": {},
   "outputs": [],
   "source": [
    "from sklearn.preprocessing import OneHotEncoder\n",
    "enc = OneHotEncoder(handle_unknown='ignore', sparse=False)\n",
    "y_train_one_hot = enc.fit_transform(y_train[:, np.newaxis])\n",
    "y_test_one_hot = enc.transform(y_test[:, np.newaxis])"
   ]
  },
  {
   "cell_type": "code",
   "execution_count": 354,
   "metadata": {},
   "outputs": [],
   "source": [
    "from sklearn.model_selection import train_test_split\n",
    "X_train, X_val, y_train, y_val = train_test_split(X_train, y_train_one_hot, test_size=0.2)"
   ]
  },
  {
   "cell_type": "code",
   "execution_count": 355,
   "metadata": {},
   "outputs": [],
   "source": [
    "def plot_CEE(CEE_list=None, CEE_list_val=None, epochs=None):\n",
    "    \"\"\"plot final CEE for every epochs\"\"\"\n",
    "    if (CEE_list is not None):\n",
    "        plt.plot(np.arange(1, epochs + 1), CEE_list[::int(len(CEE_list)/epochs)], label=\"train\", marker='o')\n",
    "    if (CEE_list_val is not None):\n",
    "        plt.plot(np.arange(1, epochs + 1), CEE_list_val, label=\"val\", marker='o')\n",
    "    plt.legend()\n",
    "    plt.xlabel(\"iter\")\n",
    "    plt.ylabel(\"CEE\")\n",
    "    plt.title(\"CEE graph\")\n",
    "    plt.grid()\n",
    "    plt.show()"
   ]
  },
  {
   "cell_type": "code",
   "execution_count": 356,
   "metadata": {},
   "outputs": [],
   "source": [
    "def draw_fault(y_pred, y_val):\n",
    "    \"\"\"\n",
    "    Display word classification results side by side. The display above the image is \"estimated result / correct answer\".\n",
    "    Parameters:\n",
    "    ----------\n",
    "    y_pred : Estimated ndarray (n_samples,)\n",
    "    y_val : Correct label of verification data (n_samples,)\n",
    "    X_val : Verification data features (n_samples, n_features)\n",
    "    \"\"\"\n",
    "    num = 36 # How many to display\n",
    "\n",
    "    true_false = y_pred==y_val\n",
    "    false_list = np.where(true_false==False)[0].astype(np.int)\n",
    "    if false_list.shape[0] < num:\n",
    "        num = false_list.shape[0]\n",
    "    fig = plt.figure(figsize=(6, 6))\n",
    "    fig.subplots_adjust(left=0, right=0.8,  bottom=0, top=0.8, hspace=1, wspace=0.5)\n",
    "    for i in range(num):\n",
    "        ax = fig.add_subplot(6, 6, i + 1, xticks=[], yticks=[])\n",
    "        ax.set_title(\"{} / {}\".format(y_pred[false_list[i]],y_val[false_list[i]]))\n",
    "        ax.imshow(X_val.reshape(-1,28,28)[false_list[i]], cmap='gray')"
   ]
  },
  {
   "cell_type": "code",
   "execution_count": 357,
   "metadata": {},
   "outputs": [],
   "source": [
    "def save_model(model_name, model):\n",
    "    np.savez(model_name + '.npz', model)"
   ]
  },
  {
   "cell_type": "code",
   "execution_count": 358,
   "metadata": {},
   "outputs": [],
   "source": [
    "def handler(model=None, X_train=None, y_train=None, X_val=None, y_val=None, epochs=None, save=False, file_name=None):\n",
    "    model.fit(X_train, y_train, X_val, y_val)\n",
    "    y_pred = model.predict(X_val)\n",
    "    unique_elements, counts_elements = np.unique(y_pred - np.argmax(y_val, axis=1), return_counts=True)\n",
    "    print(\"number of correct cases: {}/{}\".format(int(counts_elements[unique_elements == 0]), y_pred.shape[0]))\n",
    "    print(\"Accuracy: {}\".format(accuracy_score(np.argmax(y_val, axis=1), y_pred)))\n",
    "    plot_CEE(CEE_list=model.CEE_list, CEE_list_val=model.CEE_list_val, epochs=epochs)\n",
    "    draw_fault(y_pred, np.argmax(y_val, axis=1))\n",
    "    if (save == True):\n",
    "        save_model('file_name', model)"
   ]
  },
  {
   "cell_type": "markdown",
   "metadata": {},
   "source": [
    "<h4>Case 1 - add 2 convolution layers</h4>"
   ]
  },
  {
   "cell_type": "code",
   "execution_count": 359,
   "metadata": {},
   "outputs": [],
   "source": [
    "epochs = 1\n",
    "batch_size = 1"
   ]
  },
  {
   "cell_type": "code",
   "execution_count": 360,
   "metadata": {},
   "outputs": [
    {
     "name": "stdout",
     "output_type": "stream",
     "text": [
      "number of correct cases: 142/1200\n",
      "Accuracy: 0.11833333333333333\n"
     ]
    },
    {
     "data": {
      "image/png": "[encoded data removed]",
      "text/plain": [
       "<Figure size 432x288 with 1 Axes>"
      ]
     },
     "metadata": {
      "needs_background": "light"
     },
     "output_type": "display_data"
    },
    {
     "data": {
      "image/png": "[encoded data removed]",
      "text/plain": [
       "<Figure size 432x432 with 36 Axes>"
      ]
     },
     "metadata": {},
     "output_type": "display_data"
    }
   ],
   "source": [
    "cnn_1 = Scratch1dCNNClassifier(\n",
    "                conv_filter_size=[20, 10],\n",
    "                hidden_layers=[400,200],\n",
    "                hidden_activations=['relu', 'relu'],\n",
    "                hidden_initializers=['he', 'he'],\n",
    "                sigma=0.01,\n",
    "                optimizer='sgd',\n",
    "                layer_type=None,\n",
    "                batch_size=batch_size,\n",
    "                epochs=epochs,\n",
    "                lr=0.05,\n",
    "                seed=69,\n",
    "                verbose=False       \n",
    ")\n",
    "\n",
    "handler(cnn_1, X_train, y_train, X_val, y_val, epochs)"
   ]
  }
 ],
 "metadata": {
  "interpreter": {
   "hash": "bf3ec189d6e56d1f0202dd4e4268996a952453029533e556245f105ea2c9a45f"
  },
  "kernelspec": {
   "display_name": "Python 3.8.5 64-bit ('base': conda)",
   "name": "python3"
  },
  "language_info": {
   "codemirror_mode": {
    "name": "ipython",
    "version": 3
   },
   "file_extension": ".py",
   "mimetype": "text/x-python",
   "name": "python",
   "nbconvert_exporter": "python",
   "pygments_lexer": "ipython3",
   "version": "3.8.5"
  },
  "orig_nbformat": 4
 },
 "nbformat": 4,
 "nbformat_minor": 2
}