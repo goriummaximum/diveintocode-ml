{
  "nbformat": 4,
  "nbformat_minor": 2,
  "metadata": {
    "orig_nbformat": 4,
    "colab": {
      "name": "cnn2d.ipynb",
      "provenance": [],
      "collapsed_sections": []
    },
    "language_info": {
      "name": "python"
    },
    "kernelspec": {
      "name": "python3",
      "display_name": "Python 3"
    }
  },
  "cells": [
    {
      "cell_type": "code",
      "execution_count": 1,
      "source": [
        "import numpy as np"
      ],
      "outputs": [],
      "metadata": {
        "id": "loimm0ZTO4s7"
      }
    },
    {
      "cell_type": "markdown",
      "source": [
        "<h2>[Problem 3] Output size after 2-dimensional convolution</h2>"
      ],
      "metadata": {
        "id": "glYDm4zeO4tH"
      }
    },
    {
      "cell_type": "code",
      "execution_count": 2,
      "source": [
        "def compute_output_size(X_h_in, X_w_in, F_h, F_w, S_h, S_w, P):\n",
        "    \"\"\"\n",
        "    compute featured map size\n",
        "    Parameters\n",
        "    ----------\n",
        "    X_h_in : int\n",
        "        height of X\n",
        "    X_w_in : int\n",
        "        weight of X\n",
        "    F_h : int\n",
        "        filter height\n",
        "    F_w : int\n",
        "        filter width\n",
        "    P : int\n",
        "        Padding\n",
        "    S: int\n",
        "        stride\n",
        "    Returns\n",
        "    ----------\n",
        "    (A height, A width)\n",
        "    \n",
        "    \"\"\"\n",
        "    return int(1 + (X_h_in + 2*P - F_h) / S_h), int(1 + (X_w_in + 2*P - F_w) / S_w)"
      ],
      "outputs": [],
      "metadata": {
        "id": "FewWOUasO4tJ"
      }
    },
    {
      "cell_type": "markdown",
      "source": [
        "<h2>[Problem 1] creating a 2-D convolutional layer</h2>"
      ],
      "metadata": {
        "id": "6YtF1joKO4s_"
      }
    },
    {
      "cell_type": "code",
      "execution_count": null,
      "source": [
        "class SimpleInitializerConv2d:\n",
        "    def __init__(self, sigma=0.01):\n",
        "        self.sigma = sigma\n",
        "    \n",
        "    def W(self, ch_in, ch_out, F_h, F_w):\n",
        "        return self.sigma * np.random.randn(ch_in, ch_out, F_h, F_w)\n",
        "    \n",
        "    def B(self, ch_out):\n",
        "        return self.sigma * np.random.randn(ch_out)"
      ],
      "outputs": [],
      "metadata": {
        "id": "iCKK0YFaO4tA"
      }
    },
    {
      "cell_type": "code",
      "execution_count": null,
      "source": [
        "class SGD:\n",
        "    \"\"\"\n",
        "    Stochastic gradient descent\n",
        "    Parameters\n",
        "    ----------\n",
        "    lr : Learning rate\n",
        "    \"\"\"\n",
        "    def __init__(self, lr=0.01):\n",
        "        self.lr = lr\n",
        "\n",
        "    def update(self, layer):\n",
        "        \"\"\"\n",
        "        Update weights and biases for a layer\n",
        "        Parameters\n",
        "        ----------\n",
        "        layer : Instance of the layer before update\n",
        "        \"\"\"\n",
        "        layer.W -= self.lr * layer.dW\n",
        "        layer.B -= self.lr * layer.dB\n",
        "        return layer"
      ],
      "outputs": [],
      "metadata": {
        "id": "35oEWFw0O4tC"
      }
    },
    {
      "cell_type": "code",
      "execution_count": null,
      "source": [
        "class Conv2d:\n",
        "    \"\"\"\n",
        "    A class of a convolution 2D layer\n",
        "    Parameters\n",
        "    ----------\n",
        "    ch_in : int\n",
        "      input channels\n",
        "    ch_out : int\n",
        "      output channels\n",
        "    F_h : int\n",
        "        filter height\n",
        "    F_w : int\n",
        "        filter width\n",
        "    S_h : int\n",
        "        stride height\n",
        "    S_w : int\n",
        "        stride weight\n",
        "    initializer: instance of initialization method\n",
        "    optimizer: instance of optimization method\n",
        "    \"\"\"\n",
        "    def __init__(self, ch_out, ch_in, F_h, F_w, S_h, S_w, initializer, optimizer):\n",
        "        #W : (ch_out, chi_in, F_h, F_w) Filter\n",
        "        #B : (ch_out, ) Bias\n",
        "        self.ch_in = ch_in\n",
        "        self.ch_out = ch_out\n",
        "        self.F_h = F_h\n",
        "        self.F_w = F_w\n",
        "        self.S_h = S_h\n",
        "        self.S_w = S_w\n",
        "        self.W = initializer.W(ch_out, ch_in, F_h, F_w)\n",
        "        self.B = initializer.B(ch_out)\n",
        "        self.optimizer = optimizer\n",
        "\n",
        "    def forward(self, X):\n",
        "        \"\"\"\n",
        "        forward propagation, finding A\n",
        "        Parameters\n",
        "        ----------\n",
        "        X : (n_samples, ch_in, height, width)\n",
        "            input samples\n",
        "        Return\n",
        "        ----------\n",
        "        A : (n_samples, ch_out, A_h, A_w)\n",
        "            featured map\n",
        "        \"\"\"\n",
        "        self.X = X\n",
        "        self.A_h, self.A_w = compute_output_size(X.shape[2], X.shape[3], self.F_h, self.F_w, self.S_h, self.S_w, 0)\n",
        "        A = np.empty((X.shape[0], self.ch_out, self.A_h, self.A_w))\n",
        "        for sample in np.arange(0, X.shape[0]):\n",
        "            for m in np.arange(0, self.ch_out):\n",
        "                for i in np.arange(0, self.A_h):\n",
        "                    for j in np.arange(0, self.A_w):\n",
        "                        A[sample, m, i, j] = np.sum(X[sample, :, i*self.S_h:i*self.S_h+self.F_h, j*self.S_w:j*self.S_w+self.F_w] * self.W[m]) + self.B[m]\n",
        "        return A\n",
        "\n",
        "    def backward(self, dA):\n",
        "        \"\"\"\n",
        "        Backward\n",
        "        Parameters\n",
        "        ----------\n",
        "        dA : The following forms of ndarray, shape (n_samples, ch_out, A_h, A_w)\n",
        "            Gradient flowing from behind\n",
        "        Returns\n",
        "        ----------\n",
        "        dZ : The following forms of ndarray, shape (n_samples, ch_in, height, width)\n",
        "            Gradient to flow forward\n",
        "        \"\"\"\n",
        "        #update dW, dB\n",
        "        self.dW = np.empty((self.ch_out, self.ch_in, self.F_h, self.F_w))\n",
        "        self.dB = np.empty(self.ch_out)\n",
        "        for m in np.arange(0, self.ch_out):\n",
        "            for k in np.arange(0, self.ch_in):\n",
        "                for s in np.arange(0, self.F_h):\n",
        "                    for t in np.arange(0, self.F_w):\n",
        "                        self.dW[m, k, s, t] = np.sum(dA[:, m, :, :] * self.X[:, k, s:s+self.A_h, t:t+self.A_w])\n",
        "            self.dB[m] = np.sum(dA[:, m, :, :])\n",
        "\n",
        "        #update dZ\n",
        "        self.dZ = np.zeros((self.X.shape[0], self.ch_in, self.X.shape[2], self.X.shape[3]))\n",
        "        for sample in np.arange(0, self.dZ.shape[0]):\n",
        "            for k in np.arange(0, self.ch_in):\n",
        "                for i in np.arange(0, self.dZ.shape[2], self.S_h):\n",
        "                    for j in np.arange(0, self.dZ.shape[3], self.S_w):\n",
        "                        total = 0.0\n",
        "                        for m in np.arange(0, self.ch_out):\n",
        "                            for s in np.arange(0, self.F_h):\n",
        "                                if (i - s >= 0 and i - s < self.A_h):\n",
        "                                    for t in np.arange(0, self.F_w):\n",
        "                                        if (j - t >= 0 and j - t < self.A_w):\n",
        "                                            total += dA[sample, m, i-s, j-t] * self.W[m, k, s, t]\n",
        "                        self.dZ[sample, k, i, j] = total\n",
        "        # update new W, B\n",
        "        self = self.optimizer.update(self)\n",
        "        return self.dZ"
      ],
      "outputs": [],
      "metadata": {
        "id": "UCcbFKsrO4tC"
      }
    },
    {
      "cell_type": "markdown",
      "source": [
        "<h2>[Problem 2] Experiments with 2D convolutional layers on small arrays</h2>"
      ],
      "metadata": {
        "id": "hFDluOjFO4tE"
      }
    },
    {
      "cell_type": "markdown",
      "source": [
        "<h3>forward</h3>"
      ],
      "metadata": {
        "id": "7v-tUl3obtbS"
      }
    },
    {
      "cell_type": "code",
      "execution_count": null,
      "source": [
        "# CNN2 のフォワードを流す時の入力データ\n",
        "# (1,1,4,4)\n",
        "x = np.array([[[[ 1,  2,  3,  4],\n",
        "                [ 5,  6,  7,  8],\n",
        "                [ 9, 10, 11, 12],\n",
        "                [13, 14, 15, 16]]]])\n",
        "# (2,1,3,3)\n",
        "w = np.array([[[[ 0.,  0.,  0.],\n",
        "               [ 0.,  1.,  0.],\n",
        "               [ 0., -1.,  0.]]],\n",
        "              [[[ 0.,  0.,  0.],\n",
        "               [ 0., -1.,  1.],\n",
        "               [ 0.,  0.,  0.]]]])"
      ],
      "outputs": [],
      "metadata": {
        "id": "4QT35T6SO4tF"
      }
    },
    {
      "cell_type": "code",
      "execution_count": null,
      "source": [
        "con2d_exp = Conv2d(w.shape[0], x.shape[1], w.shape[2], w.shape[3], 1, 1, SimpleInitializerConv2d(), SGD())\n",
        "con2d_exp.W = w\n",
        "con2d_exp.B = np.zeros(w.shape[0])\n",
        "A = con2d_exp.forward(x)\n",
        "print(A.shape)\n",
        "print(A)"
      ],
      "outputs": [
        {
          "output_type": "stream",
          "name": "stdout",
          "text": [
            "(1, 2, 2, 2)\n",
            "[[[[-4. -4.]\n",
            "   [-4. -4.]]\n",
            "\n",
            "  [[ 1.  1.]\n",
            "   [ 1.  1.]]]]\n"
          ]
        }
      ],
      "metadata": {
        "id": "pBqFEVB3O4tF",
        "colab": {
          "base_uri": "https://localhost:8080/"
        },
        "outputId": "8d25b7a5-d491-487d-95e4-4633c2bd3944"
      }
    },
    {
      "cell_type": "markdown",
      "source": [
        "<h3>Backward</h3>"
      ],
      "metadata": {
        "id": "U2v9HPnNbx_6"
      }
    },
    {
      "cell_type": "code",
      "execution_count": null,
      "source": [
        "# (1,2,2,2)\n",
        "delta = np.array([[[[ -4,  -4],\n",
        "                   [ 10,  11]],\n",
        "                  [[  1,  -7],\n",
        "                   [  1, -11]]]])\n",
        "print(delta.shape)\n",
        "print(delta)"
      ],
      "outputs": [
        {
          "output_type": "stream",
          "name": "stdout",
          "text": [
            "(1, 2, 2, 2)\n",
            "[[[[ -4  -4]\n",
            "   [ 10  11]]\n",
            "\n",
            "  [[  1  -7]\n",
            "   [  1 -11]]]]\n"
          ]
        }
      ],
      "metadata": {
        "id": "lA5uH8BSb0bl",
        "colab": {
          "base_uri": "https://localhost:8080/"
        },
        "outputId": "495ac7cf-4a60-488d-fe4b-e513ce00ea5e"
      }
    },
    {
      "cell_type": "code",
      "execution_count": null,
      "source": [
        "con2d_exp.backward(delta)"
      ],
      "outputs": [
        {
          "output_type": "execute_result",
          "data": {
            "text/plain": [
              "array([[[[  0.,   0.,   0.,   0.],\n",
              "         [  0.,  -5.,   4.,  -7.],\n",
              "         [  0.,  13.,  27., -11.],\n",
              "         [  0., -10., -11.,   0.]]]])"
            ]
          },
          "metadata": {
            "tags": []
          },
          "execution_count": 9
        }
      ],
      "metadata": {
        "id": "pww1Dr_mb1cu",
        "colab": {
          "base_uri": "https://localhost:8080/"
        },
        "outputId": "1817fd20-9a90-47c7-d143-75c970ee4d1d"
      }
    },
    {
      "cell_type": "markdown",
      "source": [
        "<h2>[Problem 4] Creation of maximum pooling layer</h2>"
      ],
      "metadata": {
        "id": "N4omH0qafgg7"
      }
    },
    {
      "cell_type": "code",
      "execution_count": null,
      "source": [
        "class MaxPool2D:\n",
        "    def __init__(self, p, q, S_h, S_w):\n",
        "        self.p = p\n",
        "        self.q = q\n",
        "        self.S_h = S_h\n",
        "        self.S_w = S_w\n",
        "    \n",
        "    def forward(self, X):\n",
        "        \"\"\"\n",
        "        forward propagation, finding A\n",
        "        Parameters\n",
        "        ----------\n",
        "        X : (n_samples, ch_out, height, width)\n",
        "            input featured map\n",
        "        Return\n",
        "        ----------\n",
        "        A : (n_samples, ch_out, A_h, A_w)\n",
        "            max pooling featured map\n",
        "        \"\"\"\n",
        "        self.X = X\n",
        "        self.A_h, self.A_w = compute_output_size(X.shape[2], X.shape[3], self.p, self.q, self.S_h, self.S_w, 0)\n",
        "        A = np.empty((X.shape[0], X.shape[1], self.A_h, self.A_w))\n",
        "        self.X_max_idx = np.empty((X.shape[0], X.shape[1], self.A_h, self.A_w))\n",
        "        for sample in np.arange(0, X.shape[0]):\n",
        "            for k in np.arange(0, X.shape[1]):\n",
        "                for i in np.arange(0, self.A_h):\n",
        "                    for j in np.arange(0, self.A_w):\n",
        "                        A[sample, k, i, j] = np.max(X[sample, k, i*self.S_h:i*self.S_h+self.p, j*self.S_w:j*self.S_w+self.q])\n",
        "                        self.X_max_idx[sample, k, i, j] = np.argmax(X[sample, k, i*self.S_h:i*self.S_h+self.p, j*self.S_w:j*self.S_w+self.q])\n",
        "        return A\n",
        "    \n",
        "    def backward(self, dA):\n",
        "        \"\"\"\n",
        "        backpropagation, finding dZ\n",
        "        Parameters\n",
        "        ----------\n",
        "        dA : (n_samples, ch_out, A_h, A_w)\n",
        "        Return\n",
        "        ----------\n",
        "        dZ : (n_samples, ch_out, height, width)\n",
        "        \"\"\"\n",
        "        dZ = np.zeros(self.X.shape)\n",
        "        for sample in np.arange(0, dA.shape[0]):\n",
        "            for k in np.arange(0, dA.shape[1]):\n",
        "                for i in np.arange(0, dA.shape[2]):\n",
        "                    for j in np.arange(0, dA.shape[3]):\n",
        "                        pool = np.zeros(self.p*self.q)\n",
        "                        pool[int(self.X_max_idx[sample, k, i, j])] = dA[sample, k, i, j]\n",
        "                        dZ[sample, k, i*self.S_h:i*self.S_h+self.p, j*self.S_w:j*self.S_w+self.q] = pool.reshape(self.p, self.q)\n",
        "        return dZ"
      ],
      "outputs": [],
      "metadata": {
        "id": "QBrNDJAtfgQC"
      }
    },
    {
      "cell_type": "code",
      "execution_count": null,
      "source": [
        "A = np.array([[[[ 1,  2,  3,  4],\n",
        "                [ 5,  6,  7,  8],\n",
        "                [ 9, 10, 11, 12],\n",
        "                [13, 14, 15, 16]]]])\n",
        "\n",
        "maxpool2d_exp = MaxPool2D(2, 2, 2, 2)\n",
        "A_pool = maxpool2d_exp.forward(A)\n",
        "\n",
        "A_pool"
      ],
      "outputs": [
        {
          "output_type": "execute_result",
          "data": {
            "text/plain": [
              "array([[[[ 6.,  8.],\n",
              "         [14., 16.]]]])"
            ]
          },
          "metadata": {
            "tags": []
          },
          "execution_count": 11
        }
      ],
      "metadata": {
        "id": "bvSUT2gOnd-Z",
        "colab": {
          "base_uri": "https://localhost:8080/"
        },
        "outputId": "3fbc1810-522f-46fe-fd45-d8d18430ebe1"
      }
    },
    {
      "cell_type": "code",
      "execution_count": null,
      "source": [
        "dA = np.array([[[[ 1.,  2.],\n",
        "                 [3., 4.]]]])\n",
        "dA_pool = maxpool2d_exp.backward(dA)\n",
        "\n",
        "dA_pool"
      ],
      "outputs": [
        {
          "output_type": "execute_result",
          "data": {
            "text/plain": [
              "array([[[[0., 0., 0., 0.],\n",
              "         [0., 1., 0., 2.],\n",
              "         [0., 0., 0., 0.],\n",
              "         [0., 3., 0., 4.]]]])"
            ]
          },
          "metadata": {
            "tags": []
          },
          "execution_count": 12
        }
      ],
      "metadata": {
        "id": "HRgXp5qiBgf-",
        "colab": {
          "base_uri": "https://localhost:8080/"
        },
        "outputId": "8aaddf0f-7339-4720-d1a4-c940c8f2ebfa"
      }
    },
    {
      "cell_type": "markdown",
      "source": [
        "<h2>[Problem 6] Smoothing</h2>"
      ],
      "metadata": {
        "id": "4DTIKiOCF49b"
      }
    },
    {
      "cell_type": "code",
      "execution_count": null,
      "source": [
        "class Flatten:\n",
        "    def forward(self, A):\n",
        "        \"\"\"\n",
        "        forward propagation of flattening\n",
        "        Parameters\n",
        "        ----------\n",
        "        A : (n_samples, ch_out, A_h, A_w)\n",
        "            pooling input\n",
        "        Return\n",
        "        ----------\n",
        "        flattened A : (n_samples, ch_out * A_h * A_w)\n",
        "        \"\"\"\n",
        "        self.n_samples, self.ch_out, self.A_h, self.A_w = A.shape\n",
        "        return A.reshape(self.n_samples, -1)\n",
        "\n",
        "    def backward(self, dA):\n",
        "        \"\"\"\n",
        "        backward propagation of flattening\n",
        "        Parameters\n",
        "        ----------\n",
        "        dA : (n_samples, ch_out * height * width)\n",
        "            flatten input\n",
        "        Return\n",
        "        ----------\n",
        "        de-flattened dA : (n_samples, ch_out, A_h, A_w)\n",
        "        \"\"\"\n",
        "        return dA.reshape(self.n_samples, self.ch_out, self.A_h, self.A_w)"
      ],
      "outputs": [],
      "metadata": {
        "id": "Ta-XS1i7F5os"
      }
    },
    {
      "cell_type": "code",
      "execution_count": null,
      "source": [
        "smooth_exp = Flatten()\n",
        "smooth_exp.forward(A_pool)"
      ],
      "outputs": [
        {
          "output_type": "execute_result",
          "data": {
            "text/plain": [
              "array([[ 6.,  8., 14., 16.]])"
            ]
          },
          "metadata": {
            "tags": []
          },
          "execution_count": 14
        }
      ],
      "metadata": {
        "id": "KEClgdR2ST1k",
        "colab": {
          "base_uri": "https://localhost:8080/"
        },
        "outputId": "ba049884-1ee5-4dd0-9473-dfe4daa5e11e"
      }
    },
    {
      "cell_type": "code",
      "execution_count": null,
      "source": [
        "dA = np.array([[ -5.,  4., 16., 12.]])\n",
        "smooth_exp.backward(dA)"
      ],
      "outputs": [
        {
          "output_type": "execute_result",
          "data": {
            "text/plain": [
              "array([[[[-5.,  4.],\n",
              "         [16., 12.]]]])"
            ]
          },
          "metadata": {
            "tags": []
          },
          "execution_count": 15
        }
      ],
      "metadata": {
        "id": "X0rZVPSZSssY",
        "colab": {
          "base_uri": "https://localhost:8080/"
        },
        "outputId": "337303ff-7ee7-4969-f655-c9c08dd4ee49"
      }
    },
    {
      "cell_type": "markdown",
      "source": [
        "<h2>Create class Scratch2dCNNClassifier</h2>"
      ],
      "metadata": {
        "id": "hTdRSmNsXuwv"
      }
    },
    {
      "cell_type": "code",
      "execution_count": null,
      "source": [
        "class HeInitializer:\n",
        "    def __init__(self, n_nodes1):\n",
        "        self.sigma = (2.0 / n_nodes1)**(1/2)\n",
        "\n",
        "    def W(self, n_nodes1, n_nodes2):\n",
        "        return self.sigma * np.random.randn(n_nodes1, n_nodes2)\n",
        "\n",
        "    def B(self, n_nodes2):\n",
        "        return self.sigma * np.random.randn(n_nodes2)"
      ],
      "outputs": [],
      "metadata": {
        "id": "QoXzvIQdqCps"
      }
    },
    {
      "cell_type": "code",
      "execution_count": null,
      "source": [
        "class ReLU:\n",
        "    def forward(self, A):\n",
        "        return np.maximum(A, 0)\n",
        "    \n",
        "    def backward(self, dZ, Z):\n",
        "        return dZ * (Z > 0)"
      ],
      "outputs": [],
      "metadata": {
        "id": "OPv3ooisqENF"
      }
    },
    {
      "cell_type": "code",
      "execution_count": null,
      "source": [
        "class Softmax:\n",
        "    def forward(self, A):\n",
        "        return np.exp(A) / np.sum(np.exp(A), axis=1).reshape(-1, 1)\n",
        "    \n",
        "    def backward(self, Z, y):\n",
        "        \"\"\"return dA, CEE\"\"\"\n",
        "        return (Z - y) / y.shape[0], -np.sum((y * np.log(Z + 1e-7))) / y.shape[0]"
      ],
      "outputs": [],
      "metadata": {
        "id": "yyTu2SIpqEt9"
      }
    },
    {
      "cell_type": "code",
      "execution_count": null,
      "source": [
        "class SimpleInitializer:\n",
        "    \"\"\"\n",
        "    Simple initialization with Gaussian distribution\n",
        "    Parameters\n",
        "    ----------\n",
        "    sigma : float\n",
        "      Standard deviation of Gaussian distribution\n",
        "    \"\"\"\n",
        "    def __init__(self, sigma=0.01):\n",
        "        self.sigma = sigma\n",
        "\n",
        "    def W(self, n_nodes1, n_nodes2):\n",
        "        \"\"\"\n",
        "        Weight initialization\n",
        "        Parameters\n",
        "        ----------\n",
        "        n_nodes1 : int\n",
        "          Number of nodes in the previous layer\n",
        "        n_nodes2 : int\n",
        "          Number of nodes in the later layer\n",
        "        Returns\n",
        "        ----------\n",
        "        W : weight\n",
        "        \"\"\"\n",
        "        return self.sigma * np.random.randn(n_nodes1, n_nodes2)\n",
        "\n",
        "    def B(self, n_nodes2):\n",
        "        \"\"\"\n",
        "        Bias initialization\n",
        "        Parameters\n",
        "        ----------\n",
        "        n_nodes2 : int\n",
        "          Number of nodes in the later layer\n",
        "        Returns\n",
        "        ----------\n",
        "        B : bias\n",
        "        \"\"\"\n",
        "        return self.sigma * np.random.randn(n_nodes2)"
      ],
      "outputs": [],
      "metadata": {
        "id": "_NsSOCKLqHNk"
      }
    },
    {
      "cell_type": "code",
      "execution_count": null,
      "source": [
        "class FC:\n",
        "    \"\"\"\n",
        "    Number of nodes Fully connected layer from n_nodes1 to n_nodes2\n",
        "    Parameters\n",
        "    ----------\n",
        "    n_nodes1 : int\n",
        "      Number of nodes in the previous layer\n",
        "    n_nodes2 : int\n",
        "      Number of nodes in the later layer\n",
        "    initializer: instance of initialization method\n",
        "    optimizer: instance of optimization method\n",
        "    \"\"\"\n",
        "    def __init__(self, n_nodes1, n_nodes2, initializer, optimizer):\n",
        "        self.optimizer = optimizer\n",
        "        # Initialize\n",
        "        # Initialize self.W and self.B using the initializer method\n",
        "        self.W = initializer.W(n_nodes1, n_nodes2)\n",
        "        self.B = initializer.B(n_nodes2)\n",
        "\n",
        "    def forward(self, X):\n",
        "        \"\"\"\n",
        "        forward\n",
        "        Parameters\n",
        "        ----------\n",
        "        X : The following forms of ndarray, shape (batch_size, n_nodes1)\n",
        "            入力\n",
        "        Returns\n",
        "        ----------\n",
        "        A : The following forms of ndarray, shape (batch_size, n_nodes2)\n",
        "            output\n",
        "        \"\"\"       \n",
        "        self.X = X\n",
        "        A = X @ self.W + self.B\n",
        "        return A\n",
        "\n",
        "    def backward(self, dA):\n",
        "        \"\"\"\n",
        "        Backward\n",
        "        Parameters\n",
        "        ----------\n",
        "        dA : The following forms of ndarray, shape (batch_size, n_nodes2)\n",
        "            Gradient flowing from behind\n",
        "        Returns\n",
        "        ----------\n",
        "        dZ : The following forms of ndarray, shape (batch_size, n_nodes1)\n",
        "            Gradient to flow forward\n",
        "        \"\"\"\n",
        "        self.dA = dA\n",
        "        dZ = dA @ self.W.T\n",
        "        self.dW = self.X.T @ dA\n",
        "        self.dB = np.sum(dA, axis=0)\n",
        "        # update\n",
        "        self = self.optimizer.update(self)\n",
        "        return dZ"
      ],
      "outputs": [],
      "metadata": {
        "id": "hkSrJ-XUp4Ig"
      }
    },
    {
      "cell_type": "code",
      "execution_count": null,
      "source": [
        "class GetMiniBatch:\n",
        "    \"\"\"\n",
        "    Iterator to get a mini-batch\n",
        "    Parameters\n",
        "    ----------\n",
        "    X : The following forms of ndarray, shape (n_samples, n_features)\n",
        "      Training data\n",
        "    y : The following form of ndarray, shape (n_samples, 1)\n",
        "      Correct answer value\n",
        "    batch_size : int\n",
        "      Batch size\n",
        "    seed : int\n",
        "      NumPy random number seed\n",
        "    \"\"\"\n",
        "    def __init__(self, X, y, batch_size = 20, seed=0):\n",
        "        self.batch_size = batch_size\n",
        "        np.random.seed(seed)\n",
        "        shuffle_index = np.random.permutation(np.arange(X.shape[0]))\n",
        "        self._X = X[shuffle_index]\n",
        "        self._y = y[shuffle_index]\n",
        "        self._stop = np.ceil(X.shape[0]/self.batch_size).astype(np.int)\n",
        "\n",
        "    def __len__(self):\n",
        "        return self._stop\n",
        "\n",
        "    def __getitem__(self,item):\n",
        "        p0 = item*self.batch_size\n",
        "        p1 = item*self.batch_size + self.batch_size\n",
        "        return self._X[p0:p1], self._y[p0:p1]   \n",
        "\n",
        "    def __iter__(self):\n",
        "        self._counter = 0\n",
        "        return self\n",
        "\n",
        "    def __next__(self):\n",
        "        if self._counter >= self._stop:\n",
        "            raise StopIteration()\n",
        "        p0 = self._counter*self.batch_size\n",
        "        p1 = self._counter*self.batch_size + self.batch_size\n",
        "        self._counter += 1\n",
        "        return self._X[p0:p1], self._y[p0:p1]"
      ],
      "outputs": [],
      "metadata": {
        "id": "zmVqkKmgp26q"
      }
    },
    {
      "cell_type": "code",
      "execution_count": null,
      "source": [
        "class Scratch2dCNNClassifier:\n",
        "    def __init__(self,\n",
        "                ch_out=[1, 1],\n",
        "                F_h=[3, 3],\n",
        "                F_w=[3, 3],\n",
        "                S_h=[1, 1],\n",
        "                S_w=[1, 1],\n",
        "                p=[3, 3],\n",
        "                q=[3, 3],\n",
        "                conv_sigma=0.01,\n",
        "                flatten=Flatten(),\n",
        "                hidden_layers=[400,200],\n",
        "                hidden_activations=['relu', 'relu'],\n",
        "                hidden_initializers=['he', 'he'],\n",
        "                sigma=0.01,\n",
        "                optimizer='sgd',\n",
        "                layer_type=None,\n",
        "                batch_size=20,\n",
        "                epochs=10,\n",
        "                lr=0.01,\n",
        "                seed=0,\n",
        "                verbose=False\n",
        "                ):\n",
        "        self.ch_out = ch_out\n",
        "        self.F_h = np.array(F_h).astype(np.int64)\n",
        "        self.F_w = np.array(F_w).astype(np.int64)\n",
        "        self.S_h = np.array(S_h).astype(np.int64)\n",
        "        self.S_w = np.array(S_w).astype(np.int64)\n",
        "        self.p = np.array(p).astype(np.int64)\n",
        "        self.q = np.array(q).astype(np.int64)\n",
        "        self.conv_sigma=conv_sigma\n",
        "        self.flatten=flatten\n",
        "        self.hidden_layers = hidden_layers\n",
        "        self.activations_name = hidden_activations.copy()\n",
        "        self.activations_name.insert(0, None)\n",
        "        self.activations_name.append('softmax')\n",
        "        self.initializers = hidden_initializers.copy()\n",
        "        self.initializers.insert(0, None)\n",
        "        self.initializers.append('gaussian')\n",
        "        self.sigma = sigma\n",
        "        self.optimizer = optimizer\n",
        "        self.layer_type = layer_type\n",
        "        self.batch_size = batch_size\n",
        "        self.epochs = epochs\n",
        "        self.lr = lr\n",
        "        self.seed = seed\n",
        "        self.verbose = verbose\n",
        "\n",
        "    def _initialize_neural_network(self):\n",
        "        #conv =>\n",
        "        #initialize conv layers and conv activations\n",
        "        self.conv = np.full(self.F_h.shape[0] + 1, None)\n",
        "        self.conv_activations = np.full(self.F_h.shape[0] + 1, None)\n",
        "        for i in np.arange(1, self.F_h.shape[0] + 1): #ch_out, ch_in, F_h, F_w, S_h, S_w, initializer, optimizer\n",
        "            self.conv[i] = Conv2d(self.ch_out[i],\n",
        "                                  self.ch_out[i - 1],\n",
        "                                  self.F_h[i - 1],\n",
        "                                  self.F_w[i - 1],\n",
        "                                  self.S_h[i - 1],\n",
        "                                  self.S_w[i - 1],\n",
        "                                  SimpleInitializerConv2d(self.conv_sigma),\n",
        "                                  SGD(self.lr)\n",
        "                                  )           \n",
        "            self.conv_activations[i] = ReLU()\n",
        "        #Pooling\n",
        "        self.conv_pooling = np.full(self.F_h.shape[0] + 1, None)\n",
        "        for i in np.arange(1, self.F_h.shape[0] + 1):\n",
        "            self.conv_pooling[i] = MaxPool2D(self.p[i - 1], self.q[i - 1], self.p[i - 1], self.q[i - 1])\n",
        "\n",
        "        #FC =>\n",
        "        #choose activations\n",
        "        self.activations = np.full(len(self.n_nodes), None) #activations[0] unused\n",
        "        for i in np.arange(1, len(self.n_nodes)):\n",
        "            if (self.activations_name[i] == 'relu'):\n",
        "                self.activations[i] = ReLU()\n",
        "            elif (self.activations_name[i] == 'softmax'):\n",
        "                self.activations[i] = Softmax()\n",
        "        #choose initializer, optimizer and build neural network\n",
        "        self.FC = np.full(len(self.n_nodes), None) #FC[0] unused\n",
        "        for i in np.arange(1, len(self.n_nodes)):\n",
        "            if (self.optimizer == 'sgd'):\n",
        "                if (self.initializers[i] == 'gaussian'):\n",
        "                    self.FC[i] = FC(self.n_nodes[i - 1], self.n_nodes[i], SimpleInitializer(self.sigma), SGD(self.lr))\n",
        "                elif (self.initializers[i] == 'he'):   \n",
        "                    self.FC[i] = FC(self.n_nodes[i - 1], self.n_nodes[i], HeInitializer(self.n_nodes[i - 1]), SGD(self.lr))\n",
        "\n",
        "    def _forward(self, X):\n",
        "        #conv and activations, pooling\n",
        "        A_conv = np.full(self.F_h.shape[0] + 1, None)\n",
        "        Z_conv = np.full(self.F_h.shape[0] + 1, None)\n",
        "        PA = np.full(self.F_h.shape[0] + 1, None)\n",
        "        PA[0] = X\n",
        "        #for each layer\n",
        "        for i in np.arange(1, self.F_h.shape[0] + 1):\n",
        "            A_conv[i] = self.conv[i].forward(PA[i - 1])\n",
        "            Z_conv[i] = self.conv_activations[i].forward(A_conv[i])\n",
        "            PA[i] = self.conv_pooling[i].forward(Z_conv[i])\n",
        "\n",
        "        #flattening\n",
        "        PA_flatten = self.flatten.forward(PA[-1])\n",
        "\n",
        "        #FC\n",
        "        A = np.full(len(self.n_nodes), None) #A[0] unused\n",
        "        Z = np.full(len(self.n_nodes), None)\n",
        "        Z[0] = PA_flatten\n",
        "        for i in np.arange(1, len(self.n_nodes)):\n",
        "            A[i] = self.FC[i].forward(Z[i - 1])\n",
        "            Z[i] = self.activations[i].forward(A[i])\n",
        "        return Z, Z_conv\n",
        "\n",
        "    def _backward(self, y, Z, Z_conv):\n",
        "        #FC\n",
        "        dA = np.full(len(self.n_nodes), None) #A[0] unused\n",
        "        dZ = np.full(len(self.n_nodes), None) #Z[-1] unused\n",
        "        CEE = None\n",
        "        for i in np.arange(len(self.n_nodes) - 1, 0, -1):\n",
        "            if (self.activations_name[i] == 'softmax'):\n",
        "                dA[i], CEE = self.activations[i].backward(Z[i], y)\n",
        "            else:\n",
        "                dA[i] = self.activations[i].backward(dZ[i], Z[i])\n",
        "            dZ[i - 1] = self.FC[i].backward(dA[i])\n",
        "        #conv\n",
        "        dA_conv = np.full(self.F_h.shape[0] + 1, None)\n",
        "        dZ_conv = np.full(self.F_h.shape[0] + 1, None)\n",
        "        dPA = np.full(self.F_h.shape[0] + 1, None)\n",
        "        #de-flattening\n",
        "        dPA[-1] = self.flatten.backward(dZ[0])\n",
        "        #backward conv\n",
        "        for i in np.arange(self.F_h.shape[0], 0, -1):\n",
        "            dZ_conv[i] = self.conv_pooling[i].backward(dPA[i])\n",
        "            dA_conv[i] = self.conv_activations[i].backward(dZ_conv[i], Z_conv[i])\n",
        "            dPA[i - 1] = self.conv[i].backward(dA_conv[i])\n",
        "        return CEE\n",
        "\n",
        "    def _compute_CEE(self, y, Z):\n",
        "        return -np.sum((y * np.log(Z + 1e-7))) / y.shape[0]\n",
        "\n",
        "    def _optimize(self, X, y, X_val=None, y_val=None):\n",
        "        self.CEE_list = []\n",
        "        self.CEE_list_val = []\n",
        "        get_mini_batch = GetMiniBatch(X, y, batch_size=self.batch_size, seed=self.seed)\n",
        "        for _ in np.arange(0, self.epochs):\n",
        "            for mini_X, mini_y in get_mini_batch:\n",
        "                Z, Z_conv = self._forward(mini_X)\n",
        "                CEE = self._backward(mini_y, Z, Z_conv)\n",
        "                self.CEE_list.append(CEE)\n",
        "            if (X_val is not None and y_val is not None):\n",
        "                Z, _ = self._forward(X_val)\n",
        "                self.CEE_list_val.append(self._compute_CEE(y_val, Z[-1]))\n",
        "\n",
        "    def fit(self, X, y, X_val=None, y_val=None):\n",
        "        \"\"\"\n",
        "        Learn a neural network classifier.\n",
        "        Parameters\n",
        "        ----------\n",
        "        X : The following forms of ndarray, shape (n_samples, n_channels, height, width)\n",
        "            Features of training data\n",
        "        y : The following form of ndarray, shape (n_samples,)\n",
        "            Correct answer value of training data\n",
        "        X_val : The following forms of ndarray, shape (n_samples, n_channels, height, width)\n",
        "            Features of verification data\n",
        "        y_val : The following form of ndarray, shape (n_samples,)\n",
        "            Correct value of verification data\n",
        "        \"\"\"\n",
        "        self.n_output = y.shape[1]\n",
        "        self.ch_out.insert(0, X.shape[1])\n",
        "        #n_nodes for FC\n",
        "        self.n_nodes = self.hidden_layers.copy()\n",
        "        A_h = X.shape[2]\n",
        "        A_w = X.shape[3]\n",
        "        for i in np.arange(0, self.F_h.shape[0]):\n",
        "            #filtering\n",
        "            A_h, A_w = compute_output_size(A_h, A_w, self.F_h[i], self.F_w[i], self.S_h[i], self.S_w[i], 0)\n",
        "            #pooling\n",
        "            A_h, A_w = compute_output_size(A_h, A_w, self.p[i], self.q[i], self.p[i], self.q[i], 0)\n",
        "        self.n_nodes.insert(0, int(A_h * A_w))\n",
        "        self.n_nodes.append(self.n_output)\n",
        "        self._initialize_neural_network()\n",
        "        self._optimize(X, y, X_val, y_val)\n",
        "\n",
        "    def predict(self, X):\n",
        "        \"\"\"\n",
        "        Estimate using a neural network classifier.\n",
        "        Parameters\n",
        "        ----------\n",
        "        X : The following forms of ndarray, shape (n_samples, n_channels, height, width)\n",
        "            sample\n",
        "        Returns\n",
        "        -------\n",
        "            The following form of ndarray, shape (n_samples, 1)\n",
        "            Estimated result\n",
        "        \"\"\"\n",
        "        Z_pred, _ = self._forward(X)\n",
        "        return np.argmax(Z_pred[-1], axis=1)"
      ],
      "outputs": [],
      "metadata": {
        "id": "cs59yZx0X9x0"
      }
    },
    {
      "cell_type": "markdown",
      "source": [
        "<h2>[Problem 7] Learning and estimation</h2>"
      ],
      "metadata": {
        "id": "-dxIi6w_U0Gb"
      }
    },
    {
      "cell_type": "code",
      "execution_count": null,
      "source": [
        "import matplotlib.pyplot as plt\n",
        "from keras.datasets import mnist\n",
        "from sklearn.metrics import accuracy_score\n",
        "from sklearn.preprocessing import OneHotEncoder\n",
        "from sklearn.model_selection import train_test_split"
      ],
      "outputs": [],
      "metadata": {
        "id": "ZY8_wlNnTgPX"
      }
    },
    {
      "cell_type": "markdown",
      "source": [
        "<h3>preprocessing dataset</h3>"
      ],
      "metadata": {
        "id": "PcNtL3g1KJKf"
      }
    },
    {
      "cell_type": "code",
      "execution_count": null,
      "source": [
        "(X_train, y_train), (X_test, y_test) = mnist.load_data()\n",
        "\n",
        "X_train = X_train.astype(np.float)\n",
        "X_test = X_test.astype(np.float)\n",
        "X_train /= 255\n",
        "X_test /= 255\n",
        "\n",
        "X_train = np.expand_dims(X_train, axis=1)\n",
        "X_test = np.expand_dims(X_test, axis=1)\n",
        "\n",
        "enc = OneHotEncoder(handle_unknown='ignore', sparse=False)\n",
        "y_train_one_hot = enc.fit_transform(y_train[:, np.newaxis])\n",
        "y_test_one_hot = enc.transform(y_test[:, np.newaxis])\n",
        "\n",
        "X_train, X_val, y_train, y_val = train_test_split(X_train, y_train_one_hot, test_size=0.2)\n",
        "\n",
        "print(X_train.shape)\n",
        "print(X_val.shape)\n",
        "print(y_train.shape)\n",
        "print(y_val.shape)"
      ],
      "outputs": [
        {
          "output_type": "stream",
          "name": "stdout",
          "text": [
            "Downloading data from https://storage.googleapis.com/tensorflow/tf-keras-datasets/mnist.npz\n",
            "11493376/11490434 [==============================] - 0s 0us/step\n",
            "11501568/11490434 [==============================] - 0s 0us/step\n",
            "(48000, 1, 28, 28)\n",
            "(12000, 1, 28, 28)\n",
            "(48000, 10)\n",
            "(12000, 10)\n"
          ]
        }
      ],
      "metadata": {
        "id": "tXiDIgwzWuUA",
        "colab": {
          "base_uri": "https://localhost:8080/"
        },
        "outputId": "5717f00e-e425-4df6-8a12-23d53c46dba9"
      }
    },
    {
      "cell_type": "markdown",
      "source": [
        "<h3>Essential functions</h3>"
      ],
      "metadata": {
        "id": "R0HL5HTPKUxj"
      }
    },
    {
      "cell_type": "code",
      "execution_count": null,
      "source": [
        "def plot_CEE(CEE_list=None, CEE_list_val=None, epochs=None):\n",
        "    \"\"\"plot final CEE for every epochs\"\"\"\n",
        "    if (CEE_list is not None):\n",
        "        plt.plot(np.arange(1, epochs + 1), CEE_list[::int(len(CEE_list)/epochs)], label=\"train\", marker='o')\n",
        "    if (CEE_list_val is not None):\n",
        "        plt.plot(np.arange(1, epochs + 1), CEE_list_val, label=\"val\", marker='o')\n",
        "    plt.legend()\n",
        "    plt.xlabel(\"iter\")\n",
        "    plt.ylabel(\"CEE\")\n",
        "    plt.title(\"CEE graph\")\n",
        "    plt.grid()\n",
        "    plt.show()"
      ],
      "outputs": [],
      "metadata": {
        "id": "WmxGvWuvKYqs"
      }
    },
    {
      "cell_type": "code",
      "execution_count": null,
      "source": [
        "def draw_fault(y_pred, y_val):\n",
        "    \"\"\"\n",
        "    Display word classification results side by side. The display above the image is \"estimated result / correct answer\".\n",
        "    Parameters:\n",
        "    ----------\n",
        "    y_pred : Estimated ndarray (n_samples,)\n",
        "    y_val : Correct label of verification data (n_samples,)\n",
        "    X_val : Verification data features (n_samples, n_features)\n",
        "    \"\"\"\n",
        "    num = 36 # How many to display\n",
        "\n",
        "    true_false = y_pred==y_val\n",
        "    false_list = np.where(true_false==False)[0].astype(np.int)\n",
        "    if false_list.shape[0] < num:\n",
        "        num = false_list.shape[0]\n",
        "    fig = plt.figure(figsize=(6, 6))\n",
        "    fig.subplots_adjust(left=0, right=0.8,  bottom=0, top=0.8, hspace=1, wspace=0.5)\n",
        "    for i in range(num):\n",
        "        ax = fig.add_subplot(6, 6, i + 1, xticks=[], yticks=[])\n",
        "        ax.set_title(\"{} / {}\".format(y_pred[false_list[i]],y_val[false_list[i]]))\n",
        "        ax.imshow(X_val.reshape(-1,28,28)[false_list[i]], cmap='gray')"
      ],
      "outputs": [],
      "metadata": {
        "id": "_I_gTx3yKZLS"
      }
    },
    {
      "cell_type": "code",
      "execution_count": null,
      "source": [
        "def save_model(model_name, model):\n",
        "    np.savez(model_name + '.npz', model)"
      ],
      "outputs": [],
      "metadata": {
        "id": "2xaEvf9-Kb-p"
      }
    },
    {
      "cell_type": "code",
      "execution_count": null,
      "source": [
        "def handler(model=None, X_train=None, y_train=None, X_val=None, y_val=None, epochs=None, save=False, file_name=None):\n",
        "    model.fit(X_train, y_train, X_val, y_val)\n",
        "    y_pred = model.predict(X_val)\n",
        "    unique_elements, counts_elements = np.unique(y_pred - np.argmax(y_val, axis=1), return_counts=True)\n",
        "    print(\"number of correct cases: {}/{}\".format(int(counts_elements[unique_elements == 0]), y_pred.shape[0]))\n",
        "    print(\"Accuracy: {}\".format(accuracy_score(np.argmax(y_val, axis=1), y_pred)))\n",
        "    plot_CEE(CEE_list=model.CEE_list, CEE_list_val=model.CEE_list_val, epochs=epochs)\n",
        "    draw_fault(y_pred, np.argmax(y_val, axis=1))\n",
        "    if (save == True):\n",
        "        save_model('file_name', model)"
      ],
      "outputs": [],
      "metadata": {
        "id": "OMrqkM_VKePW"
      }
    },
    {
      "cell_type": "markdown",
      "source": [
        "<h3>training</h3>"
      ],
      "metadata": {
        "id": "vWM2f-oVKFNQ"
      }
    },
    {
      "cell_type": "code",
      "execution_count": null,
      "source": [
        "epochs = 1"
      ],
      "outputs": [],
      "metadata": {
        "id": "ZaAzfsoMLCCy"
      }
    },
    {
      "cell_type": "markdown",
      "source": [
        "<h4>Test with 1 convolution layer</h4>"
      ],
      "metadata": {
        "id": "BWxfj_cwckD5"
      }
    },
    {
      "cell_type": "code",
      "execution_count": null,
      "source": [
        "cnn2d_1 = Scratch2dCNNClassifier(\n",
        "                ch_out=[1],\n",
        "                F_h=[4],\n",
        "                F_w=[4],\n",
        "                S_h=[1],\n",
        "                S_w=[1],\n",
        "                p=[2],\n",
        "                q=[2],\n",
        "                conv_sigma=0.01,\n",
        "                flatten=Flatten(),\n",
        "                hidden_layers=[400,200],\n",
        "                hidden_activations=['relu', 'relu'],\n",
        "                hidden_initializers=['he', 'he'],\n",
        "                sigma=0.01,\n",
        "                optimizer='sgd',\n",
        "                layer_type=None,\n",
        "                batch_size=20,\n",
        "                epochs=epochs,\n",
        "                lr=0.01,\n",
        "                seed=0,\n",
        "                verbose=False)\n",
        "\n",
        "handler(cnn2d_1, X_train, y_train, X_val, y_val, epochs)"
      ],
      "outputs": [
        {
          "output_type": "stream",
          "name": "stdout",
          "text": [
            "number of correct cases: 11305/12000\n",
            "Accuracy: 0.9420833333333334\n"
          ]
        },
        {
          "output_type": "display_data",
          "data": {
            "text/plain": [
              "<Figure size 432x288 with 1 Axes>"
            ],
            "image/png": "[encoded data removed]"
          },
          "metadata": {
            "tags": [],
            "needs_background": "light"
          }
        },
        {
          "output_type": "display_data",
          "data": {
            "text/plain": [
              "<Figure size 432x432 with 36 Axes>"
            ],
            "image/png": "[encoded data removed]"
          },
          "metadata": {
            "tags": []
          }
        }
      ],
      "metadata": {
        "colab": {
          "base_uri": "https://localhost:8080/",
          "height": 709
        },
        "id": "OndPe6QvKNBp",
        "outputId": "53275512-93cf-4c16-87ad-1c7f3577eeb3"
      }
    },
    {
      "cell_type": "markdown",
      "source": [
        "<h4>Add more layers</h4>"
      ],
      "metadata": {
        "id": "-xvCKsQtcsPh"
      }
    },
    {
      "cell_type": "code",
      "execution_count": null,
      "source": [
        "cnn2d_2 = Scratch2dCNNClassifier(\n",
        "                ch_out=[1, 1],\n",
        "                F_h=[5, 5],\n",
        "                F_w=[5, 5],\n",
        "                S_h=[1, 1],\n",
        "                S_w=[1, 1],\n",
        "                p=[2, 2],\n",
        "                q=[2, 2],\n",
        "                conv_sigma=0.01,\n",
        "                flatten=Flatten(),\n",
        "                hidden_layers=[120,84],\n",
        "                hidden_activations=['relu', 'relu'],\n",
        "                hidden_initializers=['he', 'he'],\n",
        "                sigma=0.01,\n",
        "                optimizer='sgd',\n",
        "                layer_type=None,\n",
        "                batch_size=20,\n",
        "                epochs=epochs,\n",
        "                lr=0.01,\n",
        "                seed=0,\n",
        "                verbose=False)\n",
        "\n",
        "handler(cnn2d_2, X_train, y_train, X_val, y_val, epochs)"
      ],
      "outputs": [
        {
          "output_type": "stream",
          "name": "stdout",
          "text": [
            "number of correct cases: 1388/12000\n",
            "Accuracy: 0.11566666666666667\n"
          ]
        },
        {
          "output_type": "display_data",
          "data": {
            "text/plain": [
              "<Figure size 432x288 with 1 Axes>"
            ],
            "image/png": "[encoded data removed]"
          },
          "metadata": {
            "tags": [],
            "needs_background": "light"
          }
        },
        {
          "output_type": "display_data",
          "data": {
            "text/plain": [
              "<Figure size 432x432 with 36 Axes>"
            ],
            "image/png": "[encoded data removed]"
          },
          "metadata": {
            "tags": []
          }
        }
      ],
      "metadata": {
        "colab": {
          "base_uri": "https://localhost:8080/",
          "height": 709
        },
        "id": "YdVC7NWpcjGD",
        "outputId": "462ef2e3-3f53-49ce-d3a6-0fef5b6ea108"
      }
    },
    {
      "cell_type": "markdown",
      "source": [
        "<h2>[Problem 10] Calculation of output size and number of parameters</h2>"
      ],
      "metadata": {
        "id": "kKOd492kepH7"
      }
    },
    {
      "cell_type": "markdown",
      "source": [
        "1.\n",
        "\n",
        "    Input size : 144 x 144, 3 channels\n",
        "    Filter size: 3 x 3, 6 channels\n",
        "    Stride : 1\n",
        "    Padding: none\n"
      ],
      "metadata": {
        "id": "iD0j6TCJKsTa"
      }
    },
    {
      "cell_type": "code",
      "execution_count": 5,
      "source": [
        "x_h, x_w = 144, 144\n",
        "F_h, F_w = 3, 3\n",
        "ch_in = 3\n",
        "ch_out = 6\n",
        "S_h, S_w = 1, 1\n",
        "n_samples = 1\n",
        "p = 0\n",
        "\n",
        "input = np.empty((n_samples, ch_in, x_h, x_w))\n",
        "filter = np.empty((ch_out, ch_in, F_h, F_w))\n",
        "bias = np.empty(ch_out)\n",
        "A_h, A_w = compute_output_size(x_h, x_w, F_h, F_w, S_h, S_w, p)\n",
        "conv_layer = np.empty((n_samples, ch_out, A_h, A_w))\n",
        "\n",
        "print(\"input shape: {}\".format(input.shape))\n",
        "print(\"filter shape: {}\".format(filter.shape))\n",
        "print(\"bias shape: {}\".format(bias.shape))\n",
        "print(\"conv_layer shape: {}\".format(conv_layer.shape))"
      ],
      "outputs": [
        {
          "output_type": "stream",
          "name": "stdout",
          "text": [
            "input shape: (1, 3, 144, 144)\n",
            "filter shape: (6, 3, 3, 3)\n",
            "bias shape: (6,)\n",
            "conv_layer shape: (1, 6, 142, 142)\n"
          ]
        }
      ],
      "metadata": {
        "id": "spHKtp4berqc",
        "colab": {
          "base_uri": "https://localhost:8080/"
        },
        "outputId": "6df94515-b20f-498c-ad2c-84b731051644"
      }
    },
    {
      "cell_type": "markdown",
      "source": [
        "2.\n",
        "\n",
        "    Input size : 60x60, 24 channels\n",
        "    Filter size: 3 x 3, 48 channels\n",
        "    Stride : 1\n",
        "    Padding: none\n"
      ],
      "metadata": {
        "id": "waiLsapWNjE5"
      }
    },
    {
      "cell_type": "code",
      "execution_count": 6,
      "source": [
        "x_h, x_w = 60, 60\n",
        "F_h, F_w = 3, 3\n",
        "ch_in = 24\n",
        "ch_out = 48\n",
        "S_h, S_w = 1, 1\n",
        "n_samples = 1\n",
        "p = 0\n",
        "\n",
        "input = np.empty((n_samples, ch_in, x_h, x_w))\n",
        "filter = np.empty((ch_out, ch_in, F_h, F_w))\n",
        "bias = np.empty(ch_out)\n",
        "A_h, A_w = compute_output_size(x_h, x_w, F_h, F_w, S_h, S_w, p)\n",
        "conv_layer = np.empty((n_samples, ch_out, A_h, A_w))\n",
        "\n",
        "print(\"input shape: {}\".format(input.shape))\n",
        "print(\"filter shape: {}\".format(filter.shape))\n",
        "print(\"bias shape: {}\".format(bias.shape))\n",
        "print(\"conv_layer shape: {}\".format(conv_layer.shape))"
      ],
      "outputs": [
        {
          "output_type": "stream",
          "name": "stdout",
          "text": [
            "input shape: (1, 24, 60, 60)\n",
            "filter shape: (48, 24, 3, 3)\n",
            "bias shape: (48,)\n",
            "conv_layer shape: (1, 48, 58, 58)\n"
          ]
        }
      ],
      "metadata": {
        "colab": {
          "base_uri": "https://localhost:8080/"
        },
        "id": "ug4wHMO_NhVR",
        "outputId": "f6c75f5c-2a6a-4cdf-c221-0df39d684456"
      }
    },
    {
      "cell_type": "markdown",
      "source": [
        "3.\n",
        "\n",
        "    Input size : 20x20, 10 channels\n",
        "    Filter size: 3 x 3, 20 channels\n",
        "    Stride: 2\n",
        "    Padding: none\n"
      ],
      "metadata": {
        "id": "qT1oXuZCNsAn"
      }
    },
    {
      "cell_type": "code",
      "execution_count": 7,
      "source": [
        "x_h, x_w = 20, 20\n",
        "F_h, F_w = 3, 3\n",
        "ch_in = 10\n",
        "ch_out = 20\n",
        "S_h, S_w = 2, 2\n",
        "n_samples = 1\n",
        "p = 0\n",
        "\n",
        "input = np.empty((n_samples, ch_in, x_h, x_w))\n",
        "filter = np.empty((ch_out, ch_in, F_h, F_w))\n",
        "bias = np.empty(ch_out)\n",
        "A_h, A_w = compute_output_size(x_h, x_w, F_h, F_w, S_h, S_w, p)\n",
        "conv_layer = np.empty((n_samples, ch_out, A_h, A_w))\n",
        "\n",
        "print(\"input shape: {}\".format(input.shape))\n",
        "print(\"filter shape: {}\".format(filter.shape))\n",
        "print(\"bias shape: {}\".format(bias.shape))\n",
        "print(\"conv_layer shape: {}\".format(conv_layer.shape))"
      ],
      "outputs": [
        {
          "output_type": "stream",
          "name": "stdout",
          "text": [
            "input shape: (1, 10, 20, 20)\n",
            "filter shape: (20, 10, 3, 3)\n",
            "bias shape: (20,)\n",
            "conv_layer shape: (1, 20, 9, 9)\n"
          ]
        }
      ],
      "metadata": {
        "colab": {
          "base_uri": "https://localhost:8080/"
        },
        "id": "QgxcRGl4Nshz",
        "outputId": "bb585810-7514-40d5-945a-55a42b4d8fc9"
      }
    }
  ]
}