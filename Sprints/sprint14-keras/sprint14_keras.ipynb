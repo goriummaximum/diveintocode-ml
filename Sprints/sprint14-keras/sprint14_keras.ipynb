{
  "nbformat": 4,
  "nbformat_minor": 0,
  "metadata": {
    "colab": {
      "name": "sprint14-keras.ipynb",
      "provenance": [],
      "collapsed_sections": []
    },
    "kernelspec": {
      "name": "python3",
      "display_name": "Python 3"
    },
    "language_info": {
      "name": "python"
    }
  },
  "cells": [
    {
      "cell_type": "code",
      "metadata": {
        "colab": {
          "base_uri": "https://localhost:8080/"
        },
        "id": "gMnj9BizscqR",
        "outputId": "4215fe13-e95e-403a-b99c-98567095ecf8"
      },
      "source": [
        "!pip install ipython-autotime\n",
        "%load_ext autotime"
      ],
      "execution_count": 345,
      "outputs": [
        {
          "output_type": "stream",
          "name": "stdout",
          "text": [
            "Requirement already satisfied: ipython-autotime in /usr/local/lib/python3.7/dist-packages (0.3.1)\n",
            "Requirement already satisfied: ipython in /usr/local/lib/python3.7/dist-packages (from ipython-autotime) (5.5.0)\n",
            "Requirement already satisfied: pickleshare in /usr/local/lib/python3.7/dist-packages (from ipython->ipython-autotime) (0.7.5)\n",
            "Requirement already satisfied: simplegeneric>0.8 in /usr/local/lib/python3.7/dist-packages (from ipython->ipython-autotime) (0.8.1)\n",
            "Requirement already satisfied: pygments in /usr/local/lib/python3.7/dist-packages (from ipython->ipython-autotime) (2.6.1)\n",
            "Requirement already satisfied: decorator in /usr/local/lib/python3.7/dist-packages (from ipython->ipython-autotime) (4.4.2)\n",
            "Requirement already satisfied: traitlets>=4.2 in /usr/local/lib/python3.7/dist-packages (from ipython->ipython-autotime) (5.1.0)\n",
            "Requirement already satisfied: setuptools>=18.5 in /usr/local/lib/python3.7/dist-packages (from ipython->ipython-autotime) (57.4.0)\n",
            "Requirement already satisfied: pexpect in /usr/local/lib/python3.7/dist-packages (from ipython->ipython-autotime) (4.8.0)\n",
            "Requirement already satisfied: prompt-toolkit<2.0.0,>=1.0.4 in /usr/local/lib/python3.7/dist-packages (from ipython->ipython-autotime) (1.0.18)\n",
            "Requirement already satisfied: wcwidth in /usr/local/lib/python3.7/dist-packages (from prompt-toolkit<2.0.0,>=1.0.4->ipython->ipython-autotime) (0.2.5)\n",
            "Requirement already satisfied: six>=1.9.0 in /usr/local/lib/python3.7/dist-packages (from prompt-toolkit<2.0.0,>=1.0.4->ipython->ipython-autotime) (1.15.0)\n",
            "Requirement already satisfied: ptyprocess>=0.5 in /usr/local/lib/python3.7/dist-packages (from pexpect->ipython->ipython-autotime) (0.7.0)\n",
            "The autotime extension is already loaded. To reload it, use:\n",
            "  %reload_ext autotime\n",
            "time: 3.48 s (started: 2021-09-23 19:04:02 +00:00)\n"
          ]
        }
      ]
    },
    {
      "cell_type": "code",
      "metadata": {
        "colab": {
          "base_uri": "https://localhost:8080/"
        },
        "id": "vWgnAoVsPLRq",
        "outputId": "04776071-4fd3-4573-8a61-8022822b42a3"
      },
      "source": [
        "iris_path = \"/content/drive/MyDrive/Colab Notebooks/data/Iris.csv\"\n",
        "house_path = \"/content/drive/MyDrive/Colab-Notebooks/data/house-price/train.csv\""
      ],
      "execution_count": 346,
      "outputs": [
        {
          "output_type": "stream",
          "name": "stdout",
          "text": [
            "time: 1.27 ms (started: 2021-09-23 19:04:06 +00:00)\n"
          ]
        }
      ]
    },
    {
      "cell_type": "code",
      "metadata": {
        "colab": {
          "base_uri": "https://localhost:8080/"
        },
        "id": "UT7Kju8Xq_Q-",
        "outputId": "2b9aa53e-e87a-4981-8a9d-ac961925af40"
      },
      "source": [
        "import tensorflow as tf\n",
        "import numpy as np"
      ],
      "execution_count": 347,
      "outputs": [
        {
          "output_type": "stream",
          "name": "stdout",
          "text": [
            "time: 1.34 ms (started: 2021-09-23 19:04:06 +00:00)\n"
          ]
        }
      ]
    },
    {
      "cell_type": "code",
      "metadata": {
        "colab": {
          "base_uri": "https://localhost:8080/"
        },
        "id": "nYGN_iW9_icT",
        "outputId": "9fc73800-6674-4b16-fed5-6e7f6ee99502"
      },
      "source": [
        "import matplotlib.pyplot as plt\n",
        "\n",
        "def plot_history(title, loss, val_loss, loss_unit, metric, val_metric, metric_unit):\n",
        "    fig, axes = plt.subplots(1, 2, figsize=(12, 5), sharey=True)\n",
        "    fig.suptitle(title)\n",
        "\n",
        "    axes[0].plot(loss, label='train')\n",
        "    axes[0].plot(val_loss, label='val')\n",
        "    axes[0].set_xlabel('epoch')\n",
        "    axes[0].set_ylabel(loss_unit)\n",
        "    axes[0].legend()\n",
        "\n",
        "    axes[1].plot(metric, label='train')\n",
        "    axes[1].plot(val_metric, label='val')\n",
        "    axes[1].set_xlabel('epoch')\n",
        "    axes[1].set_ylabel(metric_unit)\n",
        "    axes[1].legend()\n",
        "\n",
        "    #fig.tight_layout()"
      ],
      "execution_count": 348,
      "outputs": [
        {
          "output_type": "stream",
          "name": "stdout",
          "text": [
            "time: 25.7 ms (started: 2021-09-23 19:04:06 +00:00)\n"
          ]
        }
      ]
    },
    {
      "cell_type": "markdown",
      "metadata": {
        "id": "w7_vELc611nl"
      },
      "source": [
        "<h2>[Problem 1] Sharing and executing the official tutorial model</h2>"
      ]
    },
    {
      "cell_type": "markdown",
      "metadata": {
        "id": "83W2Mb87JsuL"
      },
      "source": [
        "I use the beginner quickstart model that Tensorflow introduces. This model classifies MNIST dataset. <br>\n",
        "<a href=\"https://www.tensorflow.org/tutorials/quickstart/beginner\" target=\"_blank\"> Reference </a>"
      ]
    },
    {
      "cell_type": "code",
      "metadata": {
        "id": "dtQuLvhF10YI",
        "colab": {
          "base_uri": "https://localhost:8080/"
        },
        "outputId": "13805698-b4dd-4131-d17a-7050c4784d14"
      },
      "source": [
        "mnist = tf.keras.datasets.mnist\n",
        "\n",
        "(x_train, y_train), (x_test, y_test) = mnist.load_data()\n",
        "x_train, x_test = x_train / 255.0, x_test / 255.0\n",
        "\n",
        "print(x_train.shape)\n",
        "print(y_train.shape)"
      ],
      "execution_count": 349,
      "outputs": [
        {
          "output_type": "stream",
          "name": "stdout",
          "text": [
            "(60000, 28, 28)\n",
            "(60000,)\n",
            "time: 752 ms (started: 2021-09-23 19:04:06 +00:00)\n"
          ]
        }
      ]
    },
    {
      "cell_type": "code",
      "metadata": {
        "colab": {
          "base_uri": "https://localhost:8080/"
        },
        "id": "lOAdQsC3Kxw9",
        "outputId": "cfc28daf-4e24-47f5-f4c9-897353918010"
      },
      "source": [
        "model = tf.keras.models.Sequential([\n",
        "                                    tf.keras.layers.Flatten(input_shape=(28, 28)),\n",
        "                                    tf.keras.layers.Dense(128, activation='relu'),\n",
        "                                    tf.keras.layers.Dropout(0.2),\n",
        "                                    tf.keras.layers.Dense(10)\n",
        "])\n",
        "\n",
        "print(type(model))"
      ],
      "execution_count": 350,
      "outputs": [
        {
          "output_type": "stream",
          "name": "stdout",
          "text": [
            "<class 'keras.engine.sequential.Sequential'>\n",
            "time: 52.4 ms (started: 2021-09-23 19:04:06 +00:00)\n"
          ]
        }
      ]
    },
    {
      "cell_type": "markdown",
      "metadata": {
        "id": "PugUXFoBMw9D"
      },
      "source": [
        "return logits"
      ]
    },
    {
      "cell_type": "code",
      "metadata": {
        "colab": {
          "base_uri": "https://localhost:8080/"
        },
        "id": "WfaRjYLpLw9d",
        "outputId": "559558ef-03da-4752-a834-0ad3f2856794"
      },
      "source": [
        "predictions = model(x_train[:1]).numpy()\n",
        "print(predictions)\n",
        "print(predictions.shape)"
      ],
      "execution_count": 351,
      "outputs": [
        {
          "output_type": "stream",
          "name": "stdout",
          "text": [
            "[[ 0.5412797  -0.6978946   0.15543613  0.08519861  0.26008964 -0.37616128\n",
            "   0.65895605 -0.41414893  0.26599073  0.38941693]]\n",
            "(1, 10)\n",
            "time: 11.6 ms (started: 2021-09-23 19:04:07 +00:00)\n"
          ]
        }
      ]
    },
    {
      "cell_type": "markdown",
      "metadata": {
        "id": "B67FHZsbMyei"
      },
      "source": [
        "apply softmax"
      ]
    },
    {
      "cell_type": "code",
      "metadata": {
        "colab": {
          "base_uri": "https://localhost:8080/"
        },
        "id": "HdELRBQLMPK8",
        "outputId": "8959cf5c-ba89-4121-e032-ae402e4afdc9"
      },
      "source": [
        "tf.nn.softmax(predictions).numpy()"
      ],
      "execution_count": 352,
      "outputs": [
        {
          "output_type": "execute_result",
          "data": {
            "text/plain": [
              "array([[0.14522907, 0.04206172, 0.09873789, 0.09204073, 0.10963123,\n",
              "        0.05802484, 0.16336527, 0.05586196, 0.11028008, 0.12476719]],\n",
              "      dtype=float32)"
            ]
          },
          "metadata": {},
          "execution_count": 352
        },
        {
          "output_type": "stream",
          "name": "stdout",
          "text": [
            "time: 6.12 ms (started: 2021-09-23 19:04:07 +00:00)\n"
          ]
        }
      ]
    },
    {
      "cell_type": "code",
      "metadata": {
        "colab": {
          "base_uri": "https://localhost:8080/"
        },
        "id": "8N_BQtz7MtJ-",
        "outputId": "c2c39f5a-c541-4980-a7a7-062149c7d62f"
      },
      "source": [
        "loss_fn = tf.keras.losses.SparseCategoricalCrossentropy(from_logits=True)"
      ],
      "execution_count": 353,
      "outputs": [
        {
          "output_type": "stream",
          "name": "stdout",
          "text": [
            "time: 1.89 ms (started: 2021-09-23 19:04:07 +00:00)\n"
          ]
        }
      ]
    },
    {
      "cell_type": "code",
      "metadata": {
        "colab": {
          "base_uri": "https://localhost:8080/"
        },
        "id": "rZraeyRvNB0B",
        "outputId": "a98fdaa6-d492-40c2-fa4a-01f56122204d"
      },
      "source": [
        "loss_val = loss_fn(y_train[:1], predictions).numpy()\n",
        "print(loss_val)"
      ],
      "execution_count": 354,
      "outputs": [
        {
          "output_type": "stream",
          "name": "stdout",
          "text": [
            "2.846884\n",
            "time: 7.81 ms (started: 2021-09-23 19:04:07 +00:00)\n"
          ]
        }
      ]
    },
    {
      "cell_type": "markdown",
      "metadata": {
        "id": "e-vUunV8NYVQ"
      },
      "source": [
        "=> This is the loss at \"random\" state because the model have not trained."
      ]
    },
    {
      "cell_type": "markdown",
      "metadata": {
        "id": "lfp_EKJ9N1jw"
      },
      "source": [
        "Training step"
      ]
    },
    {
      "cell_type": "code",
      "metadata": {
        "colab": {
          "base_uri": "https://localhost:8080/"
        },
        "id": "4N-ZoeEcNV5v",
        "outputId": "e9988878-4603-4a9e-81b9-262db3fd2f82"
      },
      "source": [
        "model.compile(\n",
        "    optimizer='adam',\n",
        "    loss = loss_fn,\n",
        "    metrics=['accuracy'])"
      ],
      "execution_count": 355,
      "outputs": [
        {
          "output_type": "stream",
          "name": "stdout",
          "text": [
            "time: 11.2 ms (started: 2021-09-23 19:04:07 +00:00)\n"
          ]
        }
      ]
    },
    {
      "cell_type": "code",
      "metadata": {
        "colab": {
          "base_uri": "https://localhost:8080/"
        },
        "id": "2fbq_eC6OdV2",
        "outputId": "e2a8d9c1-fa84-4af3-b041-70555bc42e12"
      },
      "source": [
        "history = model.fit(x_train, y_train, epochs=5)"
      ],
      "execution_count": 356,
      "outputs": [
        {
          "output_type": "stream",
          "name": "stdout",
          "text": [
            "Epoch 1/5\n",
            "1875/1875 [==============================] - 6s 3ms/step - loss: 0.2965 - accuracy: 0.9139\n",
            "Epoch 2/5\n",
            "1875/1875 [==============================] - 5s 3ms/step - loss: 0.1439 - accuracy: 0.9576\n",
            "Epoch 3/5\n",
            "1875/1875 [==============================] - 6s 3ms/step - loss: 0.1081 - accuracy: 0.9676\n",
            "Epoch 4/5\n",
            "1875/1875 [==============================] - 6s 3ms/step - loss: 0.0879 - accuracy: 0.9732\n",
            "Epoch 5/5\n",
            "1875/1875 [==============================] - 7s 4ms/step - loss: 0.0752 - accuracy: 0.9768\n",
            "time: 30.8 s (started: 2021-09-23 19:04:07 +00:00)\n"
          ]
        }
      ]
    },
    {
      "cell_type": "markdown",
      "metadata": {
        "id": "poIGOl49N3ky"
      },
      "source": [
        "evaluating step"
      ]
    },
    {
      "cell_type": "code",
      "metadata": {
        "colab": {
          "base_uri": "https://localhost:8080/"
        },
        "id": "m7gOgEk9Ny8N",
        "outputId": "eee2678f-d3c1-48c8-c318-883a88d8480a"
      },
      "source": [
        "model.evaluate(x_test, y_test, verbose=2)"
      ],
      "execution_count": 357,
      "outputs": [
        {
          "output_type": "stream",
          "name": "stdout",
          "text": [
            "313/313 - 1s - loss: 0.0740 - accuracy: 0.9774\n"
          ]
        },
        {
          "output_type": "execute_result",
          "data": {
            "text/plain": [
              "[0.07398052513599396, 0.977400004863739]"
            ]
          },
          "metadata": {},
          "execution_count": 357
        },
        {
          "output_type": "stream",
          "name": "stdout",
          "text": [
            "time: 876 ms (started: 2021-09-23 19:04:37 +00:00)\n"
          ]
        }
      ]
    },
    {
      "cell_type": "markdown",
      "metadata": {
        "id": "5Ga056pwOsBB"
      },
      "source": [
        "<h2>[Problem 3] Learning Iris (binary classification) with Keras</h2>"
      ]
    },
    {
      "cell_type": "markdown",
      "metadata": {
        "id": "DIYiXUIQPWM4"
      },
      "source": [
        "<h3>Preprocessing</h3>"
      ]
    },
    {
      "cell_type": "code",
      "metadata": {
        "colab": {
          "base_uri": "https://localhost:8080/",
          "height": 52
        },
        "id": "YQ5KceZqOv3j",
        "outputId": "c95a99ab-a2a3-46b2-b666-4177a7c4e109"
      },
      "source": [
        "\"\"\"\n",
        "Binary classification of Iris dataset using neural network implemented in TensorFlow\n",
        "\"\"\"\n",
        "import numpy as np\n",
        "import pandas as pd\n",
        "from sklearn.model_selection import train_test_split\n",
        "#Load dataset\n",
        "df = pd.read_csv(iris_path)\n",
        "display(df.shape)"
      ],
      "execution_count": 358,
      "outputs": [
        {
          "output_type": "display_data",
          "data": {
            "text/plain": [
              "(150, 6)"
            ]
          },
          "metadata": {}
        },
        {
          "output_type": "stream",
          "name": "stdout",
          "text": [
            "time: 16.2 ms (started: 2021-09-23 19:04:38 +00:00)\n"
          ]
        }
      ]
    },
    {
      "cell_type": "code",
      "metadata": {
        "colab": {
          "base_uri": "https://localhost:8080/",
          "height": 69
        },
        "id": "ZamkidCbO-jv",
        "outputId": "41e3e44b-304d-46ee-8240-b52242cb1409"
      },
      "source": [
        "#Condition extraction from data frame\n",
        "df = df[(df[\"Species\"] == \"Iris-versicolor\") | (df[\"Species\"] == \"Iris-virginica\")]\n",
        "y = df[\"Species\"]\n",
        "X = df.loc[:, [\"SepalLengthCm\", \"SepalWidthCm\", \"PetalLengthCm\", \"PetalWidthCm\"]]\n",
        "display(X.shape)\n",
        "display(y.shape)"
      ],
      "execution_count": 359,
      "outputs": [
        {
          "output_type": "display_data",
          "data": {
            "text/plain": [
              "(100, 4)"
            ]
          },
          "metadata": {}
        },
        {
          "output_type": "display_data",
          "data": {
            "text/plain": [
              "(100,)"
            ]
          },
          "metadata": {}
        },
        {
          "output_type": "stream",
          "name": "stdout",
          "text": [
            "time: 18.3 ms (started: 2021-09-23 19:04:38 +00:00)\n"
          ]
        }
      ]
    },
    {
      "cell_type": "code",
      "metadata": {
        "colab": {
          "base_uri": "https://localhost:8080/",
          "height": 52
        },
        "id": "LRbzSpy8PBYg",
        "outputId": "f9fc0ba6-2fe6-40b7-bdc4-3f198d8b53ba"
      },
      "source": [
        "# NumPy 配列に変換\n",
        "X = np.array(X)\n",
        "y = np.array(y)\n",
        "\n",
        "# Convert label to number\n",
        "y[y == \"Iris-versicolor\"] = 0\n",
        "y[y == \"Iris-virginica\"] = 1\n",
        "y = y.astype(np.int64)[:, np.newaxis]\n",
        "display(y.shape)"
      ],
      "execution_count": 360,
      "outputs": [
        {
          "output_type": "display_data",
          "data": {
            "text/plain": [
              "(100, 1)"
            ]
          },
          "metadata": {}
        },
        {
          "output_type": "stream",
          "name": "stdout",
          "text": [
            "time: 9.58 ms (started: 2021-09-23 19:04:38 +00:00)\n"
          ]
        }
      ]
    },
    {
      "cell_type": "code",
      "metadata": {
        "colab": {
          "base_uri": "https://localhost:8080/"
        },
        "id": "p6n4lXUIPDWd",
        "outputId": "ea995f4c-807e-4484-d6aa-ca1af0f0cd81"
      },
      "source": [
        "#Split into train and test\n",
        "X_train, X_test, y_train, y_test = train_test_split(X, y, test_size=0.2, random_state=0)\n",
        "# さらにtrainとvalに分割\n",
        "X_train, X_val, y_train, y_val = train_test_split(X_train, y_train, test_size=0.2, random_state=0)\n",
        "\n",
        "print(\"X_test.shape:   {}\".format(X_test.shape))\n",
        "print(\"y_test.shape:   {}\".format(y_test.shape))\n",
        "print(\"X_train.shape:   {}\".format(X_train.shape))\n",
        "print(\"y_train.shape:   {}\".format(y_train.shape))\n",
        "print(\"X_val.shape:   {}\".format(X_val.shape))\n",
        "print(\"y_val.shape:   {}\".format(y_val.shape))"
      ],
      "execution_count": 361,
      "outputs": [
        {
          "output_type": "stream",
          "name": "stdout",
          "text": [
            "X_test.shape:   (20, 4)\n",
            "y_test.shape:   (20, 1)\n",
            "X_train.shape:   (64, 4)\n",
            "y_train.shape:   (64, 1)\n",
            "X_val.shape:   (16, 4)\n",
            "y_val.shape:   (16, 1)\n",
            "time: 20.2 ms (started: 2021-09-23 19:04:38 +00:00)\n"
          ]
        }
      ]
    },
    {
      "cell_type": "markdown",
      "metadata": {
        "id": "FmpouFfYPZVx"
      },
      "source": [
        "<h3>Training</h3>"
      ]
    },
    {
      "cell_type": "code",
      "metadata": {
        "colab": {
          "base_uri": "https://localhost:8080/"
        },
        "id": "oTmfcUEfQVXl",
        "outputId": "10c1c48d-c762-47b8-f9b2-a22c381df8eb"
      },
      "source": [
        "# Hyperparameter settings\n",
        "learning_rate = 0.001\n",
        "batch_size = 10\n",
        "num_epochs = 100\n",
        "n_hidden1 = 50\n",
        "n_hidden2 = 100\n",
        "n_input = X_train.shape[1]\n",
        "n_samples = X_train.shape[0]\n",
        "n_classes = 1"
      ],
      "execution_count": 362,
      "outputs": [
        {
          "output_type": "stream",
          "name": "stdout",
          "text": [
            "time: 6.02 ms (started: 2021-09-23 19:04:38 +00:00)\n"
          ]
        }
      ]
    },
    {
      "cell_type": "code",
      "metadata": {
        "colab": {
          "base_uri": "https://localhost:8080/"
        },
        "id": "BSMf6Hz3PU4U",
        "outputId": "2e434cbe-99ea-4fad-e7cd-09eaaf792719"
      },
      "source": [
        "#logits\n",
        "binary_iris_model_logits = tf.keras.models.Sequential([\n",
        "                                    tf.keras.layers.Flatten(input_shape=(n_input, )),\n",
        "                                    tf.keras.layers.Dense(n_hidden1, kernel_initializer='he_uniform', bias_initializer='random_normal', activation='relu'),\n",
        "                                    tf.keras.layers.Dense(n_hidden2, kernel_initializer='he_uniform', bias_initializer='random_normal', activation='relu'),\n",
        "                                    #tf.keras.layers.Dropout(0.2),\n",
        "                                    tf.keras.layers.Dense(n_classes)\n",
        "])"
      ],
      "execution_count": 363,
      "outputs": [
        {
          "output_type": "stream",
          "name": "stdout",
          "text": [
            "time: 56.6 ms (started: 2021-09-23 19:04:38 +00:00)\n"
          ]
        }
      ]
    },
    {
      "cell_type": "code",
      "metadata": {
        "colab": {
          "base_uri": "https://localhost:8080/"
        },
        "id": "WpdPhgsyXzJN",
        "outputId": "f0e70d85-7aeb-4b41-baf4-689323f86a12"
      },
      "source": [
        "binary_iris_model_logits.summary()"
      ],
      "execution_count": 364,
      "outputs": [
        {
          "output_type": "stream",
          "name": "stdout",
          "text": [
            "Model: \"sequential_57\"\n",
            "_________________________________________________________________\n",
            "Layer (type)                 Output Shape              Param #   \n",
            "=================================================================\n",
            "flatten_31 (Flatten)         (None, 4)                 0         \n",
            "_________________________________________________________________\n",
            "dense_81 (Dense)             (None, 50)                250       \n",
            "_________________________________________________________________\n",
            "dense_82 (Dense)             (None, 100)               5100      \n",
            "_________________________________________________________________\n",
            "dense_83 (Dense)             (None, 1)                 101       \n",
            "=================================================================\n",
            "Total params: 5,451\n",
            "Trainable params: 5,451\n",
            "Non-trainable params: 0\n",
            "_________________________________________________________________\n",
            "time: 13.2 ms (started: 2021-09-23 19:04:39 +00:00)\n"
          ]
        }
      ]
    },
    {
      "cell_type": "code",
      "metadata": {
        "colab": {
          "base_uri": "https://localhost:8080/"
        },
        "id": "G_dXGe3eUf1c",
        "outputId": "b25737aa-b070-43b8-acfd-b502a8317d62"
      },
      "source": [
        "binary_iris_model = tf.keras.models.Sequential([\n",
        "                                    binary_iris_model_logits,\n",
        "                                    tf.keras.layers.Activation(tf.nn.sigmoid)\n",
        "])"
      ],
      "execution_count": 365,
      "outputs": [
        {
          "output_type": "stream",
          "name": "stdout",
          "text": [
            "time: 31.4 ms (started: 2021-09-23 19:04:39 +00:00)\n"
          ]
        }
      ]
    },
    {
      "cell_type": "code",
      "metadata": {
        "colab": {
          "base_uri": "https://localhost:8080/"
        },
        "id": "dbnQVgJbSRe2",
        "outputId": "f35d187b-d06d-41b2-8a3b-782ae363815a"
      },
      "source": [
        "binary_iris_model.summary()"
      ],
      "execution_count": 366,
      "outputs": [
        {
          "output_type": "stream",
          "name": "stdout",
          "text": [
            "Model: \"sequential_58\"\n",
            "_________________________________________________________________\n",
            "Layer (type)                 Output Shape              Param #   \n",
            "=================================================================\n",
            "sequential_57 (Sequential)   (None, 1)                 5451      \n",
            "_________________________________________________________________\n",
            "activation_15 (Activation)   (None, 1)                 0         \n",
            "=================================================================\n",
            "Total params: 5,451\n",
            "Trainable params: 5,451\n",
            "Non-trainable params: 0\n",
            "_________________________________________________________________\n",
            "time: 4.66 ms (started: 2021-09-23 19:04:39 +00:00)\n"
          ]
        }
      ]
    },
    {
      "cell_type": "code",
      "metadata": {
        "colab": {
          "base_uri": "https://localhost:8080/"
        },
        "id": "_nGnFdXuSez0",
        "outputId": "e48c1c5f-b094-4efc-e7ab-63fd3228c25c"
      },
      "source": [
        "binary_iris_model.compile(\n",
        "            loss='binary_crossentropy',\n",
        "            optimizer=tf.keras.optimizers.Adam(learning_rate=learning_rate),\n",
        "            metrics=['accuracy'])"
      ],
      "execution_count": 367,
      "outputs": [
        {
          "output_type": "stream",
          "name": "stdout",
          "text": [
            "time: 19 ms (started: 2021-09-23 19:04:39 +00:00)\n"
          ]
        }
      ]
    },
    {
      "cell_type": "code",
      "metadata": {
        "colab": {
          "base_uri": "https://localhost:8080/"
        },
        "id": "2O8jndF5TAOy",
        "outputId": "8a4be5eb-a7ab-44a3-cbac-63d4b1809829"
      },
      "source": [
        "history = binary_iris_model.fit(\n",
        "        x=X_train, \n",
        "        y=y_train, \n",
        "        batch_size=batch_size, \n",
        "        epochs=num_epochs, \n",
        "        validation_data=(X_val, y_val)\n",
        "        )"
      ],
      "execution_count": 368,
      "outputs": [
        {
          "output_type": "stream",
          "name": "stdout",
          "text": [
            "Epoch 1/100\n",
            "7/7 [==============================] - 1s 31ms/step - loss: 0.8018 - accuracy: 0.3594 - val_loss: 0.7376 - val_accuracy: 0.3750\n",
            "Epoch 2/100\n",
            "7/7 [==============================] - 0s 6ms/step - loss: 0.7076 - accuracy: 0.4844 - val_loss: 0.6782 - val_accuracy: 0.4375\n",
            "Epoch 3/100\n",
            "7/7 [==============================] - 0s 7ms/step - loss: 0.6533 - accuracy: 0.6250 - val_loss: 0.6470 - val_accuracy: 0.4375\n",
            "Epoch 4/100\n",
            "7/7 [==============================] - 0s 6ms/step - loss: 0.5948 - accuracy: 0.7500 - val_loss: 0.6164 - val_accuracy: 0.5625\n",
            "Epoch 5/100\n",
            "7/7 [==============================] - 0s 7ms/step - loss: 0.5837 - accuracy: 0.6094 - val_loss: 0.5254 - val_accuracy: 1.0000\n",
            "Epoch 6/100\n",
            "7/7 [==============================] - 0s 7ms/step - loss: 0.5355 - accuracy: 0.7656 - val_loss: 0.5080 - val_accuracy: 0.8750\n",
            "Epoch 7/100\n",
            "7/7 [==============================] - 0s 11ms/step - loss: 0.4845 - accuracy: 0.8438 - val_loss: 0.5126 - val_accuracy: 0.7500\n",
            "Epoch 8/100\n",
            "7/7 [==============================] - 0s 7ms/step - loss: 0.4609 - accuracy: 0.7969 - val_loss: 0.4405 - val_accuracy: 1.0000\n",
            "Epoch 9/100\n",
            "7/7 [==============================] - 0s 9ms/step - loss: 0.4409 - accuracy: 0.9375 - val_loss: 0.4224 - val_accuracy: 1.0000\n",
            "Epoch 10/100\n",
            "7/7 [==============================] - 0s 8ms/step - loss: 0.4239 - accuracy: 0.8438 - val_loss: 0.3802 - val_accuracy: 1.0000\n",
            "Epoch 11/100\n",
            "7/7 [==============================] - 0s 7ms/step - loss: 0.4177 - accuracy: 0.8750 - val_loss: 0.3911 - val_accuracy: 1.0000\n",
            "Epoch 12/100\n",
            "7/7 [==============================] - 0s 6ms/step - loss: 0.3676 - accuracy: 0.9062 - val_loss: 0.3999 - val_accuracy: 0.8750\n",
            "Epoch 13/100\n",
            "7/7 [==============================] - 0s 7ms/step - loss: 0.3707 - accuracy: 0.8906 - val_loss: 0.3230 - val_accuracy: 1.0000\n",
            "Epoch 14/100\n",
            "7/7 [==============================] - 0s 6ms/step - loss: 0.3374 - accuracy: 0.9531 - val_loss: 0.3119 - val_accuracy: 1.0000\n",
            "Epoch 15/100\n",
            "7/7 [==============================] - 0s 6ms/step - loss: 0.3344 - accuracy: 0.9062 - val_loss: 0.3174 - val_accuracy: 1.0000\n",
            "Epoch 16/100\n",
            "7/7 [==============================] - 0s 9ms/step - loss: 0.3386 - accuracy: 0.9375 - val_loss: 0.2794 - val_accuracy: 1.0000\n",
            "Epoch 17/100\n",
            "7/7 [==============================] - 0s 6ms/step - loss: 0.3501 - accuracy: 0.8906 - val_loss: 0.3115 - val_accuracy: 1.0000\n",
            "Epoch 18/100\n",
            "7/7 [==============================] - 0s 7ms/step - loss: 0.3226 - accuracy: 0.9375 - val_loss: 0.2572 - val_accuracy: 1.0000\n",
            "Epoch 19/100\n",
            "7/7 [==============================] - 0s 7ms/step - loss: 0.2847 - accuracy: 0.9375 - val_loss: 0.3051 - val_accuracy: 0.9375\n",
            "Epoch 20/100\n",
            "7/7 [==============================] - 0s 7ms/step - loss: 0.2796 - accuracy: 0.9375 - val_loss: 0.2392 - val_accuracy: 1.0000\n",
            "Epoch 21/100\n",
            "7/7 [==============================] - 0s 6ms/step - loss: 0.2742 - accuracy: 0.9375 - val_loss: 0.2591 - val_accuracy: 1.0000\n",
            "Epoch 22/100\n",
            "7/7 [==============================] - 0s 6ms/step - loss: 0.2673 - accuracy: 0.9375 - val_loss: 0.2492 - val_accuracy: 1.0000\n",
            "Epoch 23/100\n",
            "7/7 [==============================] - 0s 6ms/step - loss: 0.2411 - accuracy: 0.9531 - val_loss: 0.2169 - val_accuracy: 1.0000\n",
            "Epoch 24/100\n",
            "7/7 [==============================] - 0s 6ms/step - loss: 0.2638 - accuracy: 0.9375 - val_loss: 0.2367 - val_accuracy: 1.0000\n",
            "Epoch 25/100\n",
            "7/7 [==============================] - 0s 6ms/step - loss: 0.3091 - accuracy: 0.8750 - val_loss: 0.2359 - val_accuracy: 1.0000\n",
            "Epoch 26/100\n",
            "7/7 [==============================] - 0s 8ms/step - loss: 0.2876 - accuracy: 0.9375 - val_loss: 0.2000 - val_accuracy: 1.0000\n",
            "Epoch 27/100\n",
            "7/7 [==============================] - 0s 7ms/step - loss: 0.2631 - accuracy: 0.9062 - val_loss: 0.2791 - val_accuracy: 0.8750\n",
            "Epoch 28/100\n",
            "7/7 [==============================] - 0s 7ms/step - loss: 0.2324 - accuracy: 0.9375 - val_loss: 0.1887 - val_accuracy: 1.0000\n",
            "Epoch 29/100\n",
            "7/7 [==============================] - 0s 7ms/step - loss: 0.2132 - accuracy: 0.9688 - val_loss: 0.2116 - val_accuracy: 1.0000\n",
            "Epoch 30/100\n",
            "7/7 [==============================] - 0s 7ms/step - loss: 0.2138 - accuracy: 0.9688 - val_loss: 0.1860 - val_accuracy: 1.0000\n",
            "Epoch 31/100\n",
            "7/7 [==============================] - 0s 8ms/step - loss: 0.2011 - accuracy: 0.9688 - val_loss: 0.1890 - val_accuracy: 1.0000\n",
            "Epoch 32/100\n",
            "7/7 [==============================] - 0s 8ms/step - loss: 0.1972 - accuracy: 0.9688 - val_loss: 0.1761 - val_accuracy: 1.0000\n",
            "Epoch 33/100\n",
            "7/7 [==============================] - 0s 7ms/step - loss: 0.1965 - accuracy: 0.9688 - val_loss: 0.1723 - val_accuracy: 1.0000\n",
            "Epoch 34/100\n",
            "7/7 [==============================] - 0s 9ms/step - loss: 0.1903 - accuracy: 0.9688 - val_loss: 0.1673 - val_accuracy: 1.0000\n",
            "Epoch 35/100\n",
            "7/7 [==============================] - 0s 8ms/step - loss: 0.1897 - accuracy: 0.9688 - val_loss: 0.1638 - val_accuracy: 1.0000\n",
            "Epoch 36/100\n",
            "7/7 [==============================] - 0s 7ms/step - loss: 0.1866 - accuracy: 0.9688 - val_loss: 0.1683 - val_accuracy: 1.0000\n",
            "Epoch 37/100\n",
            "7/7 [==============================] - 0s 8ms/step - loss: 0.1821 - accuracy: 0.9688 - val_loss: 0.1600 - val_accuracy: 1.0000\n",
            "Epoch 38/100\n",
            "7/7 [==============================] - 0s 9ms/step - loss: 0.1838 - accuracy: 0.9688 - val_loss: 0.1570 - val_accuracy: 1.0000\n",
            "Epoch 39/100\n",
            "7/7 [==============================] - 0s 7ms/step - loss: 0.1858 - accuracy: 0.9375 - val_loss: 0.1518 - val_accuracy: 1.0000\n",
            "Epoch 40/100\n",
            "7/7 [==============================] - 0s 9ms/step - loss: 0.1940 - accuracy: 0.9375 - val_loss: 0.1913 - val_accuracy: 1.0000\n",
            "Epoch 41/100\n",
            "7/7 [==============================] - 0s 9ms/step - loss: 0.1782 - accuracy: 0.9688 - val_loss: 0.1430 - val_accuracy: 1.0000\n",
            "Epoch 42/100\n",
            "7/7 [==============================] - 0s 7ms/step - loss: 0.2051 - accuracy: 0.9531 - val_loss: 0.1670 - val_accuracy: 1.0000\n",
            "Epoch 43/100\n",
            "7/7 [==============================] - 0s 7ms/step - loss: 0.1872 - accuracy: 0.9375 - val_loss: 0.1373 - val_accuracy: 1.0000\n",
            "Epoch 44/100\n",
            "7/7 [==============================] - 0s 6ms/step - loss: 0.1967 - accuracy: 0.9375 - val_loss: 0.1595 - val_accuracy: 1.0000\n",
            "Epoch 45/100\n",
            "7/7 [==============================] - 0s 7ms/step - loss: 0.1507 - accuracy: 0.9688 - val_loss: 0.1328 - val_accuracy: 1.0000\n",
            "Epoch 46/100\n",
            "7/7 [==============================] - 0s 5ms/step - loss: 0.1801 - accuracy: 0.9219 - val_loss: 0.1414 - val_accuracy: 1.0000\n",
            "Epoch 47/100\n",
            "7/7 [==============================] - 0s 6ms/step - loss: 0.1698 - accuracy: 0.9375 - val_loss: 0.1456 - val_accuracy: 1.0000\n",
            "Epoch 48/100\n",
            "7/7 [==============================] - 0s 10ms/step - loss: 0.1649 - accuracy: 0.9531 - val_loss: 0.1260 - val_accuracy: 1.0000\n",
            "Epoch 49/100\n",
            "7/7 [==============================] - 0s 6ms/step - loss: 0.1540 - accuracy: 0.9531 - val_loss: 0.1583 - val_accuracy: 1.0000\n",
            "Epoch 50/100\n",
            "7/7 [==============================] - 0s 7ms/step - loss: 0.1612 - accuracy: 0.9844 - val_loss: 0.1238 - val_accuracy: 1.0000\n",
            "Epoch 51/100\n",
            "7/7 [==============================] - 0s 7ms/step - loss: 0.1447 - accuracy: 0.9688 - val_loss: 0.1301 - val_accuracy: 1.0000\n",
            "Epoch 52/100\n",
            "7/7 [==============================] - 0s 9ms/step - loss: 0.1455 - accuracy: 0.9688 - val_loss: 0.1189 - val_accuracy: 1.0000\n",
            "Epoch 53/100\n",
            "7/7 [==============================] - 0s 10ms/step - loss: 0.1465 - accuracy: 0.9688 - val_loss: 0.1226 - val_accuracy: 1.0000\n",
            "Epoch 54/100\n",
            "7/7 [==============================] - 0s 7ms/step - loss: 0.1725 - accuracy: 0.9375 - val_loss: 0.1315 - val_accuracy: 1.0000\n",
            "Epoch 55/100\n",
            "7/7 [==============================] - 0s 9ms/step - loss: 0.1466 - accuracy: 0.9688 - val_loss: 0.1143 - val_accuracy: 1.0000\n",
            "Epoch 56/100\n",
            "7/7 [==============================] - 0s 8ms/step - loss: 0.1363 - accuracy: 0.9688 - val_loss: 0.1341 - val_accuracy: 1.0000\n",
            "Epoch 57/100\n",
            "7/7 [==============================] - 0s 9ms/step - loss: 0.1456 - accuracy: 0.9531 - val_loss: 0.1170 - val_accuracy: 1.0000\n",
            "Epoch 58/100\n",
            "7/7 [==============================] - 0s 8ms/step - loss: 0.1370 - accuracy: 0.9844 - val_loss: 0.1105 - val_accuracy: 1.0000\n",
            "Epoch 59/100\n",
            "7/7 [==============================] - 0s 8ms/step - loss: 0.1458 - accuracy: 0.9531 - val_loss: 0.1207 - val_accuracy: 1.0000\n",
            "Epoch 60/100\n",
            "7/7 [==============================] - 0s 7ms/step - loss: 0.1304 - accuracy: 0.9844 - val_loss: 0.1087 - val_accuracy: 1.0000\n",
            "Epoch 61/100\n",
            "7/7 [==============================] - 0s 7ms/step - loss: 0.1264 - accuracy: 0.9844 - val_loss: 0.1093 - val_accuracy: 1.0000\n",
            "Epoch 62/100\n",
            "7/7 [==============================] - 0s 10ms/step - loss: 0.1334 - accuracy: 0.9688 - val_loss: 0.1067 - val_accuracy: 1.0000\n",
            "Epoch 63/100\n",
            "7/7 [==============================] - 0s 8ms/step - loss: 0.1249 - accuracy: 0.9531 - val_loss: 0.1122 - val_accuracy: 1.0000\n",
            "Epoch 64/100\n",
            "7/7 [==============================] - 0s 8ms/step - loss: 0.1242 - accuracy: 0.9531 - val_loss: 0.1015 - val_accuracy: 1.0000\n",
            "Epoch 65/100\n",
            "7/7 [==============================] - 0s 11ms/step - loss: 0.1383 - accuracy: 0.9531 - val_loss: 0.1042 - val_accuracy: 1.0000\n",
            "Epoch 66/100\n",
            "7/7 [==============================] - 0s 8ms/step - loss: 0.1203 - accuracy: 0.9688 - val_loss: 0.1231 - val_accuracy: 1.0000\n",
            "Epoch 67/100\n",
            "7/7 [==============================] - 0s 9ms/step - loss: 0.1272 - accuracy: 0.9844 - val_loss: 0.0982 - val_accuracy: 1.0000\n",
            "Epoch 68/100\n",
            "7/7 [==============================] - 0s 9ms/step - loss: 0.1220 - accuracy: 0.9844 - val_loss: 0.0987 - val_accuracy: 1.0000\n",
            "Epoch 69/100\n",
            "7/7 [==============================] - 0s 9ms/step - loss: 0.1165 - accuracy: 0.9844 - val_loss: 0.0960 - val_accuracy: 1.0000\n",
            "Epoch 70/100\n",
            "7/7 [==============================] - 0s 9ms/step - loss: 0.1227 - accuracy: 0.9688 - val_loss: 0.0951 - val_accuracy: 1.0000\n",
            "Epoch 71/100\n",
            "7/7 [==============================] - 0s 8ms/step - loss: 0.1196 - accuracy: 0.9688 - val_loss: 0.1082 - val_accuracy: 1.0000\n",
            "Epoch 72/100\n",
            "7/7 [==============================] - 0s 11ms/step - loss: 0.1188 - accuracy: 0.9531 - val_loss: 0.0931 - val_accuracy: 1.0000\n",
            "Epoch 73/100\n",
            "7/7 [==============================] - 0s 7ms/step - loss: 0.1264 - accuracy: 0.9844 - val_loss: 0.1164 - val_accuracy: 1.0000\n",
            "Epoch 74/100\n",
            "7/7 [==============================] - 0s 7ms/step - loss: 0.1178 - accuracy: 0.9688 - val_loss: 0.0912 - val_accuracy: 1.0000\n",
            "Epoch 75/100\n",
            "7/7 [==============================] - 0s 10ms/step - loss: 0.1774 - accuracy: 0.9375 - val_loss: 0.0901 - val_accuracy: 1.0000\n",
            "Epoch 76/100\n",
            "7/7 [==============================] - 0s 8ms/step - loss: 0.1444 - accuracy: 0.9531 - val_loss: 0.1036 - val_accuracy: 1.0000\n",
            "Epoch 77/100\n",
            "7/7 [==============================] - 0s 10ms/step - loss: 0.1628 - accuracy: 0.9219 - val_loss: 0.0933 - val_accuracy: 1.0000\n",
            "Epoch 78/100\n",
            "7/7 [==============================] - 0s 10ms/step - loss: 0.1032 - accuracy: 0.9688 - val_loss: 0.1069 - val_accuracy: 1.0000\n",
            "Epoch 79/100\n",
            "7/7 [==============================] - 0s 8ms/step - loss: 0.1271 - accuracy: 0.9531 - val_loss: 0.0903 - val_accuracy: 1.0000\n",
            "Epoch 80/100\n",
            "7/7 [==============================] - 0s 7ms/step - loss: 0.1195 - accuracy: 0.9688 - val_loss: 0.0937 - val_accuracy: 1.0000\n",
            "Epoch 81/100\n",
            "7/7 [==============================] - 0s 7ms/step - loss: 0.1300 - accuracy: 0.9375 - val_loss: 0.1101 - val_accuracy: 1.0000\n",
            "Epoch 82/100\n",
            "7/7 [==============================] - 0s 8ms/step - loss: 0.1034 - accuracy: 0.9688 - val_loss: 0.0880 - val_accuracy: 1.0000\n",
            "Epoch 83/100\n",
            "7/7 [==============================] - 0s 6ms/step - loss: 0.1251 - accuracy: 0.9531 - val_loss: 0.0845 - val_accuracy: 1.0000\n",
            "Epoch 84/100\n",
            "7/7 [==============================] - 0s 8ms/step - loss: 0.1033 - accuracy: 0.9688 - val_loss: 0.0926 - val_accuracy: 1.0000\n",
            "Epoch 85/100\n",
            "7/7 [==============================] - 0s 7ms/step - loss: 0.1011 - accuracy: 0.9844 - val_loss: 0.0819 - val_accuracy: 1.0000\n",
            "Epoch 86/100\n",
            "7/7 [==============================] - 0s 9ms/step - loss: 0.1084 - accuracy: 0.9844 - val_loss: 0.0819 - val_accuracy: 1.0000\n",
            "Epoch 87/100\n",
            "7/7 [==============================] - 0s 9ms/step - loss: 0.1043 - accuracy: 0.9688 - val_loss: 0.0848 - val_accuracy: 1.0000\n",
            "Epoch 88/100\n",
            "7/7 [==============================] - 0s 7ms/step - loss: 0.1007 - accuracy: 0.9844 - val_loss: 0.0806 - val_accuracy: 1.0000\n",
            "Epoch 89/100\n",
            "7/7 [==============================] - 0s 7ms/step - loss: 0.1037 - accuracy: 0.9688 - val_loss: 0.0796 - val_accuracy: 1.0000\n",
            "Epoch 90/100\n",
            "7/7 [==============================] - 0s 6ms/step - loss: 0.0976 - accuracy: 0.9844 - val_loss: 0.0820 - val_accuracy: 1.0000\n",
            "Epoch 91/100\n",
            "7/7 [==============================] - 0s 8ms/step - loss: 0.0974 - accuracy: 0.9844 - val_loss: 0.0783 - val_accuracy: 1.0000\n",
            "Epoch 92/100\n",
            "7/7 [==============================] - 0s 7ms/step - loss: 0.0956 - accuracy: 0.9844 - val_loss: 0.0785 - val_accuracy: 1.0000\n",
            "Epoch 93/100\n",
            "7/7 [==============================] - 0s 9ms/step - loss: 0.0967 - accuracy: 0.9688 - val_loss: 0.0814 - val_accuracy: 1.0000\n",
            "Epoch 94/100\n",
            "7/7 [==============================] - 0s 7ms/step - loss: 0.0975 - accuracy: 0.9844 - val_loss: 0.0804 - val_accuracy: 1.0000\n",
            "Epoch 95/100\n",
            "7/7 [==============================] - 0s 7ms/step - loss: 0.0967 - accuracy: 0.9844 - val_loss: 0.0805 - val_accuracy: 1.0000\n",
            "Epoch 96/100\n",
            "7/7 [==============================] - 0s 6ms/step - loss: 0.1056 - accuracy: 0.9531 - val_loss: 0.0836 - val_accuracy: 1.0000\n",
            "Epoch 97/100\n",
            "7/7 [==============================] - 0s 7ms/step - loss: 0.0925 - accuracy: 0.9688 - val_loss: 0.0761 - val_accuracy: 1.0000\n",
            "Epoch 98/100\n",
            "7/7 [==============================] - 0s 8ms/step - loss: 0.0964 - accuracy: 0.9844 - val_loss: 0.0742 - val_accuracy: 1.0000\n",
            "Epoch 99/100\n",
            "7/7 [==============================] - 0s 7ms/step - loss: 0.0978 - accuracy: 0.9844 - val_loss: 0.0736 - val_accuracy: 1.0000\n",
            "Epoch 100/100\n",
            "7/7 [==============================] - 0s 8ms/step - loss: 0.0957 - accuracy: 0.9844 - val_loss: 0.0769 - val_accuracy: 1.0000\n",
            "time: 6.48 s (started: 2021-09-23 19:04:39 +00:00)\n"
          ]
        }
      ]
    },
    {
      "cell_type": "code",
      "metadata": {
        "colab": {
          "base_uri": "https://localhost:8080/",
          "height": 405
        },
        "id": "Trrttt2A-zqX",
        "outputId": "d22fc853-5402-49ec-b99d-19d34a8d2c5d"
      },
      "source": [
        "print(history.history.keys())\n",
        "plot_history(\n",
        "    \"training info of binary iris classification model\", \n",
        "    history.history['loss'], \n",
        "    history.history['val_loss'], \n",
        "    \"loss\", \n",
        "    history.history['accuracy'], \n",
        "    history.history['val_accuracy'], \n",
        "    \"accuracy\"\n",
        "    )"
      ],
      "execution_count": 369,
      "outputs": [
        {
          "output_type": "stream",
          "name": "stdout",
          "text": [
            "dict_keys(['loss', 'accuracy', 'val_loss', 'val_accuracy'])\n"
          ]
        },
        {
          "output_type": "display_data",
          "data": {
            "image/png": "[encoded data removed]",
            "text/plain": [
              "<Figure size 864x360 with 2 Axes>"
            ]
          },
          "metadata": {
            "needs_background": "light"
          }
        },
        {
          "output_type": "stream",
          "name": "stdout",
          "text": [
            "time: 473 ms (started: 2021-09-23 19:04:45 +00:00)\n"
          ]
        }
      ]
    },
    {
      "cell_type": "code",
      "metadata": {
        "colab": {
          "base_uri": "https://localhost:8080/"
        },
        "id": "ZP4vyE8VT1ma",
        "outputId": "3e1cb7ec-6f52-4739-f504-55f0b640c720"
      },
      "source": [
        "binary_iris_model.evaluate(X_test, y_test, verbose=2)"
      ],
      "execution_count": 370,
      "outputs": [
        {
          "output_type": "stream",
          "name": "stdout",
          "text": [
            "1/1 - 0s - loss: 0.2570 - accuracy: 0.9000\n"
          ]
        },
        {
          "output_type": "execute_result",
          "data": {
            "text/plain": [
              "[0.2569621503353119, 0.8999999761581421]"
            ]
          },
          "metadata": {},
          "execution_count": 370
        },
        {
          "output_type": "stream",
          "name": "stdout",
          "text": [
            "time: 68.7 ms (started: 2021-09-23 19:04:46 +00:00)\n"
          ]
        }
      ]
    },
    {
      "cell_type": "markdown",
      "metadata": {
        "id": "mft7e3TeYOlp"
      },
      "source": [
        "<h2>[Problem 4] Learn Iris (multi-level classification) with Keras</h2>"
      ]
    },
    {
      "cell_type": "markdown",
      "metadata": {
        "id": "6jZ9Ff8Bd5xi"
      },
      "source": [
        "<h3>Preprocessing</h3>"
      ]
    },
    {
      "cell_type": "code",
      "metadata": {
        "colab": {
          "base_uri": "https://localhost:8080/"
        },
        "id": "K9Uy0xXhYw37",
        "outputId": "6b440be1-55cc-4405-96f4-04676e0d147c"
      },
      "source": [
        "\"\"\"\n",
        "Trinary classification of Iris dataset using neural network implemented in TensorFlow\n",
        "\"\"\"\n",
        "import numpy as np\n",
        "import pandas as pd\n",
        "from sklearn.model_selection import train_test_split\n",
        "#Load dataset\n",
        "df = pd.read_csv(iris_path)\n",
        "df[\"Species\"].value_counts()"
      ],
      "execution_count": 371,
      "outputs": [
        {
          "output_type": "execute_result",
          "data": {
            "text/plain": [
              "Iris-virginica     50\n",
              "Iris-versicolor    50\n",
              "Iris-setosa        50\n",
              "Name: Species, dtype: int64"
            ]
          },
          "metadata": {},
          "execution_count": 371
        },
        {
          "output_type": "stream",
          "name": "stdout",
          "text": [
            "time: 17.4 ms (started: 2021-09-23 19:04:46 +00:00)\n"
          ]
        }
      ]
    },
    {
      "cell_type": "code",
      "metadata": {
        "colab": {
          "base_uri": "https://localhost:8080/",
          "height": 69
        },
        "id": "NzJWj076Y0Or",
        "outputId": "82fa624a-5bd4-45fe-f742-1fa2a115ab35"
      },
      "source": [
        "#Condition extraction from data frame\n",
        "y = df[\"Species\"]\n",
        "X = df.loc[:, [\"SepalLengthCm\", \"SepalWidthCm\", \"PetalLengthCm\", \"PetalWidthCm\"]]\n",
        "display(y.shape)\n",
        "display(X.shape)"
      ],
      "execution_count": 372,
      "outputs": [
        {
          "output_type": "display_data",
          "data": {
            "text/plain": [
              "(150,)"
            ]
          },
          "metadata": {}
        },
        {
          "output_type": "display_data",
          "data": {
            "text/plain": [
              "(150, 4)"
            ]
          },
          "metadata": {}
        },
        {
          "output_type": "stream",
          "name": "stdout",
          "text": [
            "time: 12.4 ms (started: 2021-09-23 19:04:46 +00:00)\n"
          ]
        }
      ]
    },
    {
      "cell_type": "code",
      "metadata": {
        "colab": {
          "base_uri": "https://localhost:8080/",
          "height": 52
        },
        "id": "ujMy8HZ0Y1ls",
        "outputId": "6e725bec-db34-435e-c572-65ea96743f03"
      },
      "source": [
        "# Convert label to one hot\n",
        "y = pd.get_dummies(y)\n",
        "\n",
        "# NumPy 配列に変換\n",
        "X = np.array(X)\n",
        "y = np.array(y)\n",
        "\n",
        "y = y.astype(np.int64)\n",
        "display(y.shape)"
      ],
      "execution_count": 373,
      "outputs": [
        {
          "output_type": "display_data",
          "data": {
            "text/plain": [
              "(150, 3)"
            ]
          },
          "metadata": {}
        },
        {
          "output_type": "stream",
          "name": "stdout",
          "text": [
            "time: 10.9 ms (started: 2021-09-23 19:04:46 +00:00)\n"
          ]
        }
      ]
    },
    {
      "cell_type": "code",
      "metadata": {
        "colab": {
          "base_uri": "https://localhost:8080/"
        },
        "id": "sAKqBqU7Y25p",
        "outputId": "bb5c666c-84ab-48fc-b2a6-d41c4b7c0e42"
      },
      "source": [
        "#Split into train and test\n",
        "X_train, X_test, y_train, y_test = train_test_split(X, y, test_size=0.2, random_state=0)\n",
        "# さらにtrainとvalに分割\n",
        "X_train, X_val, y_train, y_val = train_test_split(X_train, y_train, test_size=0.2, random_state=0)"
      ],
      "execution_count": 374,
      "outputs": [
        {
          "output_type": "stream",
          "name": "stdout",
          "text": [
            "time: 7.09 ms (started: 2021-09-23 19:04:46 +00:00)\n"
          ]
        }
      ]
    },
    {
      "cell_type": "markdown",
      "metadata": {
        "id": "m8asnynMd_Bj"
      },
      "source": [
        "<h3>Training</h3>"
      ]
    },
    {
      "cell_type": "code",
      "metadata": {
        "colab": {
          "base_uri": "https://localhost:8080/"
        },
        "id": "_3c8nKqIY4hi",
        "outputId": "f41c8c69-b75e-4564-f6a9-ad60e3a2aba7"
      },
      "source": [
        "# Hyperparameter settings\n",
        "learning_rate = 0.001\n",
        "batch_size = 10\n",
        "num_epochs = 100\n",
        "n_hidden1 = 50\n",
        "n_hidden2 = 100\n",
        "n_input = X_train.shape[1]\n",
        "n_samples = X_train.shape[0]\n",
        "n_classes = 3"
      ],
      "execution_count": 375,
      "outputs": [
        {
          "output_type": "stream",
          "name": "stdout",
          "text": [
            "time: 4.58 ms (started: 2021-09-23 19:04:46 +00:00)\n"
          ]
        }
      ]
    },
    {
      "cell_type": "code",
      "metadata": {
        "colab": {
          "base_uri": "https://localhost:8080/"
        },
        "id": "G-bjEFh7Y7_1",
        "outputId": "c8f35155-c278-4f73-de64-508aa2c1ab4e"
      },
      "source": [
        "#logits\n",
        "nary_iris_model_logits = tf.keras.models.Sequential([\n",
        "                                    tf.keras.layers.Flatten(input_shape=(n_input, )),\n",
        "                                    tf.keras.layers.Dense(n_hidden1, kernel_initializer='he_uniform', bias_initializer='random_normal', activation='relu'),\n",
        "                                    tf.keras.layers.Dense(n_hidden2, kernel_initializer='he_uniform', bias_initializer='random_normal', activation='relu'),\n",
        "                                    tf.keras.layers.Dense(n_classes)\n",
        "])"
      ],
      "execution_count": 376,
      "outputs": [
        {
          "output_type": "stream",
          "name": "stdout",
          "text": [
            "time: 54.4 ms (started: 2021-09-23 19:04:46 +00:00)\n"
          ]
        }
      ]
    },
    {
      "cell_type": "code",
      "metadata": {
        "colab": {
          "base_uri": "https://localhost:8080/"
        },
        "id": "_HxbvZb8ZMLZ",
        "outputId": "904d2a68-863b-41e4-a7e6-8997c99a547d"
      },
      "source": [
        "nary_iris_model_logits.summary()"
      ],
      "execution_count": 377,
      "outputs": [
        {
          "output_type": "stream",
          "name": "stdout",
          "text": [
            "Model: \"sequential_59\"\n",
            "_________________________________________________________________\n",
            "Layer (type)                 Output Shape              Param #   \n",
            "=================================================================\n",
            "flatten_32 (Flatten)         (None, 4)                 0         \n",
            "_________________________________________________________________\n",
            "dense_84 (Dense)             (None, 50)                250       \n",
            "_________________________________________________________________\n",
            "dense_85 (Dense)             (None, 100)               5100      \n",
            "_________________________________________________________________\n",
            "dense_86 (Dense)             (None, 3)                 303       \n",
            "=================================================================\n",
            "Total params: 5,653\n",
            "Trainable params: 5,653\n",
            "Non-trainable params: 0\n",
            "_________________________________________________________________\n",
            "time: 5.08 ms (started: 2021-09-23 19:04:46 +00:00)\n"
          ]
        }
      ]
    },
    {
      "cell_type": "code",
      "metadata": {
        "colab": {
          "base_uri": "https://localhost:8080/"
        },
        "id": "K02yFOTMZGB4",
        "outputId": "b0a5a5f9-a420-4549-e092-bf4ad0246e7e"
      },
      "source": [
        "nary_iris_model = tf.keras.models.Sequential([\n",
        "                                    nary_iris_model_logits,\n",
        "                                    tf.keras.layers.Activation(tf.nn.softmax)\n",
        "])"
      ],
      "execution_count": 378,
      "outputs": [
        {
          "output_type": "stream",
          "name": "stdout",
          "text": [
            "time: 39.4 ms (started: 2021-09-23 19:04:46 +00:00)\n"
          ]
        }
      ]
    },
    {
      "cell_type": "code",
      "metadata": {
        "colab": {
          "base_uri": "https://localhost:8080/"
        },
        "id": "7Ob4Y_k3ZPiB",
        "outputId": "c55b77b3-2102-4485-cc3c-28384f0fa7e9"
      },
      "source": [
        "nary_iris_model.summary()"
      ],
      "execution_count": 379,
      "outputs": [
        {
          "output_type": "stream",
          "name": "stdout",
          "text": [
            "Model: \"sequential_60\"\n",
            "_________________________________________________________________\n",
            "Layer (type)                 Output Shape              Param #   \n",
            "=================================================================\n",
            "sequential_59 (Sequential)   (None, 3)                 5653      \n",
            "_________________________________________________________________\n",
            "activation_16 (Activation)   (None, 3)                 0         \n",
            "=================================================================\n",
            "Total params: 5,653\n",
            "Trainable params: 5,653\n",
            "Non-trainable params: 0\n",
            "_________________________________________________________________\n",
            "time: 4.15 ms (started: 2021-09-23 19:04:46 +00:00)\n"
          ]
        }
      ]
    },
    {
      "cell_type": "code",
      "metadata": {
        "colab": {
          "base_uri": "https://localhost:8080/"
        },
        "id": "rfFc9IzjZTju",
        "outputId": "4e7e6a7f-2b76-4cfa-ab09-ca39c3c47442"
      },
      "source": [
        "nary_iris_model.compile(\n",
        "            loss='categorical_crossentropy',\n",
        "            optimizer=tf.keras.optimizers.Adam(learning_rate=learning_rate),\n",
        "            metrics=['accuracy'])"
      ],
      "execution_count": 380,
      "outputs": [
        {
          "output_type": "stream",
          "name": "stdout",
          "text": [
            "time: 28.5 ms (started: 2021-09-23 19:04:46 +00:00)\n"
          ]
        }
      ]
    },
    {
      "cell_type": "code",
      "metadata": {
        "colab": {
          "base_uri": "https://localhost:8080/"
        },
        "id": "JdVgjcukZxp4",
        "outputId": "cc56f075-3c66-40a5-c4eb-3be1e6db4345"
      },
      "source": [
        "history = nary_iris_model.fit(\n",
        "        x=X_train, \n",
        "        y=y_train, \n",
        "        batch_size=batch_size, \n",
        "        epochs=num_epochs, \n",
        "        validation_data=(X_val, y_val)\n",
        "        )"
      ],
      "execution_count": 381,
      "outputs": [
        {
          "output_type": "stream",
          "name": "stdout",
          "text": [
            "Epoch 1/100\n",
            "10/10 [==============================] - 1s 22ms/step - loss: 0.7939 - accuracy: 0.6979 - val_loss: 0.7382 - val_accuracy: 0.7083\n",
            "Epoch 2/100\n",
            "10/10 [==============================] - 0s 7ms/step - loss: 0.5238 - accuracy: 0.8021 - val_loss: 0.5568 - val_accuracy: 0.5833\n",
            "Epoch 3/100\n",
            "10/10 [==============================] - 0s 6ms/step - loss: 0.4696 - accuracy: 0.7604 - val_loss: 0.5362 - val_accuracy: 0.6667\n",
            "Epoch 4/100\n",
            "10/10 [==============================] - 0s 5ms/step - loss: 0.3987 - accuracy: 0.8542 - val_loss: 0.5326 - val_accuracy: 0.7083\n",
            "Epoch 5/100\n",
            "10/10 [==============================] - 0s 5ms/step - loss: 0.3758 - accuracy: 0.8333 - val_loss: 0.4702 - val_accuracy: 0.7500\n",
            "Epoch 6/100\n",
            "10/10 [==============================] - 0s 5ms/step - loss: 0.3528 - accuracy: 0.8438 - val_loss: 0.4543 - val_accuracy: 0.7500\n",
            "Epoch 7/100\n",
            "10/10 [==============================] - 0s 7ms/step - loss: 0.3224 - accuracy: 0.9062 - val_loss: 0.4907 - val_accuracy: 0.7083\n",
            "Epoch 8/100\n",
            "10/10 [==============================] - 0s 5ms/step - loss: 0.3293 - accuracy: 0.8750 - val_loss: 0.4693 - val_accuracy: 0.7083\n",
            "Epoch 9/100\n",
            "10/10 [==============================] - 0s 7ms/step - loss: 0.3199 - accuracy: 0.8750 - val_loss: 0.4459 - val_accuracy: 0.7083\n",
            "Epoch 10/100\n",
            "10/10 [==============================] - 0s 10ms/step - loss: 0.3013 - accuracy: 0.8750 - val_loss: 0.4422 - val_accuracy: 0.7083\n",
            "Epoch 11/100\n",
            "10/10 [==============================] - 0s 5ms/step - loss: 0.2869 - accuracy: 0.8958 - val_loss: 0.4155 - val_accuracy: 0.7917\n",
            "Epoch 12/100\n",
            "10/10 [==============================] - 0s 7ms/step - loss: 0.2508 - accuracy: 0.9479 - val_loss: 0.3825 - val_accuracy: 0.8333\n",
            "Epoch 13/100\n",
            "10/10 [==============================] - 0s 5ms/step - loss: 0.2497 - accuracy: 0.9062 - val_loss: 0.3740 - val_accuracy: 0.8750\n",
            "Epoch 14/100\n",
            "10/10 [==============================] - 0s 5ms/step - loss: 0.2516 - accuracy: 0.9062 - val_loss: 0.5097 - val_accuracy: 0.7083\n",
            "Epoch 15/100\n",
            "10/10 [==============================] - 0s 6ms/step - loss: 0.2853 - accuracy: 0.8646 - val_loss: 0.3595 - val_accuracy: 0.8750\n",
            "Epoch 16/100\n",
            "10/10 [==============================] - 0s 5ms/step - loss: 0.2192 - accuracy: 0.9479 - val_loss: 0.3574 - val_accuracy: 0.8750\n",
            "Epoch 17/100\n",
            "10/10 [==============================] - 0s 7ms/step - loss: 0.2124 - accuracy: 0.9479 - val_loss: 0.3448 - val_accuracy: 0.8750\n",
            "Epoch 18/100\n",
            "10/10 [==============================] - 0s 6ms/step - loss: 0.2010 - accuracy: 0.9479 - val_loss: 0.3393 - val_accuracy: 0.9167\n",
            "Epoch 19/100\n",
            "10/10 [==============================] - 0s 6ms/step - loss: 0.2010 - accuracy: 0.9479 - val_loss: 0.4026 - val_accuracy: 0.7917\n",
            "Epoch 20/100\n",
            "10/10 [==============================] - 0s 5ms/step - loss: 0.2002 - accuracy: 0.9375 - val_loss: 0.3396 - val_accuracy: 0.8750\n",
            "Epoch 21/100\n",
            "10/10 [==============================] - 0s 5ms/step - loss: 0.1738 - accuracy: 0.9688 - val_loss: 0.3554 - val_accuracy: 0.8333\n",
            "Epoch 22/100\n",
            "10/10 [==============================] - 0s 6ms/step - loss: 0.1821 - accuracy: 0.9688 - val_loss: 0.3155 - val_accuracy: 0.8750\n",
            "Epoch 23/100\n",
            "10/10 [==============================] - 0s 6ms/step - loss: 0.1824 - accuracy: 0.9479 - val_loss: 0.3114 - val_accuracy: 0.8750\n",
            "Epoch 24/100\n",
            "10/10 [==============================] - 0s 8ms/step - loss: 0.2025 - accuracy: 0.9062 - val_loss: 0.4510 - val_accuracy: 0.7917\n",
            "Epoch 25/100\n",
            "10/10 [==============================] - 0s 7ms/step - loss: 0.1814 - accuracy: 0.9375 - val_loss: 0.3012 - val_accuracy: 0.8750\n",
            "Epoch 26/100\n",
            "10/10 [==============================] - 0s 6ms/step - loss: 0.1514 - accuracy: 0.9583 - val_loss: 0.3182 - val_accuracy: 0.9167\n",
            "Epoch 27/100\n",
            "10/10 [==============================] - 0s 7ms/step - loss: 0.1516 - accuracy: 0.9479 - val_loss: 0.2932 - val_accuracy: 0.8750\n",
            "Epoch 28/100\n",
            "10/10 [==============================] - 0s 7ms/step - loss: 0.1525 - accuracy: 0.9688 - val_loss: 0.3303 - val_accuracy: 0.9167\n",
            "Epoch 29/100\n",
            "10/10 [==============================] - 0s 5ms/step - loss: 0.1467 - accuracy: 0.9688 - val_loss: 0.2861 - val_accuracy: 0.8750\n",
            "Epoch 30/100\n",
            "10/10 [==============================] - 0s 5ms/step - loss: 0.1453 - accuracy: 0.9583 - val_loss: 0.3061 - val_accuracy: 0.9167\n",
            "Epoch 31/100\n",
            "10/10 [==============================] - 0s 5ms/step - loss: 0.1359 - accuracy: 0.9792 - val_loss: 0.2962 - val_accuracy: 0.9167\n",
            "Epoch 32/100\n",
            "10/10 [==============================] - 0s 5ms/step - loss: 0.1372 - accuracy: 0.9583 - val_loss: 0.3099 - val_accuracy: 0.9167\n",
            "Epoch 33/100\n",
            "10/10 [==============================] - 0s 5ms/step - loss: 0.1300 - accuracy: 0.9688 - val_loss: 0.2733 - val_accuracy: 0.8750\n",
            "Epoch 34/100\n",
            "10/10 [==============================] - 0s 5ms/step - loss: 0.1361 - accuracy: 0.9583 - val_loss: 0.3330 - val_accuracy: 0.9167\n",
            "Epoch 35/100\n",
            "10/10 [==============================] - 0s 5ms/step - loss: 0.1238 - accuracy: 0.9792 - val_loss: 0.2719 - val_accuracy: 0.9167\n",
            "Epoch 36/100\n",
            "10/10 [==============================] - 0s 5ms/step - loss: 0.1205 - accuracy: 0.9792 - val_loss: 0.2735 - val_accuracy: 0.9167\n",
            "Epoch 37/100\n",
            "10/10 [==============================] - 0s 5ms/step - loss: 0.1218 - accuracy: 0.9792 - val_loss: 0.3019 - val_accuracy: 0.9167\n",
            "Epoch 38/100\n",
            "10/10 [==============================] - 0s 7ms/step - loss: 0.1311 - accuracy: 0.9583 - val_loss: 0.3167 - val_accuracy: 0.9167\n",
            "Epoch 39/100\n",
            "10/10 [==============================] - 0s 5ms/step - loss: 0.1156 - accuracy: 0.9792 - val_loss: 0.2633 - val_accuracy: 0.8750\n",
            "Epoch 40/100\n",
            "10/10 [==============================] - 0s 5ms/step - loss: 0.1111 - accuracy: 0.9792 - val_loss: 0.3419 - val_accuracy: 0.9167\n",
            "Epoch 41/100\n",
            "10/10 [==============================] - 0s 5ms/step - loss: 0.1386 - accuracy: 0.9479 - val_loss: 0.2547 - val_accuracy: 0.8750\n",
            "Epoch 42/100\n",
            "10/10 [==============================] - 0s 7ms/step - loss: 0.1159 - accuracy: 0.9583 - val_loss: 0.2693 - val_accuracy: 0.9167\n",
            "Epoch 43/100\n",
            "10/10 [==============================] - 0s 7ms/step - loss: 0.1050 - accuracy: 0.9792 - val_loss: 0.2795 - val_accuracy: 0.9167\n",
            "Epoch 44/100\n",
            "10/10 [==============================] - 0s 5ms/step - loss: 0.1213 - accuracy: 0.9583 - val_loss: 0.2483 - val_accuracy: 0.8750\n",
            "Epoch 45/100\n",
            "10/10 [==============================] - 0s 6ms/step - loss: 0.1308 - accuracy: 0.9688 - val_loss: 0.4070 - val_accuracy: 0.7917\n",
            "Epoch 46/100\n",
            "10/10 [==============================] - 0s 6ms/step - loss: 0.1302 - accuracy: 0.9479 - val_loss: 0.2480 - val_accuracy: 0.8750\n",
            "Epoch 47/100\n",
            "10/10 [==============================] - 0s 7ms/step - loss: 0.1056 - accuracy: 0.9792 - val_loss: 0.2633 - val_accuracy: 0.9167\n",
            "Epoch 48/100\n",
            "10/10 [==============================] - 0s 6ms/step - loss: 0.0998 - accuracy: 0.9792 - val_loss: 0.2559 - val_accuracy: 0.9167\n",
            "Epoch 49/100\n",
            "10/10 [==============================] - 0s 8ms/step - loss: 0.0962 - accuracy: 0.9792 - val_loss: 0.2845 - val_accuracy: 0.9167\n",
            "Epoch 50/100\n",
            "10/10 [==============================] - 0s 5ms/step - loss: 0.1081 - accuracy: 0.9688 - val_loss: 0.2458 - val_accuracy: 0.9167\n",
            "Epoch 51/100\n",
            "10/10 [==============================] - 0s 8ms/step - loss: 0.1277 - accuracy: 0.9479 - val_loss: 0.2403 - val_accuracy: 0.8750\n",
            "Epoch 52/100\n",
            "10/10 [==============================] - 0s 5ms/step - loss: 0.1055 - accuracy: 0.9688 - val_loss: 0.3067 - val_accuracy: 0.9167\n",
            "Epoch 53/100\n",
            "10/10 [==============================] - 0s 5ms/step - loss: 0.1029 - accuracy: 0.9583 - val_loss: 0.2425 - val_accuracy: 0.9167\n",
            "Epoch 54/100\n",
            "10/10 [==============================] - 0s 4ms/step - loss: 0.0902 - accuracy: 0.9792 - val_loss: 0.2448 - val_accuracy: 0.9167\n",
            "Epoch 55/100\n",
            "10/10 [==============================] - 0s 5ms/step - loss: 0.0879 - accuracy: 0.9792 - val_loss: 0.2548 - val_accuracy: 0.9167\n",
            "Epoch 56/100\n",
            "10/10 [==============================] - 0s 7ms/step - loss: 0.0910 - accuracy: 0.9688 - val_loss: 0.2824 - val_accuracy: 0.9167\n",
            "Epoch 57/100\n",
            "10/10 [==============================] - 0s 4ms/step - loss: 0.0963 - accuracy: 0.9583 - val_loss: 0.2301 - val_accuracy: 0.8750\n",
            "Epoch 58/100\n",
            "10/10 [==============================] - 0s 5ms/step - loss: 0.0874 - accuracy: 0.9792 - val_loss: 0.3391 - val_accuracy: 0.9167\n",
            "Epoch 59/100\n",
            "10/10 [==============================] - 0s 5ms/step - loss: 0.1040 - accuracy: 0.9688 - val_loss: 0.2298 - val_accuracy: 0.9167\n",
            "Epoch 60/100\n",
            "10/10 [==============================] - 0s 6ms/step - loss: 0.0911 - accuracy: 0.9688 - val_loss: 0.2462 - val_accuracy: 0.9167\n",
            "Epoch 61/100\n",
            "10/10 [==============================] - 0s 5ms/step - loss: 0.0929 - accuracy: 0.9792 - val_loss: 0.2505 - val_accuracy: 0.9167\n",
            "Epoch 62/100\n",
            "10/10 [==============================] - 0s 5ms/step - loss: 0.0797 - accuracy: 0.9792 - val_loss: 0.2446 - val_accuracy: 0.9167\n",
            "Epoch 63/100\n",
            "10/10 [==============================] - 0s 5ms/step - loss: 0.0862 - accuracy: 0.9792 - val_loss: 0.2451 - val_accuracy: 0.9167\n",
            "Epoch 64/100\n",
            "10/10 [==============================] - 0s 5ms/step - loss: 0.1084 - accuracy: 0.9479 - val_loss: 0.2251 - val_accuracy: 0.9167\n",
            "Epoch 65/100\n",
            "10/10 [==============================] - 0s 5ms/step - loss: 0.1032 - accuracy: 0.9583 - val_loss: 0.3025 - val_accuracy: 0.9167\n",
            "Epoch 66/100\n",
            "10/10 [==============================] - 0s 5ms/step - loss: 0.0869 - accuracy: 0.9583 - val_loss: 0.2195 - val_accuracy: 0.9167\n",
            "Epoch 67/100\n",
            "10/10 [==============================] - 0s 5ms/step - loss: 0.0846 - accuracy: 0.9792 - val_loss: 0.2289 - val_accuracy: 0.9167\n",
            "Epoch 68/100\n",
            "10/10 [==============================] - 0s 5ms/step - loss: 0.0713 - accuracy: 0.9896 - val_loss: 0.2327 - val_accuracy: 0.9167\n",
            "Epoch 69/100\n",
            "10/10 [==============================] - 0s 5ms/step - loss: 0.0797 - accuracy: 0.9792 - val_loss: 0.2857 - val_accuracy: 0.9167\n",
            "Epoch 70/100\n",
            "10/10 [==============================] - 0s 4ms/step - loss: 0.0874 - accuracy: 0.9688 - val_loss: 0.2299 - val_accuracy: 0.9167\n",
            "Epoch 71/100\n",
            "10/10 [==============================] - 0s 4ms/step - loss: 0.0685 - accuracy: 0.9792 - val_loss: 0.2547 - val_accuracy: 0.9167\n",
            "Epoch 72/100\n",
            "10/10 [==============================] - 0s 5ms/step - loss: 0.0817 - accuracy: 0.9688 - val_loss: 0.2208 - val_accuracy: 0.9167\n",
            "Epoch 73/100\n",
            "10/10 [==============================] - 0s 6ms/step - loss: 0.0806 - accuracy: 0.9583 - val_loss: 0.2367 - val_accuracy: 0.9167\n",
            "Epoch 74/100\n",
            "10/10 [==============================] - 0s 4ms/step - loss: 0.0771 - accuracy: 0.9792 - val_loss: 0.2702 - val_accuracy: 0.9167\n",
            "Epoch 75/100\n",
            "10/10 [==============================] - 0s 6ms/step - loss: 0.0795 - accuracy: 0.9688 - val_loss: 0.2280 - val_accuracy: 0.9167\n",
            "Epoch 76/100\n",
            "10/10 [==============================] - 0s 8ms/step - loss: 0.0741 - accuracy: 0.9792 - val_loss: 0.2154 - val_accuracy: 0.9167\n",
            "Epoch 77/100\n",
            "10/10 [==============================] - 0s 6ms/step - loss: 0.0699 - accuracy: 0.9896 - val_loss: 0.2524 - val_accuracy: 0.9167\n",
            "Epoch 78/100\n",
            "10/10 [==============================] - 0s 6ms/step - loss: 0.0638 - accuracy: 0.9792 - val_loss: 0.2244 - val_accuracy: 0.9167\n",
            "Epoch 79/100\n",
            "10/10 [==============================] - 0s 6ms/step - loss: 0.0707 - accuracy: 0.9792 - val_loss: 0.2465 - val_accuracy: 0.9167\n",
            "Epoch 80/100\n",
            "10/10 [==============================] - 0s 8ms/step - loss: 0.0639 - accuracy: 0.9792 - val_loss: 0.2246 - val_accuracy: 0.9167\n",
            "Epoch 81/100\n",
            "10/10 [==============================] - 0s 7ms/step - loss: 0.0622 - accuracy: 0.9896 - val_loss: 0.2335 - val_accuracy: 0.9167\n",
            "Epoch 82/100\n",
            "10/10 [==============================] - 0s 5ms/step - loss: 0.0611 - accuracy: 0.9792 - val_loss: 0.2187 - val_accuracy: 0.9167\n",
            "Epoch 83/100\n",
            "10/10 [==============================] - 0s 7ms/step - loss: 0.0651 - accuracy: 0.9896 - val_loss: 0.2475 - val_accuracy: 0.9167\n",
            "Epoch 84/100\n",
            "10/10 [==============================] - 0s 5ms/step - loss: 0.0651 - accuracy: 0.9792 - val_loss: 0.2148 - val_accuracy: 0.9167\n",
            "Epoch 85/100\n",
            "10/10 [==============================] - 0s 7ms/step - loss: 0.0649 - accuracy: 0.9896 - val_loss: 0.2384 - val_accuracy: 0.9167\n",
            "Epoch 86/100\n",
            "10/10 [==============================] - 0s 5ms/step - loss: 0.0580 - accuracy: 0.9792 - val_loss: 0.2150 - val_accuracy: 0.9167\n",
            "Epoch 87/100\n",
            "10/10 [==============================] - 0s 5ms/step - loss: 0.0628 - accuracy: 1.0000 - val_loss: 0.2842 - val_accuracy: 0.9167\n",
            "Epoch 88/100\n",
            "10/10 [==============================] - 0s 7ms/step - loss: 0.0703 - accuracy: 0.9792 - val_loss: 0.2358 - val_accuracy: 0.9167\n",
            "Epoch 89/100\n",
            "10/10 [==============================] - 0s 6ms/step - loss: 0.0595 - accuracy: 0.9792 - val_loss: 0.2249 - val_accuracy: 0.9167\n",
            "Epoch 90/100\n",
            "10/10 [==============================] - 0s 4ms/step - loss: 0.0686 - accuracy: 0.9792 - val_loss: 0.2186 - val_accuracy: 0.9167\n",
            "Epoch 91/100\n",
            "10/10 [==============================] - 0s 5ms/step - loss: 0.0658 - accuracy: 0.9896 - val_loss: 0.2519 - val_accuracy: 0.9167\n",
            "Epoch 92/100\n",
            "10/10 [==============================] - 0s 5ms/step - loss: 0.0648 - accuracy: 0.9896 - val_loss: 0.2357 - val_accuracy: 0.9167\n",
            "Epoch 93/100\n",
            "10/10 [==============================] - 0s 6ms/step - loss: 0.0567 - accuracy: 0.9792 - val_loss: 0.2185 - val_accuracy: 0.9167\n",
            "Epoch 94/100\n",
            "10/10 [==============================] - 0s 5ms/step - loss: 0.0657 - accuracy: 0.9896 - val_loss: 0.2496 - val_accuracy: 0.9167\n",
            "Epoch 95/100\n",
            "10/10 [==============================] - 0s 7ms/step - loss: 0.0943 - accuracy: 0.9688 - val_loss: 0.2353 - val_accuracy: 0.9167\n",
            "Epoch 96/100\n",
            "10/10 [==============================] - 0s 5ms/step - loss: 0.0639 - accuracy: 1.0000 - val_loss: 0.2409 - val_accuracy: 0.9167\n",
            "Epoch 97/100\n",
            "10/10 [==============================] - 0s 5ms/step - loss: 0.0612 - accuracy: 0.9792 - val_loss: 0.2145 - val_accuracy: 0.9167\n",
            "Epoch 98/100\n",
            "10/10 [==============================] - 0s 5ms/step - loss: 0.0594 - accuracy: 0.9896 - val_loss: 0.2187 - val_accuracy: 0.9167\n",
            "Epoch 99/100\n",
            "10/10 [==============================] - 0s 5ms/step - loss: 0.0588 - accuracy: 0.9792 - val_loss: 0.2110 - val_accuracy: 0.9167\n",
            "Epoch 100/100\n",
            "10/10 [==============================] - 0s 4ms/step - loss: 0.0591 - accuracy: 0.9792 - val_loss: 0.2336 - val_accuracy: 0.9167\n",
            "time: 6.87 s (started: 2021-09-23 19:04:46 +00:00)\n"
          ]
        }
      ]
    },
    {
      "cell_type": "code",
      "metadata": {
        "colab": {
          "base_uri": "https://localhost:8080/",
          "height": 405
        },
        "id": "5S4HkE6o_FXH",
        "outputId": "f7d4d0b5-9a60-40e4-aae6-26ea82466aeb"
      },
      "source": [
        "print(history.history.keys())\n",
        "plot_history(\n",
        "    \"training info of nary iris classification model\", \n",
        "    history.history['loss'], \n",
        "    history.history['val_loss'], \n",
        "    \"loss\", \n",
        "    history.history['accuracy'], \n",
        "    history.history['val_accuracy'], \n",
        "    \"accuracy\"\n",
        "    )"
      ],
      "execution_count": 382,
      "outputs": [
        {
          "output_type": "stream",
          "name": "stdout",
          "text": [
            "dict_keys(['loss', 'accuracy', 'val_loss', 'val_accuracy'])\n"
          ]
        },
        {
          "output_type": "display_data",
          "data": {
            "image/png": "[encoded data removed]",
            "text/plain": [
              "<Figure size 864x360 with 2 Axes>"
            ]
          },
          "metadata": {
            "needs_background": "light"
          }
        },
        {
          "output_type": "stream",
          "name": "stdout",
          "text": [
            "time: 20.8 s (started: 2021-09-23 19:04:53 +00:00)\n"
          ]
        }
      ]
    },
    {
      "cell_type": "code",
      "metadata": {
        "colab": {
          "base_uri": "https://localhost:8080/"
        },
        "id": "2NT9bHwJZ1tl",
        "outputId": "2701405e-04c9-4f9a-f032-fe22ee619194"
      },
      "source": [
        "nary_iris_model.evaluate(X_test, y_test, verbose=2)"
      ],
      "execution_count": 383,
      "outputs": [
        {
          "output_type": "stream",
          "name": "stdout",
          "text": [
            "1/1 - 0s - loss: 0.0656 - accuracy: 1.0000\n"
          ]
        },
        {
          "output_type": "execute_result",
          "data": {
            "text/plain": [
              "[0.06557019799947739, 1.0]"
            ]
          },
          "metadata": {},
          "execution_count": 383
        },
        {
          "output_type": "stream",
          "name": "stdout",
          "text": [
            "time: 99.3 ms (started: 2021-09-23 19:05:14 +00:00)\n"
          ]
        }
      ]
    },
    {
      "cell_type": "markdown",
      "metadata": {
        "id": "m3eg-aigah5N"
      },
      "source": [
        "<h2>[Problem 5] Learning House Prices with Keras</h2>"
      ]
    },
    {
      "cell_type": "markdown",
      "metadata": {
        "id": "yQYJUDdNeBet"
      },
      "source": [
        "<h3>Preprocessing</h3>"
      ]
    },
    {
      "cell_type": "code",
      "metadata": {
        "colab": {
          "base_uri": "https://localhost:8080/"
        },
        "id": "v_y5Zq_yajoC",
        "outputId": "bf07561f-09c9-4fc9-dc34-bee91ba00254"
      },
      "source": [
        "import numpy as np\n",
        "import pandas as pd\n",
        "from sklearn.model_selection import train_test_split\n",
        "#Load dataset\n",
        "df = pd.read_csv(house_path)\n",
        "df[\"SalePrice\"].value_counts()"
      ],
      "execution_count": 384,
      "outputs": [
        {
          "output_type": "execute_result",
          "data": {
            "text/plain": [
              "140000    20\n",
              "135000    17\n",
              "145000    14\n",
              "155000    14\n",
              "190000    13\n",
              "          ..\n",
              "84900      1\n",
              "424870     1\n",
              "415298     1\n",
              "62383      1\n",
              "34900      1\n",
              "Name: SalePrice, Length: 663, dtype: int64"
            ]
          },
          "metadata": {},
          "execution_count": 384
        },
        {
          "output_type": "stream",
          "name": "stdout",
          "text": [
            "time: 67.2 ms (started: 2021-09-23 19:05:14 +00:00)\n"
          ]
        }
      ]
    },
    {
      "cell_type": "code",
      "metadata": {
        "colab": {
          "base_uri": "https://localhost:8080/",
          "height": 69
        },
        "id": "LVLtVQOmcmap",
        "outputId": "18d63c87-9168-4bdb-b739-0248648f9f61"
      },
      "source": [
        "#Condition extraction from data frame\n",
        "y = df[\"SalePrice\"]\n",
        "X = df.loc[:, [\"GrLivArea\", \"YearBuilt\"]]\n",
        "display(y.shape)\n",
        "display(X.shape)"
      ],
      "execution_count": 385,
      "outputs": [
        {
          "output_type": "display_data",
          "data": {
            "text/plain": [
              "(1460,)"
            ]
          },
          "metadata": {}
        },
        {
          "output_type": "display_data",
          "data": {
            "text/plain": [
              "(1460, 2)"
            ]
          },
          "metadata": {}
        },
        {
          "output_type": "stream",
          "name": "stdout",
          "text": [
            "time: 18.7 ms (started: 2021-09-23 19:05:14 +00:00)\n"
          ]
        }
      ]
    },
    {
      "cell_type": "code",
      "metadata": {
        "colab": {
          "base_uri": "https://localhost:8080/",
          "height": 69
        },
        "id": "nHnFllj1cmuR",
        "outputId": "53cb9d0c-1dc8-41f3-ddf0-0351a2f7c8b9"
      },
      "source": [
        "# NumPy 配列に変換\n",
        "X = np.array(X)\n",
        "y = np.array(y)\n",
        "\n",
        "y = y.astype(np.int64)\n",
        "\n",
        "#X = np.log1p(X)\n",
        "#y = np.log1p(y)\n",
        "#=> use this to minimize mean square error value to easier to see.\n",
        "\n",
        "display(y.shape)\n",
        "display(y[:5])"
      ],
      "execution_count": 386,
      "outputs": [
        {
          "output_type": "display_data",
          "data": {
            "text/plain": [
              "(1460,)"
            ]
          },
          "metadata": {}
        },
        {
          "output_type": "display_data",
          "data": {
            "text/plain": [
              "array([208500, 181500, 223500, 140000, 250000])"
            ]
          },
          "metadata": {}
        },
        {
          "output_type": "stream",
          "name": "stdout",
          "text": [
            "time: 25.8 ms (started: 2021-09-23 19:05:14 +00:00)\n"
          ]
        }
      ]
    },
    {
      "cell_type": "code",
      "metadata": {
        "colab": {
          "base_uri": "https://localhost:8080/"
        },
        "id": "P2UYaG8JfrnY",
        "outputId": "fdddcbd7-bc34-4c0b-8e12-f7bbf2033dd5"
      },
      "source": [
        "#Split into train and test\n",
        "X_train, X_test, y_train, y_test = train_test_split(X, y, test_size=0.2, random_state=0)\n",
        "# さらにtrainとvalに分割\n",
        "X_train, X_val, y_train, y_val = train_test_split(X_train, y_train, test_size=0.2, random_state=0)"
      ],
      "execution_count": 387,
      "outputs": [
        {
          "output_type": "stream",
          "name": "stdout",
          "text": [
            "time: 9.44 ms (started: 2021-09-23 19:05:14 +00:00)\n"
          ]
        }
      ]
    },
    {
      "cell_type": "code",
      "metadata": {
        "colab": {
          "base_uri": "https://localhost:8080/",
          "height": 121
        },
        "id": "dWCOxAC7cn3f",
        "outputId": "edfa9738-80f7-4043-93c0-cae5f1b6ae48"
      },
      "source": [
        "#do standard scaler\n",
        "from sklearn.preprocessing import StandardScaler\n",
        "scaler = StandardScaler()\n",
        "scaler.fit(X_train)\n",
        "\n",
        "X_train = scaler.transform(X_train)\n",
        "X_val = scaler.transform(X_val)\n",
        "X_test = scaler.transform(X_test)\n",
        "\n",
        "display(X_train[:5, :])"
      ],
      "execution_count": 388,
      "outputs": [
        {
          "output_type": "display_data",
          "data": {
            "text/plain": [
              "array([[-0.80043595, -1.318735  ],\n",
              "       [ 0.87578699, -1.93738445],\n",
              "       [-0.02107061,  1.22098379],\n",
              "       [ 0.28049286, -1.18849301],\n",
              "       [-0.16989415,  0.96049981]])"
            ]
          },
          "metadata": {}
        },
        {
          "output_type": "stream",
          "name": "stdout",
          "text": [
            "time: 14.9 ms (started: 2021-09-23 19:05:14 +00:00)\n"
          ]
        }
      ]
    },
    {
      "cell_type": "markdown",
      "metadata": {
        "id": "9iduxcyxeCsf"
      },
      "source": [
        "<h3>Training</h3>"
      ]
    },
    {
      "cell_type": "code",
      "metadata": {
        "colab": {
          "base_uri": "https://localhost:8080/"
        },
        "id": "DovHUf1mcw5K",
        "outputId": "812f444c-9847-4ace-a2c9-0fa84fe3a9bd"
      },
      "source": [
        "# Hyperparameter settings\n",
        "learning_rate = 0.001\n",
        "batch_size = 10\n",
        "num_epochs = 100\n",
        "n_hidden1 = 50\n",
        "n_hidden2 = 100\n",
        "n_input = X_train.shape[1]\n",
        "n_samples = X_train.shape[0]\n",
        "n_classes = 1"
      ],
      "execution_count": 389,
      "outputs": [
        {
          "output_type": "stream",
          "name": "stdout",
          "text": [
            "time: 6.44 ms (started: 2021-09-23 19:05:14 +00:00)\n"
          ]
        }
      ]
    },
    {
      "cell_type": "code",
      "metadata": {
        "colab": {
          "base_uri": "https://localhost:8080/"
        },
        "id": "V8x0D2ErcxeD",
        "outputId": "f4c6f16c-0909-4b20-dffe-d3349c58b018"
      },
      "source": [
        "#logits\n",
        "house_price_model_logits = tf.keras.models.Sequential([\n",
        "                                    tf.keras.layers.Flatten(input_shape=(n_input, )),\n",
        "                                    tf.keras.layers.Dense(n_hidden1, kernel_initializer='he_uniform', bias_initializer='random_normal', activation='relu'),\n",
        "                                    tf.keras.layers.Dense(n_hidden2, kernel_initializer='he_uniform', bias_initializer='random_normal', activation='relu'),\n",
        "                                    tf.keras.layers.Dense(n_classes)\n",
        "])"
      ],
      "execution_count": 390,
      "outputs": [
        {
          "output_type": "stream",
          "name": "stdout",
          "text": [
            "time: 81.9 ms (started: 2021-09-23 19:05:14 +00:00)\n"
          ]
        }
      ]
    },
    {
      "cell_type": "code",
      "metadata": {
        "colab": {
          "base_uri": "https://localhost:8080/"
        },
        "id": "UphuBBIBeeLL",
        "outputId": "026e0c65-2514-4f61-fa02-a694fc2468af"
      },
      "source": [
        "house_price_model_logits.summary()"
      ],
      "execution_count": 391,
      "outputs": [
        {
          "output_type": "stream",
          "name": "stdout",
          "text": [
            "Model: \"sequential_61\"\n",
            "_________________________________________________________________\n",
            "Layer (type)                 Output Shape              Param #   \n",
            "=================================================================\n",
            "flatten_33 (Flatten)         (None, 2)                 0         \n",
            "_________________________________________________________________\n",
            "dense_87 (Dense)             (None, 50)                150       \n",
            "_________________________________________________________________\n",
            "dense_88 (Dense)             (None, 100)               5100      \n",
            "_________________________________________________________________\n",
            "dense_89 (Dense)             (None, 1)                 101       \n",
            "=================================================================\n",
            "Total params: 5,351\n",
            "Trainable params: 5,351\n",
            "Non-trainable params: 0\n",
            "_________________________________________________________________\n",
            "time: 14.4 ms (started: 2021-09-23 19:05:14 +00:00)\n"
          ]
        }
      ]
    },
    {
      "cell_type": "code",
      "metadata": {
        "colab": {
          "base_uri": "https://localhost:8080/"
        },
        "id": "3ZHt2aIMeg8G",
        "outputId": "43101b9f-245d-464d-82ed-10a90ad0a1f3"
      },
      "source": [
        "house_price_model = tf.keras.models.Sequential([\n",
        "                                    house_price_model_logits\n",
        "])"
      ],
      "execution_count": 392,
      "outputs": [
        {
          "output_type": "stream",
          "name": "stdout",
          "text": [
            "time: 38.3 ms (started: 2021-09-23 19:05:14 +00:00)\n"
          ]
        }
      ]
    },
    {
      "cell_type": "code",
      "metadata": {
        "colab": {
          "base_uri": "https://localhost:8080/"
        },
        "id": "YmrtFPQNfBgn",
        "outputId": "b1a07bff-81bd-43dd-ced3-c913c6a20eb8"
      },
      "source": [
        "house_price_model.summary()"
      ],
      "execution_count": 393,
      "outputs": [
        {
          "output_type": "stream",
          "name": "stdout",
          "text": [
            "Model: \"sequential_62\"\n",
            "_________________________________________________________________\n",
            "Layer (type)                 Output Shape              Param #   \n",
            "=================================================================\n",
            "sequential_61 (Sequential)   (None, 1)                 5351      \n",
            "=================================================================\n",
            "Total params: 5,351\n",
            "Trainable params: 5,351\n",
            "Non-trainable params: 0\n",
            "_________________________________________________________________\n",
            "time: 10.5 ms (started: 2021-09-23 19:05:14 +00:00)\n"
          ]
        }
      ]
    },
    {
      "cell_type": "code",
      "metadata": {
        "colab": {
          "base_uri": "https://localhost:8080/"
        },
        "id": "oEImBlWSfDE2",
        "outputId": "6a1cd285-48da-404b-efb0-9b79f6a49f94"
      },
      "source": [
        "house_price_model.compile(\n",
        "            loss='mean_squared_logarithmic_error',\n",
        "            optimizer=tf.keras.optimizers.Adam(learning_rate=learning_rate),\n",
        "            metrics=['mean_squared_logarithmic_error'])"
      ],
      "execution_count": 394,
      "outputs": [
        {
          "output_type": "stream",
          "name": "stdout",
          "text": [
            "time: 15.8 ms (started: 2021-09-23 19:05:14 +00:00)\n"
          ]
        }
      ]
    },
    {
      "cell_type": "code",
      "metadata": {
        "colab": {
          "base_uri": "https://localhost:8080/"
        },
        "id": "4fiGpC18f8nV",
        "outputId": "4b6bc451-0f4d-4b99-b8a6-2d665639988f"
      },
      "source": [
        "history = house_price_model.fit(\n",
        "        x=X_train, \n",
        "        y=y_train, \n",
        "        batch_size=batch_size, \n",
        "        epochs=num_epochs, \n",
        "        validation_data=(X_val, y_val)\n",
        "        )"
      ],
      "execution_count": 395,
      "outputs": [
        {
          "output_type": "stream",
          "name": "stdout",
          "text": [
            "Epoch 1/100\n",
            "94/94 [==============================] - 1s 7ms/step - loss: 101.3570 - mean_squared_logarithmic_error: 101.3570 - val_loss: 83.2501 - val_mean_squared_logarithmic_error: 83.2501\n",
            "Epoch 2/100\n",
            "94/94 [==============================] - 0s 4ms/step - loss: 75.2208 - mean_squared_logarithmic_error: 75.2208 - val_loss: 66.5196 - val_mean_squared_logarithmic_error: 66.5196\n",
            "Epoch 3/100\n",
            "94/94 [==============================] - 0s 4ms/step - loss: 62.2078 - mean_squared_logarithmic_error: 62.2078 - val_loss: 56.5849 - val_mean_squared_logarithmic_error: 56.5849\n",
            "Epoch 4/100\n",
            "94/94 [==============================] - 0s 4ms/step - loss: 53.7788 - mean_squared_logarithmic_error: 53.7788 - val_loss: 49.6860 - val_mean_squared_logarithmic_error: 49.6860\n",
            "Epoch 5/100\n",
            "94/94 [==============================] - 0s 4ms/step - loss: 47.7518 - mean_squared_logarithmic_error: 47.7518 - val_loss: 44.5643 - val_mean_squared_logarithmic_error: 44.5643\n",
            "Epoch 6/100\n",
            "94/94 [==============================] - 0s 4ms/step - loss: 43.1553 - mean_squared_logarithmic_error: 43.1553 - val_loss: 40.5502 - val_mean_squared_logarithmic_error: 40.5502\n",
            "Epoch 7/100\n",
            "94/94 [==============================] - 0s 3ms/step - loss: 39.4679 - mean_squared_logarithmic_error: 39.4679 - val_loss: 37.2648 - val_mean_squared_logarithmic_error: 37.2648\n",
            "Epoch 8/100\n",
            "94/94 [==============================] - 0s 3ms/step - loss: 36.4094 - mean_squared_logarithmic_error: 36.4094 - val_loss: 34.5006 - val_mean_squared_logarithmic_error: 34.5006\n",
            "Epoch 9/100\n",
            "94/94 [==============================] - 0s 4ms/step - loss: 33.8089 - mean_squared_logarithmic_error: 33.8089 - val_loss: 32.1258 - val_mean_squared_logarithmic_error: 32.1258\n",
            "Epoch 10/100\n",
            "94/94 [==============================] - 0s 3ms/step - loss: 31.5578 - mean_squared_logarithmic_error: 31.5578 - val_loss: 30.0522 - val_mean_squared_logarithmic_error: 30.0522\n",
            "Epoch 11/100\n",
            "94/94 [==============================] - 0s 3ms/step - loss: 29.5775 - mean_squared_logarithmic_error: 29.5775 - val_loss: 28.2160 - val_mean_squared_logarithmic_error: 28.2160\n",
            "Epoch 12/100\n",
            "94/94 [==============================] - 0s 3ms/step - loss: 27.8174 - mean_squared_logarithmic_error: 27.8174 - val_loss: 26.5759 - val_mean_squared_logarithmic_error: 26.5759\n",
            "Epoch 13/100\n",
            "94/94 [==============================] - 0s 3ms/step - loss: 26.2371 - mean_squared_logarithmic_error: 26.2371 - val_loss: 25.0972 - val_mean_squared_logarithmic_error: 25.0972\n",
            "Epoch 14/100\n",
            "94/94 [==============================] - 0s 4ms/step - loss: 24.8071 - mean_squared_logarithmic_error: 24.8071 - val_loss: 23.7504 - val_mean_squared_logarithmic_error: 23.7504\n",
            "Epoch 15/100\n",
            "94/94 [==============================] - 0s 3ms/step - loss: 23.5029 - mean_squared_logarithmic_error: 23.5029 - val_loss: 22.5214 - val_mean_squared_logarithmic_error: 22.5214\n",
            "Epoch 16/100\n",
            "94/94 [==============================] - 0s 4ms/step - loss: 22.3064 - mean_squared_logarithmic_error: 22.3064 - val_loss: 21.3898 - val_mean_squared_logarithmic_error: 21.3898\n",
            "Epoch 17/100\n",
            "94/94 [==============================] - 0s 3ms/step - loss: 21.2048 - mean_squared_logarithmic_error: 21.2048 - val_loss: 20.3456 - val_mean_squared_logarithmic_error: 20.3456\n",
            "Epoch 18/100\n",
            "94/94 [==============================] - 0s 3ms/step - loss: 20.1842 - mean_squared_logarithmic_error: 20.1842 - val_loss: 19.3767 - val_mean_squared_logarithmic_error: 19.3767\n",
            "Epoch 19/100\n",
            "94/94 [==============================] - 0s 3ms/step - loss: 19.2349 - mean_squared_logarithmic_error: 19.2349 - val_loss: 18.4714 - val_mean_squared_logarithmic_error: 18.4714\n",
            "Epoch 20/100\n",
            "94/94 [==============================] - 0s 3ms/step - loss: 18.3484 - mean_squared_logarithmic_error: 18.3484 - val_loss: 17.6248 - val_mean_squared_logarithmic_error: 17.6248\n",
            "Epoch 21/100\n",
            "94/94 [==============================] - 0s 3ms/step - loss: 17.5186 - mean_squared_logarithmic_error: 17.5186 - val_loss: 16.8320 - val_mean_squared_logarithmic_error: 16.8320\n",
            "Epoch 22/100\n",
            "94/94 [==============================] - 0s 3ms/step - loss: 16.7394 - mean_squared_logarithmic_error: 16.7394 - val_loss: 16.0860 - val_mean_squared_logarithmic_error: 16.0860\n",
            "Epoch 23/100\n",
            "94/94 [==============================] - 0s 3ms/step - loss: 16.0057 - mean_squared_logarithmic_error: 16.0057 - val_loss: 15.3832 - val_mean_squared_logarithmic_error: 15.3832\n",
            "Epoch 24/100\n",
            "94/94 [==============================] - 0s 4ms/step - loss: 15.3135 - mean_squared_logarithmic_error: 15.3135 - val_loss: 14.7199 - val_mean_squared_logarithmic_error: 14.7199\n",
            "Epoch 25/100\n",
            "94/94 [==============================] - 0s 3ms/step - loss: 14.6590 - mean_squared_logarithmic_error: 14.6590 - val_loss: 14.0897 - val_mean_squared_logarithmic_error: 14.0897\n",
            "Epoch 26/100\n",
            "94/94 [==============================] - 0s 3ms/step - loss: 14.0389 - mean_squared_logarithmic_error: 14.0389 - val_loss: 13.4948 - val_mean_squared_logarithmic_error: 13.4948\n",
            "Epoch 27/100\n",
            "94/94 [==============================] - 0s 4ms/step - loss: 13.4504 - mean_squared_logarithmic_error: 13.4504 - val_loss: 12.9282 - val_mean_squared_logarithmic_error: 12.9282\n",
            "Epoch 28/100\n",
            "94/94 [==============================] - 0s 4ms/step - loss: 12.8908 - mean_squared_logarithmic_error: 12.8908 - val_loss: 12.3898 - val_mean_squared_logarithmic_error: 12.3898\n",
            "Epoch 29/100\n",
            "94/94 [==============================] - 0s 4ms/step - loss: 12.3585 - mean_squared_logarithmic_error: 12.3585 - val_loss: 11.8769 - val_mean_squared_logarithmic_error: 11.8769\n",
            "Epoch 30/100\n",
            "94/94 [==============================] - 0s 3ms/step - loss: 11.8512 - mean_squared_logarithmic_error: 11.8512 - val_loss: 11.3887 - val_mean_squared_logarithmic_error: 11.3887\n",
            "Epoch 31/100\n",
            "94/94 [==============================] - 0s 5ms/step - loss: 11.3673 - mean_squared_logarithmic_error: 11.3673 - val_loss: 10.9216 - val_mean_squared_logarithmic_error: 10.9216\n",
            "Epoch 32/100\n",
            "94/94 [==============================] - 0s 4ms/step - loss: 10.9053 - mean_squared_logarithmic_error: 10.9053 - val_loss: 10.4761 - val_mean_squared_logarithmic_error: 10.4761\n",
            "Epoch 33/100\n",
            "94/94 [==============================] - 0s 4ms/step - loss: 10.4634 - mean_squared_logarithmic_error: 10.4634 - val_loss: 10.0490 - val_mean_squared_logarithmic_error: 10.0490\n",
            "Epoch 34/100\n",
            "94/94 [==============================] - 0s 3ms/step - loss: 10.0406 - mean_squared_logarithmic_error: 10.0406 - val_loss: 9.6414 - val_mean_squared_logarithmic_error: 9.6414\n",
            "Epoch 35/100\n",
            "94/94 [==============================] - 0s 3ms/step - loss: 9.6360 - mean_squared_logarithmic_error: 9.6360 - val_loss: 9.2511 - val_mean_squared_logarithmic_error: 9.2511\n",
            "Epoch 36/100\n",
            "94/94 [==============================] - 0s 3ms/step - loss: 9.2481 - mean_squared_logarithmic_error: 9.2481 - val_loss: 8.8766 - val_mean_squared_logarithmic_error: 8.8766\n",
            "Epoch 37/100\n",
            "94/94 [==============================] - 0s 3ms/step - loss: 8.8757 - mean_squared_logarithmic_error: 8.8757 - val_loss: 8.5162 - val_mean_squared_logarithmic_error: 8.5162\n",
            "Epoch 38/100\n",
            "94/94 [==============================] - 0s 3ms/step - loss: 8.5182 - mean_squared_logarithmic_error: 8.5182 - val_loss: 8.1707 - val_mean_squared_logarithmic_error: 8.1707\n",
            "Epoch 39/100\n",
            "94/94 [==============================] - 0s 3ms/step - loss: 8.1752 - mean_squared_logarithmic_error: 8.1752 - val_loss: 7.8396 - val_mean_squared_logarithmic_error: 7.8396\n",
            "Epoch 40/100\n",
            "94/94 [==============================] - 0s 3ms/step - loss: 7.8455 - mean_squared_logarithmic_error: 7.8455 - val_loss: 7.5210 - val_mean_squared_logarithmic_error: 7.5210\n",
            "Epoch 41/100\n",
            "94/94 [==============================] - 0s 4ms/step - loss: 7.5288 - mean_squared_logarithmic_error: 7.5288 - val_loss: 7.2140 - val_mean_squared_logarithmic_error: 7.2140\n",
            "Epoch 42/100\n",
            "94/94 [==============================] - 0s 3ms/step - loss: 7.2240 - mean_squared_logarithmic_error: 7.2240 - val_loss: 6.9200 - val_mean_squared_logarithmic_error: 6.9200\n",
            "Epoch 43/100\n",
            "94/94 [==============================] - 0s 4ms/step - loss: 6.9311 - mean_squared_logarithmic_error: 6.9311 - val_loss: 6.6360 - val_mean_squared_logarithmic_error: 6.6360\n",
            "Epoch 44/100\n",
            "94/94 [==============================] - 0s 3ms/step - loss: 6.6489 - mean_squared_logarithmic_error: 6.6489 - val_loss: 6.3635 - val_mean_squared_logarithmic_error: 6.3635\n",
            "Epoch 45/100\n",
            "94/94 [==============================] - 0s 3ms/step - loss: 6.3772 - mean_squared_logarithmic_error: 6.3772 - val_loss: 6.1005 - val_mean_squared_logarithmic_error: 6.1005\n",
            "Epoch 46/100\n",
            "94/94 [==============================] - 0s 3ms/step - loss: 6.1154 - mean_squared_logarithmic_error: 6.1154 - val_loss: 5.8469 - val_mean_squared_logarithmic_error: 5.8469\n",
            "Epoch 47/100\n",
            "94/94 [==============================] - 0s 4ms/step - loss: 5.8633 - mean_squared_logarithmic_error: 5.8633 - val_loss: 5.6034 - val_mean_squared_logarithmic_error: 5.6034\n",
            "Epoch 48/100\n",
            "94/94 [==============================] - 0s 4ms/step - loss: 5.6207 - mean_squared_logarithmic_error: 5.6207 - val_loss: 5.3684 - val_mean_squared_logarithmic_error: 5.3684\n",
            "Epoch 49/100\n",
            "94/94 [==============================] - 0s 4ms/step - loss: 5.3865 - mean_squared_logarithmic_error: 5.3865 - val_loss: 5.1429 - val_mean_squared_logarithmic_error: 5.1429\n",
            "Epoch 50/100\n",
            "94/94 [==============================] - 0s 4ms/step - loss: 5.1610 - mean_squared_logarithmic_error: 5.1610 - val_loss: 4.9247 - val_mean_squared_logarithmic_error: 4.9247\n",
            "Epoch 51/100\n",
            "94/94 [==============================] - 0s 4ms/step - loss: 4.9436 - mean_squared_logarithmic_error: 4.9436 - val_loss: 4.7140 - val_mean_squared_logarithmic_error: 4.7140\n",
            "Epoch 52/100\n",
            "94/94 [==============================] - 0s 4ms/step - loss: 4.7340 - mean_squared_logarithmic_error: 4.7340 - val_loss: 4.5112 - val_mean_squared_logarithmic_error: 4.5112\n",
            "Epoch 53/100\n",
            "94/94 [==============================] - 0s 4ms/step - loss: 4.5320 - mean_squared_logarithmic_error: 4.5320 - val_loss: 4.3160 - val_mean_squared_logarithmic_error: 4.3160\n",
            "Epoch 54/100\n",
            "94/94 [==============================] - 0s 4ms/step - loss: 4.3373 - mean_squared_logarithmic_error: 4.3373 - val_loss: 4.1279 - val_mean_squared_logarithmic_error: 4.1279\n",
            "Epoch 55/100\n",
            "94/94 [==============================] - 0s 4ms/step - loss: 4.1494 - mean_squared_logarithmic_error: 4.1494 - val_loss: 3.9460 - val_mean_squared_logarithmic_error: 3.9460\n",
            "Epoch 56/100\n",
            "94/94 [==============================] - 0s 3ms/step - loss: 3.9683 - mean_squared_logarithmic_error: 3.9683 - val_loss: 3.7715 - val_mean_squared_logarithmic_error: 3.7715\n",
            "Epoch 57/100\n",
            "94/94 [==============================] - 0s 4ms/step - loss: 3.7940 - mean_squared_logarithmic_error: 3.7940 - val_loss: 3.6032 - val_mean_squared_logarithmic_error: 3.6032\n",
            "Epoch 58/100\n",
            "94/94 [==============================] - 0s 4ms/step - loss: 3.6259 - mean_squared_logarithmic_error: 3.6259 - val_loss: 3.4406 - val_mean_squared_logarithmic_error: 3.4406\n",
            "Epoch 59/100\n",
            "94/94 [==============================] - 0s 4ms/step - loss: 3.4639 - mean_squared_logarithmic_error: 3.4639 - val_loss: 3.2844 - val_mean_squared_logarithmic_error: 3.2844\n",
            "Epoch 60/100\n",
            "94/94 [==============================] - 0s 4ms/step - loss: 3.3076 - mean_squared_logarithmic_error: 3.3076 - val_loss: 3.1330 - val_mean_squared_logarithmic_error: 3.1330\n",
            "Epoch 61/100\n",
            "94/94 [==============================] - 0s 4ms/step - loss: 3.1569 - mean_squared_logarithmic_error: 3.1569 - val_loss: 2.9880 - val_mean_squared_logarithmic_error: 2.9880\n",
            "Epoch 62/100\n",
            "94/94 [==============================] - 0s 3ms/step - loss: 3.0117 - mean_squared_logarithmic_error: 3.0117 - val_loss: 2.8478 - val_mean_squared_logarithmic_error: 2.8478\n",
            "Epoch 63/100\n",
            "94/94 [==============================] - 0s 3ms/step - loss: 2.8721 - mean_squared_logarithmic_error: 2.8721 - val_loss: 2.7133 - val_mean_squared_logarithmic_error: 2.7133\n",
            "Epoch 64/100\n",
            "94/94 [==============================] - 0s 4ms/step - loss: 2.7376 - mean_squared_logarithmic_error: 2.7376 - val_loss: 2.5833 - val_mean_squared_logarithmic_error: 2.5833\n",
            "Epoch 65/100\n",
            "94/94 [==============================] - 0s 4ms/step - loss: 2.6079 - mean_squared_logarithmic_error: 2.6079 - val_loss: 2.4587 - val_mean_squared_logarithmic_error: 2.4587\n",
            "Epoch 66/100\n",
            "94/94 [==============================] - 0s 4ms/step - loss: 2.4833 - mean_squared_logarithmic_error: 2.4833 - val_loss: 2.3387 - val_mean_squared_logarithmic_error: 2.3387\n",
            "Epoch 67/100\n",
            "94/94 [==============================] - 0s 4ms/step - loss: 2.3632 - mean_squared_logarithmic_error: 2.3632 - val_loss: 2.2228 - val_mean_squared_logarithmic_error: 2.2228\n",
            "Epoch 68/100\n",
            "94/94 [==============================] - 0s 4ms/step - loss: 2.2477 - mean_squared_logarithmic_error: 2.2477 - val_loss: 2.1119 - val_mean_squared_logarithmic_error: 2.1119\n",
            "Epoch 69/100\n",
            "94/94 [==============================] - 0s 4ms/step - loss: 2.1367 - mean_squared_logarithmic_error: 2.1367 - val_loss: 2.0050 - val_mean_squared_logarithmic_error: 2.0050\n",
            "Epoch 70/100\n",
            "94/94 [==============================] - 0s 4ms/step - loss: 2.0299 - mean_squared_logarithmic_error: 2.0299 - val_loss: 1.9026 - val_mean_squared_logarithmic_error: 1.9026\n",
            "Epoch 71/100\n",
            "94/94 [==============================] - 0s 4ms/step - loss: 1.9272 - mean_squared_logarithmic_error: 1.9272 - val_loss: 1.8040 - val_mean_squared_logarithmic_error: 1.8040\n",
            "Epoch 72/100\n",
            "94/94 [==============================] - 0s 4ms/step - loss: 1.8287 - mean_squared_logarithmic_error: 1.8287 - val_loss: 1.7092 - val_mean_squared_logarithmic_error: 1.7092\n",
            "Epoch 73/100\n",
            "94/94 [==============================] - 0s 4ms/step - loss: 1.7342 - mean_squared_logarithmic_error: 1.7342 - val_loss: 1.6186 - val_mean_squared_logarithmic_error: 1.6186\n",
            "Epoch 74/100\n",
            "94/94 [==============================] - 0s 4ms/step - loss: 1.6435 - mean_squared_logarithmic_error: 1.6435 - val_loss: 1.5317 - val_mean_squared_logarithmic_error: 1.5317\n",
            "Epoch 75/100\n",
            "94/94 [==============================] - 0s 4ms/step - loss: 1.5565 - mean_squared_logarithmic_error: 1.5565 - val_loss: 1.4485 - val_mean_squared_logarithmic_error: 1.4485\n",
            "Epoch 76/100\n",
            "94/94 [==============================] - 0s 4ms/step - loss: 1.4730 - mean_squared_logarithmic_error: 1.4730 - val_loss: 1.3685 - val_mean_squared_logarithmic_error: 1.3685\n",
            "Epoch 77/100\n",
            "94/94 [==============================] - 0s 4ms/step - loss: 1.3928 - mean_squared_logarithmic_error: 1.3928 - val_loss: 1.2921 - val_mean_squared_logarithmic_error: 1.2921\n",
            "Epoch 78/100\n",
            "94/94 [==============================] - 0s 4ms/step - loss: 1.3162 - mean_squared_logarithmic_error: 1.3162 - val_loss: 1.2186 - val_mean_squared_logarithmic_error: 1.2186\n",
            "Epoch 79/100\n",
            "94/94 [==============================] - 0s 4ms/step - loss: 1.2429 - mean_squared_logarithmic_error: 1.2429 - val_loss: 1.1488 - val_mean_squared_logarithmic_error: 1.1488\n",
            "Epoch 80/100\n",
            "94/94 [==============================] - 0s 4ms/step - loss: 1.1729 - mean_squared_logarithmic_error: 1.1729 - val_loss: 1.0819 - val_mean_squared_logarithmic_error: 1.0819\n",
            "Epoch 81/100\n",
            "94/94 [==============================] - 0s 4ms/step - loss: 1.1058 - mean_squared_logarithmic_error: 1.1058 - val_loss: 1.0178 - val_mean_squared_logarithmic_error: 1.0178\n",
            "Epoch 82/100\n",
            "94/94 [==============================] - 0s 4ms/step - loss: 1.0418 - mean_squared_logarithmic_error: 1.0418 - val_loss: 0.9572 - val_mean_squared_logarithmic_error: 0.9572\n",
            "Epoch 83/100\n",
            "94/94 [==============================] - 0s 4ms/step - loss: 0.9808 - mean_squared_logarithmic_error: 0.9808 - val_loss: 0.8991 - val_mean_squared_logarithmic_error: 0.8991\n",
            "Epoch 84/100\n",
            "94/94 [==============================] - 0s 4ms/step - loss: 0.9226 - mean_squared_logarithmic_error: 0.9226 - val_loss: 0.8439 - val_mean_squared_logarithmic_error: 0.8439\n",
            "Epoch 85/100\n",
            "94/94 [==============================] - 0s 4ms/step - loss: 0.8673 - mean_squared_logarithmic_error: 0.8673 - val_loss: 0.7914 - val_mean_squared_logarithmic_error: 0.7914\n",
            "Epoch 86/100\n",
            "94/94 [==============================] - 0s 4ms/step - loss: 0.8145 - mean_squared_logarithmic_error: 0.8145 - val_loss: 0.7415 - val_mean_squared_logarithmic_error: 0.7415\n",
            "Epoch 87/100\n",
            "94/94 [==============================] - 0s 4ms/step - loss: 0.7642 - mean_squared_logarithmic_error: 0.7642 - val_loss: 0.6941 - val_mean_squared_logarithmic_error: 0.6941\n",
            "Epoch 88/100\n",
            "94/94 [==============================] - 0s 5ms/step - loss: 0.7166 - mean_squared_logarithmic_error: 0.7166 - val_loss: 0.6488 - val_mean_squared_logarithmic_error: 0.6488\n",
            "Epoch 89/100\n",
            "94/94 [==============================] - 0s 4ms/step - loss: 0.6713 - mean_squared_logarithmic_error: 0.6713 - val_loss: 0.6064 - val_mean_squared_logarithmic_error: 0.6064\n",
            "Epoch 90/100\n",
            "94/94 [==============================] - 0s 4ms/step - loss: 0.6286 - mean_squared_logarithmic_error: 0.6286 - val_loss: 0.5661 - val_mean_squared_logarithmic_error: 0.5661\n",
            "Epoch 91/100\n",
            "94/94 [==============================] - 0s 4ms/step - loss: 0.5880 - mean_squared_logarithmic_error: 0.5880 - val_loss: 0.5279 - val_mean_squared_logarithmic_error: 0.5279\n",
            "Epoch 92/100\n",
            "94/94 [==============================] - 0s 4ms/step - loss: 0.5496 - mean_squared_logarithmic_error: 0.5496 - val_loss: 0.4921 - val_mean_squared_logarithmic_error: 0.4921\n",
            "Epoch 93/100\n",
            "94/94 [==============================] - 0s 4ms/step - loss: 0.5133 - mean_squared_logarithmic_error: 0.5133 - val_loss: 0.4578 - val_mean_squared_logarithmic_error: 0.4578\n",
            "Epoch 94/100\n",
            "94/94 [==============================] - 0s 4ms/step - loss: 0.4790 - mean_squared_logarithmic_error: 0.4790 - val_loss: 0.4261 - val_mean_squared_logarithmic_error: 0.4261\n",
            "Epoch 95/100\n",
            "94/94 [==============================] - 0s 4ms/step - loss: 0.4467 - mean_squared_logarithmic_error: 0.4467 - val_loss: 0.3960 - val_mean_squared_logarithmic_error: 0.3960\n",
            "Epoch 96/100\n",
            "94/94 [==============================] - 0s 4ms/step - loss: 0.4164 - mean_squared_logarithmic_error: 0.4164 - val_loss: 0.3678 - val_mean_squared_logarithmic_error: 0.3678\n",
            "Epoch 97/100\n",
            "94/94 [==============================] - 0s 4ms/step - loss: 0.3880 - mean_squared_logarithmic_error: 0.3880 - val_loss: 0.3414 - val_mean_squared_logarithmic_error: 0.3414\n",
            "Epoch 98/100\n",
            "94/94 [==============================] - 0s 4ms/step - loss: 0.3612 - mean_squared_logarithmic_error: 0.3612 - val_loss: 0.3167 - val_mean_squared_logarithmic_error: 0.3167\n",
            "Epoch 99/100\n",
            "94/94 [==============================] - 0s 5ms/step - loss: 0.3360 - mean_squared_logarithmic_error: 0.3360 - val_loss: 0.2936 - val_mean_squared_logarithmic_error: 0.2936\n",
            "Epoch 100/100\n",
            "94/94 [==============================] - 0s 4ms/step - loss: 0.3125 - mean_squared_logarithmic_error: 0.3125 - val_loss: 0.2720 - val_mean_squared_logarithmic_error: 0.2720\n",
            "time: 37 s (started: 2021-09-23 19:05:14 +00:00)\n"
          ]
        }
      ]
    },
    {
      "cell_type": "code",
      "metadata": {
        "colab": {
          "base_uri": "https://localhost:8080/",
          "height": 405
        },
        "id": "FOtrHddB_R88",
        "outputId": "742740dd-6290-4d17-8994-32b27c472c9f"
      },
      "source": [
        "print(history.history.keys())\n",
        "plot_history(\n",
        "    \"training info of house price regression model\", \n",
        "    history.history['loss'], \n",
        "    history.history['val_loss'], \n",
        "    \"loss\", \n",
        "    history.history['mean_squared_logarithmic_error'], \n",
        "    history.history['val_mean_squared_logarithmic_error'], \n",
        "    \"mean_squared_logarithmic_error\"\n",
        "    )"
      ],
      "execution_count": 396,
      "outputs": [
        {
          "output_type": "stream",
          "name": "stdout",
          "text": [
            "dict_keys(['loss', 'mean_squared_logarithmic_error', 'val_loss', 'val_mean_squared_logarithmic_error'])\n"
          ]
        },
        {
          "output_type": "display_data",
          "data": {
            "image/png": "[encoded data removed]",
            "text/plain": [
              "<Figure size 864x360 with 2 Axes>"
            ]
          },
          "metadata": {
            "needs_background": "light"
          }
        },
        {
          "output_type": "stream",
          "name": "stdout",
          "text": [
            "time: 573 ms (started: 2021-09-23 19:05:51 +00:00)\n"
          ]
        }
      ]
    },
    {
      "cell_type": "code",
      "metadata": {
        "colab": {
          "base_uri": "https://localhost:8080/"
        },
        "id": "xq8iAdInfaCZ",
        "outputId": "97d9bc91-6140-4ffd-ec68-5b48848f5f34"
      },
      "source": [
        "house_price_model.evaluate(X_test, y_test, verbose=2)"
      ],
      "execution_count": 397,
      "outputs": [
        {
          "output_type": "stream",
          "name": "stdout",
          "text": [
            "10/10 - 0s - loss: 0.2851 - mean_squared_logarithmic_error: 0.2851\n"
          ]
        },
        {
          "output_type": "execute_result",
          "data": {
            "text/plain": [
              "[0.28510406613349915, 0.28510406613349915]"
            ]
          },
          "metadata": {},
          "execution_count": 397
        },
        {
          "output_type": "stream",
          "name": "stdout",
          "text": [
            "time: 108 ms (started: 2021-09-23 19:05:52 +00:00)\n"
          ]
        }
      ]
    },
    {
      "cell_type": "markdown",
      "metadata": {
        "id": "w5WPgzT8hFeL"
      },
      "source": [
        "<h2>[Problem 6] Learning MNIST with Keras</h2>"
      ]
    },
    {
      "cell_type": "markdown",
      "metadata": {
        "id": "0d_2c68ChMsA"
      },
      "source": [
        "<h3>Preprocessing</h3>"
      ]
    },
    {
      "cell_type": "code",
      "metadata": {
        "colab": {
          "base_uri": "https://localhost:8080/"
        },
        "id": "PA9-z6NZhRry",
        "outputId": "7d445659-ab6c-4d99-9fc6-51cd4932f1bc"
      },
      "source": [
        "from keras.datasets import mnist\n",
        "(X_train, y_train), (X_test, y_test) = mnist.load_data()"
      ],
      "execution_count": 398,
      "outputs": [
        {
          "output_type": "stream",
          "name": "stdout",
          "text": [
            "time: 455 ms (started: 2021-09-23 19:05:52 +00:00)\n"
          ]
        }
      ]
    },
    {
      "cell_type": "code",
      "metadata": {
        "colab": {
          "base_uri": "https://localhost:8080/",
          "height": 69
        },
        "id": "6fXX7ZG5hV0X",
        "outputId": "3a2e8200-5535-4cf8-845f-d4a45c527c14"
      },
      "source": [
        "X_train = X_train.reshape(-1, 784)\n",
        "X_test = X_test.reshape(-1, 784)\n",
        "display(X_train.shape)\n",
        "display(X_test.shape)"
      ],
      "execution_count": 399,
      "outputs": [
        {
          "output_type": "display_data",
          "data": {
            "text/plain": [
              "(60000, 784)"
            ]
          },
          "metadata": {}
        },
        {
          "output_type": "display_data",
          "data": {
            "text/plain": [
              "(10000, 784)"
            ]
          },
          "metadata": {}
        },
        {
          "output_type": "stream",
          "name": "stdout",
          "text": [
            "time: 19.7 ms (started: 2021-09-23 19:05:53 +00:00)\n"
          ]
        }
      ]
    },
    {
      "cell_type": "code",
      "metadata": {
        "colab": {
          "base_uri": "https://localhost:8080/"
        },
        "id": "_I4BuLz_ihRt",
        "outputId": "5c4503bf-fec9-4de5-eced-4de31cb31cdd"
      },
      "source": [
        "X_train = X_train.astype(np.float)\n",
        "X_test = X_test.astype(np.float)\n",
        "X_train /= 255\n",
        "X_test /= 255"
      ],
      "execution_count": 400,
      "outputs": [
        {
          "output_type": "stream",
          "name": "stdout",
          "text": [
            "time: 186 ms (started: 2021-09-23 19:05:53 +00:00)\n"
          ]
        }
      ]
    },
    {
      "cell_type": "code",
      "metadata": {
        "colab": {
          "base_uri": "https://localhost:8080/",
          "height": 156
        },
        "id": "RKpzNwyJijuT",
        "outputId": "dec12198-5e5b-473e-cbfb-4624a90feaf4"
      },
      "source": [
        "# Convert label to one hot\n",
        "y_train = pd.get_dummies(y_train)\n",
        "y_test = pd.get_dummies(y_test)\n",
        "\n",
        "# NumPy 配列に変換\n",
        "y_train = np.array(y_train)\n",
        "y_test = np.array(y_test)\n",
        "\n",
        "y_train = y_train.astype(np.int64)\n",
        "y_test = y_test.astype(np.int64)\n",
        "\n",
        "display(y_train.shape)\n",
        "display(y_test.shape)\n",
        "\n",
        "display(y_train[:5, :])"
      ],
      "execution_count": 401,
      "outputs": [
        {
          "output_type": "display_data",
          "data": {
            "text/plain": [
              "(60000, 10)"
            ]
          },
          "metadata": {}
        },
        {
          "output_type": "display_data",
          "data": {
            "text/plain": [
              "(10000, 10)"
            ]
          },
          "metadata": {}
        },
        {
          "output_type": "display_data",
          "data": {
            "text/plain": [
              "array([[0, 0, 0, 0, 0, 1, 0, 0, 0, 0],\n",
              "       [1, 0, 0, 0, 0, 0, 0, 0, 0, 0],\n",
              "       [0, 0, 0, 0, 1, 0, 0, 0, 0, 0],\n",
              "       [0, 1, 0, 0, 0, 0, 0, 0, 0, 0],\n",
              "       [0, 0, 0, 0, 0, 0, 0, 0, 0, 1]])"
            ]
          },
          "metadata": {}
        },
        {
          "output_type": "stream",
          "name": "stdout",
          "text": [
            "time: 34 ms (started: 2021-09-23 19:05:53 +00:00)\n"
          ]
        }
      ]
    },
    {
      "cell_type": "code",
      "metadata": {
        "colab": {
          "base_uri": "https://localhost:8080/"
        },
        "id": "30TbyYTqilw9",
        "outputId": "08b2f3ca-7adf-42e1-a084-1b91be5eab7f"
      },
      "source": [
        "X_train, X_val, y_train, y_val = train_test_split(X_train, y_train, test_size=0.2, random_state=0)"
      ],
      "execution_count": 402,
      "outputs": [
        {
          "output_type": "stream",
          "name": "stdout",
          "text": [
            "time: 440 ms (started: 2021-09-23 19:05:53 +00:00)\n"
          ]
        }
      ]
    },
    {
      "cell_type": "markdown",
      "metadata": {
        "id": "F5vbTX8tiocI"
      },
      "source": [
        "<h3>Training using LeNet</h3>"
      ]
    },
    {
      "cell_type": "code",
      "metadata": {
        "colab": {
          "base_uri": "https://localhost:8080/"
        },
        "id": "lrotfHdJiunc",
        "outputId": "be1b9ca8-406f-4da3-f734-7f6340982100"
      },
      "source": [
        "# Hyperparameter settings\n",
        "learning_rate = 0.001\n",
        "batch_size = 20\n",
        "num_epochs = 10\n",
        "n_hidden1 = 120\n",
        "n_hidden2 = 84\n",
        "n_input = X_train.shape[-1]\n",
        "n_samples = X_train.shape[0]\n",
        "n_classes = 10"
      ],
      "execution_count": 403,
      "outputs": [
        {
          "output_type": "stream",
          "name": "stdout",
          "text": [
            "time: 5.78 ms (started: 2021-09-23 19:05:53 +00:00)\n"
          ]
        }
      ]
    },
    {
      "cell_type": "code",
      "metadata": {
        "colab": {
          "base_uri": "https://localhost:8080/"
        },
        "id": "vQWjeT4Oslgm",
        "outputId": "253077bc-83a5-4852-e351-aedf69b86478"
      },
      "source": [
        "mnist_logits = tf.keras.models.Sequential([\n",
        "                                    #cnn\n",
        "                                    tf.keras.layers.Reshape((28, 28, 1), input_shape=(n_input, )), #1@28x28\n",
        "                                    tf.keras.layers.Conv2D(filters=6, kernel_size=(5, 5), kernel_initializer='he_uniform', bias_initializer='random_normal', activation='relu'),\n",
        "                                    tf.keras.layers.MaxPool2D(pool_size=(2,2), strides=(2,2)),    \n",
        "                                    tf.keras.layers.Conv2D(filters=16, kernel_size=(5, 5), kernel_initializer='he_uniform', bias_initializer='random_normal', activation='relu'),\n",
        "                                    tf.keras.layers.MaxPool2D(pool_size=(2,2), strides=(2,2)),\n",
        "                                    #nn\n",
        "                                    tf.keras.layers.Flatten(),\n",
        "                                    tf.keras.layers.Dense(n_hidden1, kernel_initializer='he_uniform', bias_initializer='random_normal', activation='relu'),\n",
        "                                    tf.keras.layers.Dense(n_hidden2, kernel_initializer='he_uniform', bias_initializer='random_normal', activation='relu'),\n",
        "                                    tf.keras.layers.Dense(n_classes)\n",
        "])\n",
        "\n",
        "mnist_logits.summary()"
      ],
      "execution_count": 404,
      "outputs": [
        {
          "output_type": "stream",
          "name": "stdout",
          "text": [
            "Model: \"sequential_63\"\n",
            "_________________________________________________________________\n",
            "Layer (type)                 Output Shape              Param #   \n",
            "=================================================================\n",
            "reshape_9 (Reshape)          (None, 28, 28, 1)         0         \n",
            "_________________________________________________________________\n",
            "conv2d_15 (Conv2D)           (None, 24, 24, 6)         156       \n",
            "_________________________________________________________________\n",
            "max_pooling2d_13 (MaxPooling (None, 12, 12, 6)         0         \n",
            "_________________________________________________________________\n",
            "conv2d_16 (Conv2D)           (None, 8, 8, 16)          2416      \n",
            "_________________________________________________________________\n",
            "max_pooling2d_14 (MaxPooling (None, 4, 4, 16)          0         \n",
            "_________________________________________________________________\n",
            "flatten_34 (Flatten)         (None, 256)               0         \n",
            "_________________________________________________________________\n",
            "dense_90 (Dense)             (None, 120)               30840     \n",
            "_________________________________________________________________\n",
            "dense_91 (Dense)             (None, 84)                10164     \n",
            "_________________________________________________________________\n",
            "dense_92 (Dense)             (None, 10)                850       \n",
            "=================================================================\n",
            "Total params: 44,426\n",
            "Trainable params: 44,426\n",
            "Non-trainable params: 0\n",
            "_________________________________________________________________\n",
            "time: 146 ms (started: 2021-09-23 19:05:53 +00:00)\n"
          ]
        }
      ]
    },
    {
      "cell_type": "code",
      "metadata": {
        "colab": {
          "base_uri": "https://localhost:8080/"
        },
        "id": "QuGLFnd6u2lY",
        "outputId": "5b8edd74-2e93-4e89-94ab-eaecf1d65587"
      },
      "source": [
        "mnist_model = tf.keras.models.Sequential([\n",
        "                                mnist_logits,\n",
        "                                tf.keras.layers.Activation(tf.nn.softmax)\n",
        "])\n",
        "\n",
        "mnist_model.summary()"
      ],
      "execution_count": 405,
      "outputs": [
        {
          "output_type": "stream",
          "name": "stdout",
          "text": [
            "Model: \"sequential_64\"\n",
            "_________________________________________________________________\n",
            "Layer (type)                 Output Shape              Param #   \n",
            "=================================================================\n",
            "sequential_63 (Sequential)   (None, 10)                44426     \n",
            "_________________________________________________________________\n",
            "activation_17 (Activation)   (None, 10)                0         \n",
            "=================================================================\n",
            "Total params: 44,426\n",
            "Trainable params: 44,426\n",
            "Non-trainable params: 0\n",
            "_________________________________________________________________\n",
            "time: 81.5 ms (started: 2021-09-23 19:05:53 +00:00)\n"
          ]
        }
      ]
    },
    {
      "cell_type": "code",
      "metadata": {
        "colab": {
          "base_uri": "https://localhost:8080/"
        },
        "id": "z3Et2WqKvP8-",
        "outputId": "59bf3c51-9c20-456a-82b1-df0b562330dc"
      },
      "source": [
        "mnist_model.compile(\n",
        "            loss='categorical_crossentropy',\n",
        "            optimizer=tf.keras.optimizers.Adam(learning_rate=learning_rate),\n",
        "            metrics=['accuracy'])"
      ],
      "execution_count": 406,
      "outputs": [
        {
          "output_type": "stream",
          "name": "stdout",
          "text": [
            "time: 14.7 ms (started: 2021-09-23 19:05:54 +00:00)\n"
          ]
        }
      ]
    },
    {
      "cell_type": "code",
      "metadata": {
        "colab": {
          "base_uri": "https://localhost:8080/"
        },
        "id": "lDdfSigDvWU5",
        "outputId": "9964b670-3bb0-4ac6-8e73-ca92a8fd8131"
      },
      "source": [
        "history = mnist_model.fit(\n",
        "        x=X_train, \n",
        "        y=y_train, \n",
        "        batch_size=batch_size, \n",
        "        epochs=num_epochs, \n",
        "        validation_data=(X_val, y_val)\n",
        "        )"
      ],
      "execution_count": 407,
      "outputs": [
        {
          "output_type": "stream",
          "name": "stdout",
          "text": [
            "Epoch 1/10\n",
            "2400/2400 [==============================] - 39s 16ms/step - loss: 0.1919 - accuracy: 0.9419 - val_loss: 0.0908 - val_accuracy: 0.9707\n",
            "Epoch 2/10\n",
            "2400/2400 [==============================] - 35s 14ms/step - loss: 0.0679 - accuracy: 0.9790 - val_loss: 0.0587 - val_accuracy: 0.9818\n",
            "Epoch 3/10\n",
            "2400/2400 [==============================] - 33s 14ms/step - loss: 0.0487 - accuracy: 0.9847 - val_loss: 0.0516 - val_accuracy: 0.9837\n",
            "Epoch 4/10\n",
            "2400/2400 [==============================] - 33s 14ms/step - loss: 0.0369 - accuracy: 0.9878 - val_loss: 0.0477 - val_accuracy: 0.9858\n",
            "Epoch 5/10\n",
            "2400/2400 [==============================] - 33s 14ms/step - loss: 0.0317 - accuracy: 0.9895 - val_loss: 0.0479 - val_accuracy: 0.9858\n",
            "Epoch 6/10\n",
            "2400/2400 [==============================] - 33s 14ms/step - loss: 0.0251 - accuracy: 0.9923 - val_loss: 0.0419 - val_accuracy: 0.9876\n",
            "Epoch 7/10\n",
            "2400/2400 [==============================] - 33s 14ms/step - loss: 0.0230 - accuracy: 0.9926 - val_loss: 0.0528 - val_accuracy: 0.9861\n",
            "Epoch 8/10\n",
            "2400/2400 [==============================] - 32s 13ms/step - loss: 0.0172 - accuracy: 0.9944 - val_loss: 0.0484 - val_accuracy: 0.9881\n",
            "Epoch 9/10\n",
            "2400/2400 [==============================] - 32s 13ms/step - loss: 0.0185 - accuracy: 0.9938 - val_loss: 0.0514 - val_accuracy: 0.9877\n",
            "Epoch 10/10\n",
            "2400/2400 [==============================] - 35s 14ms/step - loss: 0.0155 - accuracy: 0.9951 - val_loss: 0.0493 - val_accuracy: 0.9880\n",
            "time: 6min 22s (started: 2021-09-23 19:05:54 +00:00)\n"
          ]
        }
      ]
    },
    {
      "cell_type": "code",
      "metadata": {
        "colab": {
          "base_uri": "https://localhost:8080/",
          "height": 405
        },
        "id": "xkAGiKkGBteJ",
        "outputId": "7d7d5e05-fc04-4b2b-cb01-8d6c81ba97cf"
      },
      "source": [
        "print(history.history.keys())\n",
        "plot_history(\n",
        "    \"training info of mnist classification model\", \n",
        "    history.history['loss'], \n",
        "    history.history['val_loss'], \n",
        "    \"loss\", \n",
        "    history.history['accuracy'], \n",
        "    history.history['val_accuracy'], \n",
        "    \"accuracy\"\n",
        "    )"
      ],
      "execution_count": 408,
      "outputs": [
        {
          "output_type": "stream",
          "name": "stdout",
          "text": [
            "dict_keys(['loss', 'accuracy', 'val_loss', 'val_accuracy'])\n"
          ]
        },
        {
          "output_type": "display_data",
          "data": {
            "image/png": "[encoded data removed]",
            "text/plain": [
              "<Figure size 864x360 with 2 Axes>"
            ]
          },
          "metadata": {
            "needs_background": "light"
          }
        },
        {
          "output_type": "stream",
          "name": "stdout",
          "text": [
            "time: 403 ms (started: 2021-09-23 19:12:16 +00:00)\n"
          ]
        }
      ]
    },
    {
      "cell_type": "markdown",
      "metadata": {
        "id": "GYoW42LuFKNH"
      },
      "source": [
        "=> a little bit overfit"
      ]
    },
    {
      "cell_type": "code",
      "metadata": {
        "colab": {
          "base_uri": "https://localhost:8080/"
        },
        "id": "_H_QVv6CveoK",
        "outputId": "9064da6f-08db-48b0-98a2-f8ed660996ad"
      },
      "source": [
        "mnist_model.evaluate(X_test, y_test, verbose=2)"
      ],
      "execution_count": 409,
      "outputs": [
        {
          "output_type": "stream",
          "name": "stdout",
          "text": [
            "313/313 - 2s - loss: 0.0438 - accuracy: 0.9889\n"
          ]
        },
        {
          "output_type": "execute_result",
          "data": {
            "text/plain": [
              "[0.043796248733997345, 0.9889000058174133]"
            ]
          },
          "metadata": {},
          "execution_count": 409
        },
        {
          "output_type": "stream",
          "name": "stdout",
          "text": [
            "time: 2.39 s (started: 2021-09-23 19:12:17 +00:00)\n"
          ]
        }
      ]
    }
  ]
}