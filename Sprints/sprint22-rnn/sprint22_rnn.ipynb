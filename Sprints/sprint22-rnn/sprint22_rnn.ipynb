{
  "nbformat": 4,
  "nbformat_minor": 0,
  "metadata": {
    "colab": {
      "name": "sprint22-rnn.ipynb",
      "provenance": [],
      "collapsed_sections": []
    },
    "kernelspec": {
      "name": "python3",
      "display_name": "Python 3"
    },
    "language_info": {
      "name": "python"
    }
  },
  "cells": [
    {
      "cell_type": "code",
      "execution_count": 37,
      "metadata": {
        "id": "n4GTXjYh-zkw"
      },
      "outputs": [],
      "source": [
        "import numpy as np"
      ]
    },
    {
      "cell_type": "markdown",
      "source": [
        "# [Issue 1] Forward propagation implementation of SimpleRNN"
      ],
      "metadata": {
        "id": "x2Ur_2ZUOP13"
      }
    },
    {
      "cell_type": "code",
      "source": [
        "class Tanh:\n",
        "    def forward(self, A):\n",
        "        \"\"\"return Z\"\"\"\n",
        "        return np.tanh(A)\n",
        "    \n",
        "    def backward(self, dZ, Z):\n",
        "        \"\"\"return dA\"\"\"\n",
        "        return dZ * (1 - Z**2)"
      ],
      "metadata": {
        "id": "YX1kgOe3UbA2"
      },
      "execution_count": 38,
      "outputs": []
    },
    {
      "cell_type": "code",
      "source": [
        "class ReLU:\n",
        "    def forward(self, A):\n",
        "        return np.maximum(A, 0)\n",
        "    \n",
        "    def backward(self, dZ, Z):\n",
        "        return dZ * (Z > 0)"
      ],
      "metadata": {
        "id": "fZB4AK-pUfIw"
      },
      "execution_count": 39,
      "outputs": []
    },
    {
      "cell_type": "code",
      "source": [
        "class SimpleRNN:\n",
        "    def __init__(self, activation, w_x, w_h, b):\n",
        "        self.activation = activation\n",
        "        self.w_x = w_x\n",
        "        self.w_h = w_h\n",
        "        self.b = b\n",
        "\n",
        "    def forward(self, X):\n",
        "        new_h = np.zeros((batch_size, n_nodes))\n",
        "        for seq in range(0, X.shape[1]):\n",
        "            new_h = self.activation.forward((X[:, seq, :] @ self.w_x) + (new_h @ self.w_h) + self.b).astype(np.float64)\n",
        "        return new_h\n",
        "\n",
        "    def backward(self):\n",
        "        return"
      ],
      "metadata": {
        "id": "XqJjrb3b_zCT"
      },
      "execution_count": 40,
      "outputs": []
    },
    {
      "cell_type": "markdown",
      "source": [
        "# [Problem 2] Experiment of forward propagation with small sequence"
      ],
      "metadata": {
        "id": "Co7z49njOQ0M"
      }
    },
    {
      "cell_type": "code",
      "source": [
        "x = np.array([[[1, 2], [2, 3], [3, 4]]])/100 # (batch_size, n_sequences, n_features)\n",
        "w_x = np.array([[1, 3, 5, 7], [3, 5, 7, 8]])/100 # (n_features, n_nodes)\n",
        "w_h = np.array([[1, 3, 5, 7], [2, 4, 6, 8], [3, 5, 7, 8], [4, 6, 8, 10]])/100 # (n_nodes, n_nodes)\n",
        "batch_size = x.shape[0] # 1\n",
        "n_sequences = x.shape[1] # 3\n",
        "n_features = x.shape[2] # 2\n",
        "n_nodes = w_x.shape[1] # 4\n",
        "h = np.zeros((batch_size, n_nodes)) # (batch_size, n_nodes)\n",
        "b = np.array([1, 1, 1, 1]) # (n_nodes,)\n",
        "\n",
        "print(\"batch_size: {}\".format(batch_size))\n",
        "print(\"n_sequences: {}\".format(n_sequences))\n",
        "print(\"n_features: {}\".format(n_features))\n",
        "print(\"n_nodes: {}\".format(n_nodes))"
      ],
      "metadata": {
        "colab": {
          "base_uri": "https://localhost:8080/"
        },
        "id": "3i5QPeaFUi-z",
        "outputId": "c5c2b263-3f34-4c57-fdbe-ab76b4c4e660"
      },
      "execution_count": 41,
      "outputs": [
        {
          "output_type": "stream",
          "name": "stdout",
          "text": [
            "batch_size: 1\n",
            "n_sequences: 3\n",
            "n_features: 2\n",
            "n_nodes: 4\n"
          ]
        }
      ]
    },
    {
      "cell_type": "code",
      "source": [
        "rnn = SimpleRNN(Tanh(), w_x, w_h, b)\n",
        "\n",
        "new_h = rnn.forward(x)\n",
        "print(new_h)"
      ],
      "metadata": {
        "colab": {
          "base_uri": "https://localhost:8080/"
        },
        "id": "dXUxi8wOUtv9",
        "outputId": "5d1ee4ba-a1e4-4364-d89a-55efe3365948"
      },
      "execution_count": 42,
      "outputs": [
        {
          "output_type": "stream",
          "name": "stdout",
          "text": [
            "[[0.79494228 0.81839002 0.83939649 0.85584174]]\n"
          ]
        }
      ]
    },
    {
      "cell_type": "markdown",
      "source": [
        "<h4>output</h4>"
      ],
      "metadata": {
        "id": "MkHADN1zPlTZ"
      }
    },
    {
      "cell_type": "code",
      "source": [
        "h = np.array([[0.79494228, 0.81839002, 0.83939649, 0.85584174]]) # (batch_size, n_nodes)"
      ],
      "metadata": {
        "id": "CaRAb9yLPkBy"
      },
      "execution_count": 43,
      "outputs": []
    },
    {
      "cell_type": "markdown",
      "source": [
        "<h3>try with ReLU</h3>"
      ],
      "metadata": {
        "id": "BbGXYHRUYnul"
      }
    },
    {
      "cell_type": "code",
      "source": [
        "rnn = SimpleRNN(ReLU(), w_x, w_h, b)\n",
        "\n",
        "new_h = rnn.forward(x)\n",
        "print(new_h)"
      ],
      "metadata": {
        "colab": {
          "base_uri": "https://localhost:8080/"
        },
        "id": "8F4FeOO3YniD",
        "outputId": "65e1c77f-9a32-4cf1-b5c6-39ddbadbb8c6"
      },
      "execution_count": 44,
      "outputs": [
        {
          "output_type": "stream",
          "name": "stdout",
          "text": [
            "[[1.12744024 1.2264713  1.32550236 1.41149812]]\n"
          ]
        }
      ]
    }
  ]
}