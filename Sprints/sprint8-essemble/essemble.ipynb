{
 "metadata": {
  "language_info": {
   "codemirror_mode": {
    "name": "ipython",
    "version": 3
   },
   "file_extension": ".py",
   "mimetype": "text/x-python",
   "name": "python",
   "nbconvert_exporter": "python",
   "pygments_lexer": "ipython3",
   "version": "3.8.5"
  },
  "orig_nbformat": 4,
  "kernelspec": {
   "name": "python3",
   "display_name": "Python 3.8.5 64-bit"
  },
  "interpreter": {
   "hash": "31f2aee4e71d21fbe5cf8b01ff0e069b9275f58929596ceb00d14d90e3e16cd6"
  }
 },
 "nbformat": 4,
 "nbformat_minor": 2,
 "cells": [
  {
   "cell_type": "code",
   "execution_count": 153,
   "metadata": {},
   "outputs": [],
   "source": [
    "import numpy as np \n",
    "import pandas as pd"
   ]
  },
  {
   "cell_type": "code",
   "execution_count": 154,
   "metadata": {},
   "outputs": [
    {
     "output_type": "execute_result",
     "data": {
      "text/plain": [
       "   Id  MSSubClass MSZoning  LotFrontage  LotArea Street Alley LotShape  \\\n",
       "0   1          60       RL         65.0     8450   Pave   NaN      Reg   \n",
       "1   2          20       RL         80.0     9600   Pave   NaN      Reg   \n",
       "2   3          60       RL         68.0    11250   Pave   NaN      IR1   \n",
       "3   4          70       RL         60.0     9550   Pave   NaN      IR1   \n",
       "4   5          60       RL         84.0    14260   Pave   NaN      IR1   \n",
       "\n",
       "  LandContour Utilities  ... PoolArea PoolQC Fence MiscFeature MiscVal MoSold  \\\n",
       "0         Lvl    AllPub  ...        0    NaN   NaN         NaN       0      2   \n",
       "1         Lvl    AllPub  ...        0    NaN   NaN         NaN       0      5   \n",
       "2         Lvl    AllPub  ...        0    NaN   NaN         NaN       0      9   \n",
       "3         Lvl    AllPub  ...        0    NaN   NaN         NaN       0      2   \n",
       "4         Lvl    AllPub  ...        0    NaN   NaN         NaN       0     12   \n",
       "\n",
       "  YrSold  SaleType  SaleCondition  SalePrice  \n",
       "0   2008        WD         Normal     208500  \n",
       "1   2007        WD         Normal     181500  \n",
       "2   2008        WD         Normal     223500  \n",
       "3   2006        WD        Abnorml     140000  \n",
       "4   2008        WD         Normal     250000  \n",
       "\n",
       "[5 rows x 81 columns]"
      ],
      "text/html": "<div>\n<style scoped>\n    .dataframe tbody tr th:only-of-type {\n        vertical-align: middle;\n    }\n\n    .dataframe tbody tr th {\n        vertical-align: top;\n    }\n\n    .dataframe thead th {\n        text-align: right;\n    }\n</style>\n<table border=\"1\" class=\"dataframe\">\n  <thead>\n    <tr style=\"text-align: right;\">\n      <th></th>\n      <th>Id</th>\n      <th>MSSubClass</th>\n      <th>MSZoning</th>\n      <th>LotFrontage</th>\n      <th>LotArea</th>\n      <th>Street</th>\n      <th>Alley</th>\n      <th>LotShape</th>\n      <th>LandContour</th>\n      <th>Utilities</th>\n      <th>...</th>\n      <th>PoolArea</th>\n      <th>PoolQC</th>\n      <th>Fence</th>\n      <th>MiscFeature</th>\n      <th>MiscVal</th>\n      <th>MoSold</th>\n      <th>YrSold</th>\n      <th>SaleType</th>\n      <th>SaleCondition</th>\n      <th>SalePrice</th>\n    </tr>\n  </thead>\n  <tbody>\n    <tr>\n      <th>0</th>\n      <td>1</td>\n      <td>60</td>\n      <td>RL</td>\n      <td>65.0</td>\n      <td>8450</td>\n      <td>Pave</td>\n      <td>NaN</td>\n      <td>Reg</td>\n      <td>Lvl</td>\n      <td>AllPub</td>\n      <td>...</td>\n      <td>0</td>\n      <td>NaN</td>\n      <td>NaN</td>\n      <td>NaN</td>\n      <td>0</td>\n      <td>2</td>\n      <td>2008</td>\n      <td>WD</td>\n      <td>Normal</td>\n      <td>208500</td>\n    </tr>\n    <tr>\n      <th>1</th>\n      <td>2</td>\n      <td>20</td>\n      <td>RL</td>\n      <td>80.0</td>\n      <td>9600</td>\n      <td>Pave</td>\n      <td>NaN</td>\n      <td>Reg</td>\n      <td>Lvl</td>\n      <td>AllPub</td>\n      <td>...</td>\n      <td>0</td>\n      <td>NaN</td>\n      <td>NaN</td>\n      <td>NaN</td>\n      <td>0</td>\n      <td>5</td>\n      <td>2007</td>\n      <td>WD</td>\n      <td>Normal</td>\n      <td>181500</td>\n    </tr>\n    <tr>\n      <th>2</th>\n      <td>3</td>\n      <td>60</td>\n      <td>RL</td>\n      <td>68.0</td>\n      <td>11250</td>\n      <td>Pave</td>\n      <td>NaN</td>\n      <td>IR1</td>\n      <td>Lvl</td>\n      <td>AllPub</td>\n      <td>...</td>\n      <td>0</td>\n      <td>NaN</td>\n      <td>NaN</td>\n      <td>NaN</td>\n      <td>0</td>\n      <td>9</td>\n      <td>2008</td>\n      <td>WD</td>\n      <td>Normal</td>\n      <td>223500</td>\n    </tr>\n    <tr>\n      <th>3</th>\n      <td>4</td>\n      <td>70</td>\n      <td>RL</td>\n      <td>60.0</td>\n      <td>9550</td>\n      <td>Pave</td>\n      <td>NaN</td>\n      <td>IR1</td>\n      <td>Lvl</td>\n      <td>AllPub</td>\n      <td>...</td>\n      <td>0</td>\n      <td>NaN</td>\n      <td>NaN</td>\n      <td>NaN</td>\n      <td>0</td>\n      <td>2</td>\n      <td>2006</td>\n      <td>WD</td>\n      <td>Abnorml</td>\n      <td>140000</td>\n    </tr>\n    <tr>\n      <th>4</th>\n      <td>5</td>\n      <td>60</td>\n      <td>RL</td>\n      <td>84.0</td>\n      <td>14260</td>\n      <td>Pave</td>\n      <td>NaN</td>\n      <td>IR1</td>\n      <td>Lvl</td>\n      <td>AllPub</td>\n      <td>...</td>\n      <td>0</td>\n      <td>NaN</td>\n      <td>NaN</td>\n      <td>NaN</td>\n      <td>0</td>\n      <td>12</td>\n      <td>2008</td>\n      <td>WD</td>\n      <td>Normal</td>\n      <td>250000</td>\n    </tr>\n  </tbody>\n</table>\n<p>5 rows × 81 columns</p>\n</div>"
     },
     "metadata": {},
     "execution_count": 154
    }
   ],
   "source": [
    "house_data_root = pd.read_csv('./train.csv')\n",
    "house_data_root.head()"
   ]
  },
  {
   "cell_type": "code",
   "execution_count": 155,
   "metadata": {},
   "outputs": [
    {
     "output_type": "display_data",
     "data": {
      "text/plain": "array([[1710, 2003],\n       [1262, 1976],\n       [1786, 2001],\n       [1717, 1915],\n       [2198, 2000]])"
     },
     "metadata": {}
    },
    {
     "output_type": "display_data",
     "data": {
      "text/plain": "array([208500, 181500, 223500, 140000, 250000])"
     },
     "metadata": {}
    }
   ],
   "source": [
    "X = house_data_root.loc[:, ['GrLivArea', 'YearBuilt']].to_numpy()\n",
    "y = house_data_root['SalePrice'].to_numpy()\n",
    "\n",
    "display(X[:5])\n",
    "display(y[:5])"
   ]
  },
  {
   "cell_type": "code",
   "execution_count": 156,
   "metadata": {},
   "outputs": [],
   "source": [
    "from sklearn.model_selection import train_test_split\n",
    "\n",
    "X_train, X_test, y_train, y_test = train_test_split(X, y, test_size=0.2, random_state=69)"
   ]
  },
  {
   "cell_type": "code",
   "execution_count": 157,
   "metadata": {},
   "outputs": [
    {
     "output_type": "stream",
     "name": "stdout",
     "text": [
      "[[-1.93408803 -0.73766614]\n [ 2.04171325  1.17230386]\n [-1.37784917 -1.0340408 ]\n [ 0.36553036 -0.40836097]\n [-1.16132666  0.08559679]]\n"
     ]
    }
   ],
   "source": [
    "from sklearn.preprocessing import StandardScaler\n",
    "\n",
    "scaler = StandardScaler()\n",
    "scaler.fit(X_train)\n",
    "X_test = scaler.transform(X_test)\n",
    "X_train = scaler.transform(X_train)\n",
    "\n",
    "print(X_test[:5])"
   ]
  },
  {
   "cell_type": "code",
   "execution_count": 158,
   "metadata": {},
   "outputs": [],
   "source": [
    "from sklearn.metrics import mean_squared_error"
   ]
  },
  {
   "source": [
    "<h3>[Problem 1] Blending scratch mounting</h3>"
   ],
   "cell_type": "markdown",
   "metadata": {}
  },
  {
   "cell_type": "code",
   "execution_count": 159,
   "metadata": {},
   "outputs": [],
   "source": [
    "class ScratchBlendingRegressor():\n",
    "    def __init__(self, models):\n",
    "        self.models = models\n",
    "    \n",
    "    def fit(self, X_train, y_train):\n",
    "        for i in range(0, len(self.models)):\n",
    "            self.models[i].fit(X_train, y_train)\n",
    "    \n",
    "    def predict(self, X_test):\n",
    "        self.y_pred = []\n",
    "        for i in range(0, len(self.models)):\n",
    "            self.y_pred.append(self.models[i].predict(X_test))\n",
    "        return np.mean(self.y_pred, axis=0)"
   ]
  },
  {
   "cell_type": "code",
   "execution_count": 160,
   "metadata": {},
   "outputs": [],
   "source": [
    "from sklearn.linear_model import LinearRegression\n",
    "from sklearn.svm import SVR\n",
    "from sklearn.tree import DecisionTreeRegressor"
   ]
  },
  {
   "cell_type": "code",
   "execution_count": 161,
   "metadata": {},
   "outputs": [],
   "source": [
    "model1 = LinearRegression()\n",
    "model2 = SVR(kernel='poly', degree=3, C=1, epsilon=0.2)\n",
    "model3 = DecisionTreeRegressor(random_state=69)\n",
    "blending = ScratchBlendingRegressor(\n",
    "        models=[model1, model2, model3]\n",
    ")"
   ]
  },
  {
   "cell_type": "code",
   "execution_count": 162,
   "metadata": {},
   "outputs": [
    {
     "output_type": "stream",
     "name": "stdout",
     "text": [
      "MSE\n",
      "blending: 2548592206.480154\n",
      "LinearRegression(): 2046027454.2181535\n",
      "SVR(): 6397002593.666542\n",
      "DecisionTree(): 2763157707.3356166\n"
     ]
    }
   ],
   "source": [
    "print(\"MSE\")\n",
    "\n",
    "blending.fit(X_train, y_train)\n",
    "print(\"blending: {}\".format(mean_squared_error(y_test, blending.predict(X_test))))\n",
    "\n",
    "model1.fit(X_train, y_train)\n",
    "print(\"LinearRegression(): {}\".format(mean_squared_error(y_test, model1.predict(X_test))))\n",
    "\n",
    "model2.fit(X_train, y_train)\n",
    "print(\"SVR(): {}\".format(mean_squared_error(y_test, model2.predict(X_test))))\n",
    "\n",
    "model3.fit(X_train, y_train)\n",
    "print(\"DecisionTree(): {}\".format(mean_squared_error(y_test, model3.predict(X_test))))"
   ]
  },
  {
   "source": [
    "With blending with 3 models, we can see it is better than SVR, DecisionTreeRegressor single model in terms of MSE."
   ],
   "cell_type": "markdown",
   "metadata": {}
  },
  {
   "source": [
    "<h3>[Problem 2] Scratch mounting of bagging</h3>"
   ],
   "cell_type": "markdown",
   "metadata": {}
  },
  {
   "cell_type": "code",
   "execution_count": 163,
   "metadata": {},
   "outputs": [],
   "source": [
    "class ScratchBaggingRegressor():\n",
    "    def __init__(self, models, max_samples):\n",
    "        self.models = models\n",
    "        self.max_samples = max_samples\n",
    "    \n",
    "    def fit(self, X_train, y_train):\n",
    "        for i in range(0, len(self.models)):\n",
    "            X_train_sub, _, y_train_sub, _ = train_test_split(X_train, y_train, train_size=self.max_samples, shuffle=True)\n",
    "            indices = np.random.choice(y_train_sub.shape[0], size=np.round(y_train.shape[0] * (1 - self.max_samples)).astype(np.int64), replace=False)\n",
    "            X_train_sub = np.append(X_train_sub, X_train_sub[indices, :], axis=0)\n",
    "            y_train_sub = np.append(y_train_sub, y_train_sub[indices])\n",
    "            self.models[i].fit(X_train_sub, y_train_sub)\n",
    "    \n",
    "    def predict(self, X_test):\n",
    "        self.y_pred = []\n",
    "        for i in range(0, len(self.models)):\n",
    "            self.y_pred.append(self.models[i].predict(X_test))\n",
    "        return np.mean(self.y_pred, axis=0)"
   ]
  },
  {
   "cell_type": "code",
   "execution_count": 164,
   "metadata": {},
   "outputs": [],
   "source": [
    "bagging = ScratchBaggingRegressor(\n",
    "        models=[model1, model2, model3],\n",
    "        max_samples=0.7\n",
    ")"
   ]
  },
  {
   "cell_type": "code",
   "execution_count": 165,
   "metadata": {},
   "outputs": [
    {
     "output_type": "stream",
     "name": "stdout",
     "text": [
      "MSE\n",
      "bagging: 2518873508.1890936\n",
      "LinearRegression(): 2046027454.2181535\n",
      "SVR(): 6397002593.666542\n",
      "DecisionTree(): 2763157707.3356166\n"
     ]
    }
   ],
   "source": [
    "print(\"MSE\")\n",
    "\n",
    "bagging.fit(X_train, y_train)\n",
    "print(\"bagging: {}\".format(mean_squared_error(y_test, bagging.predict(X_test))))\n",
    "\n",
    "model1.fit(X_train, y_train)\n",
    "print(\"LinearRegression(): {}\".format(mean_squared_error(y_test, model1.predict(X_test))))\n",
    "\n",
    "model2.fit(X_train, y_train)\n",
    "print(\"SVR(): {}\".format(mean_squared_error(y_test, model2.predict(X_test))))\n",
    "\n",
    "model3.fit(X_train, y_train)\n",
    "print(\"DecisionTree(): {}\".format(mean_squared_error(y_test, model3.predict(X_test))))"
   ]
  },
  {
   "source": [
    "With bagging with 3 models, we can see it is better than SVR, DecisionTreeRegressor single model in terms of MSE. Moreover, it is better than pure blending."
   ],
   "cell_type": "markdown",
   "metadata": {}
  },
  {
   "source": [
    "<h3>[Problem 3] Stacking scratch mounting</h3>"
   ],
   "cell_type": "markdown",
   "metadata": {}
  },
  {
   "cell_type": "code",
   "execution_count": 166,
   "metadata": {},
   "outputs": [],
   "source": [
    "class ScratchStackingRegressor():\n",
    "    def __init__(self, models, final_model, K, random_state):\n",
    "        self.models = models\n",
    "        self.final_model = final_model\n",
    "        self.M = len(self.models)\n",
    "        self.K = K\n",
    "        self.random_state = random_state\n",
    "\n",
    "    def fit(self, X_train, y_train):\n",
    "        #stage 0\n",
    "        np.random.seed(self.random_state)\n",
    "        X_train, X_test, y_train, y_test = train_test_split(X_train,\n",
    "                                                        y_train,\n",
    "                                                        test_size=1/self.K,\n",
    "                                                        shuffle=True\n",
    "                                                        )\n",
    "        y_pred0 = []\n",
    "        for i in range(0, self.M):\n",
    "            self.models[i].fit(X_train, y_train)\n",
    "            y_pred0.append(self.models[i].predict(X_test))\n",
    "        y_pred0 = np.array(y_pred0).reshape(len(y_pred0[0]), len(y_pred0))\n",
    "        \n",
    "        #stage 1\n",
    "        self.final_model.fit(y_pred0, y_test)\n",
    "\n",
    "    def predict(self, X_test):\n",
    "        #stage 0\n",
    "        y_pred0 = []\n",
    "        for i in range(0, self.M):\n",
    "            y_pred0.append(self.models[i].predict(X_test))\n",
    "        y_pred0 = np.array(y_pred0).reshape(len(y_pred0[0]), len(y_pred0))\n",
    "\n",
    "        #stage 1\n",
    "        return self.final_model.predict(y_pred0)"
   ]
  },
  {
   "cell_type": "code",
   "execution_count": 167,
   "metadata": {},
   "outputs": [],
   "source": [
    "stacking = ScratchStackingRegressor(\n",
    "        models=[model1, model2],\n",
    "        final_model=model3,\n",
    "        K=2,\n",
    "        random_state=69\n",
    ")"
   ]
  },
  {
   "cell_type": "code",
   "execution_count": 169,
   "metadata": {},
   "outputs": [
    {
     "output_type": "stream",
     "name": "stdout",
     "text": [
      "MSE\nstacking: 13454954860.938356\nLinearRegression(): 2046027454.2181535\nSVR(): 6397002593.666542\nDecisionTree(): 2763157707.3356166\n"
     ]
    }
   ],
   "source": [
    "print(\"MSE\")\n",
    "\n",
    "stacking.fit(X_train, y_train)\n",
    "print(\"stacking: {}\".format(mean_squared_error(y_test, stacking.predict(X_test))))\n",
    "\n",
    "model1.fit(X_train, y_train)\n",
    "print(\"LinearRegression(): {}\".format(mean_squared_error(y_test, model1.predict(X_test))))\n",
    "\n",
    "model2.fit(X_train, y_train)\n",
    "print(\"SVR(): {}\".format(mean_squared_error(y_test, model2.predict(X_test))))\n",
    "\n",
    "model3.fit(X_train, y_train)\n",
    "print(\"DecisionTree(): {}\".format(mean_squared_error(y_test, model3.predict(X_test))))"
   ]
  }
 ]
}